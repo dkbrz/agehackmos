{
 "cells": [
  {
   "cell_type": "code",
   "execution_count": 1,
   "metadata": {},
   "outputs": [],
   "source": [
    "import pandas as pd"
   ]
  },
  {
   "cell_type": "code",
   "execution_count": 2,
   "metadata": {},
   "outputs": [],
   "source": [
    "dct = pd.read_excel('../data/dict.xlsx')"
   ]
  },
  {
   "cell_type": "code",
   "execution_count": 17,
   "metadata": {},
   "outputs": [
    {
     "data": {
      "text/html": [
       "<div>\n",
       "<style scoped>\n",
       "    .dataframe tbody tr th:only-of-type {\n",
       "        vertical-align: middle;\n",
       "    }\n",
       "\n",
       "    .dataframe tbody tr th {\n",
       "        vertical-align: top;\n",
       "    }\n",
       "\n",
       "    .dataframe thead th {\n",
       "        text-align: right;\n",
       "    }\n",
       "</style>\n",
       "<table border=\"1\" class=\"dataframe\">\n",
       "  <thead>\n",
       "    <tr style=\"text-align: right;\">\n",
       "      <th></th>\n",
       "      <th>Разметка: Для ума/ Для души / Для тела</th>\n",
       "      <th>id_level1</th>\n",
       "      <th>level1</th>\n",
       "      <th>id_level2</th>\n",
       "      <th>level2</th>\n",
       "      <th>id_level3</th>\n",
       "      <th>leve3</th>\n",
       "      <th>d_level1</th>\n",
       "      <th>d_level2</th>\n",
       "      <th>d_level3</th>\n",
       "    </tr>\n",
       "  </thead>\n",
       "  <tbody>\n",
       "    <tr>\n",
       "      <th>0</th>\n",
       "      <td>Для ума</td>\n",
       "      <td>649</td>\n",
       "      <td>Игры</td>\n",
       "      <td>651</td>\n",
       "      <td>Интеллектуальные игры</td>\n",
       "      <td>1042</td>\n",
       "      <td>Иные интеллектуальные игры</td>\n",
       "      <td>Занятия по изучению правил игр, основанных на ...</td>\n",
       "      <td>NaN</td>\n",
       "      <td>NaN</td>\n",
       "    </tr>\n",
       "    <tr>\n",
       "      <th>1</th>\n",
       "      <td>Для ума</td>\n",
       "      <td>649</td>\n",
       "      <td>Игры</td>\n",
       "      <td>651</td>\n",
       "      <td>Интеллектуальные игры</td>\n",
       "      <td>1040</td>\n",
       "      <td>Викторины</td>\n",
       "      <td>Занятия по изучению правил игры, которая заклю...</td>\n",
       "      <td>NaN</td>\n",
       "      <td>NaN</td>\n",
       "    </tr>\n",
       "    <tr>\n",
       "      <th>2</th>\n",
       "      <td>Для ума</td>\n",
       "      <td>649</td>\n",
       "      <td>Игры</td>\n",
       "      <td>651</td>\n",
       "      <td>Интеллектуальные игры</td>\n",
       "      <td>1041</td>\n",
       "      <td>Квест</td>\n",
       "      <td>Занятия по изучению способов решений головолом...</td>\n",
       "      <td>NaN</td>\n",
       "      <td>NaN</td>\n",
       "    </tr>\n",
       "    <tr>\n",
       "      <th>3</th>\n",
       "      <td>Для ума</td>\n",
       "      <td>649</td>\n",
       "      <td>Игры</td>\n",
       "      <td>651</td>\n",
       "      <td>Интеллектуальные игры</td>\n",
       "      <td>1043</td>\n",
       "      <td>Брейн-ринг</td>\n",
       "      <td>Занятия по изучению правил игры, в которой поб...</td>\n",
       "      <td>NaN</td>\n",
       "      <td>NaN</td>\n",
       "    </tr>\n",
       "    <tr>\n",
       "      <th>4</th>\n",
       "      <td>Для ума</td>\n",
       "      <td>649</td>\n",
       "      <td>Игры</td>\n",
       "      <td>650</td>\n",
       "      <td>Настольные игры</td>\n",
       "      <td>323</td>\n",
       "      <td>Современные настольные игры</td>\n",
       "      <td>Занятия по изучению правил современных игр, ра...</td>\n",
       "      <td>NaN</td>\n",
       "      <td>NaN</td>\n",
       "    </tr>\n",
       "  </tbody>\n",
       "</table>\n",
       "</div>"
      ],
      "text/plain": [
       "  Разметка: Для ума/ Для души / Для тела  id_level1 level1  id_level2  \\\n",
       "0                                Для ума        649   Игры        651   \n",
       "1                                Для ума        649   Игры        651   \n",
       "2                                Для ума        649   Игры        651   \n",
       "3                                Для ума        649   Игры        651   \n",
       "4                                Для ума        649   Игры        650   \n",
       "\n",
       "                  level2  id_level3                        leve3  \\\n",
       "0  Интеллектуальные игры       1042   Иные интеллектуальные игры   \n",
       "1  Интеллектуальные игры       1040                    Викторины   \n",
       "2  Интеллектуальные игры       1041                        Квест   \n",
       "3  Интеллектуальные игры       1043                   Брейн-ринг   \n",
       "4        Настольные игры        323  Современные настольные игры   \n",
       "\n",
       "                                            d_level1  d_level2  d_level3  \n",
       "0  Занятия по изучению правил игр, основанных на ...       NaN       NaN  \n",
       "1  Занятия по изучению правил игры, которая заклю...       NaN       NaN  \n",
       "2  Занятия по изучению способов решений головолом...       NaN       NaN  \n",
       "3  Занятия по изучению правил игры, в которой поб...       NaN       NaN  \n",
       "4  Занятия по изучению правил современных игр, ра...       NaN       NaN  "
      ]
     },
     "execution_count": 17,
     "metadata": {},
     "output_type": "execute_result"
    }
   ],
   "source": [
    "dct.head()"
   ]
  },
  {
   "cell_type": "code",
   "execution_count": 5,
   "metadata": {},
   "outputs": [],
   "source": [
    "dct['level1'] = dct['level1'].apply(lambda x: x.replace('ОНЛАЙН', '').strip() if 'ОНЛАЙН' in x else x)\n",
    "dct['level2'] = dct['level2'].apply(lambda x: x.replace('ОНЛАЙН', '').strip() if 'ОНЛАЙН' in x else x)\n",
    "dct['leve3'] = dct['leve3'].apply(lambda x: x.replace('ОНЛАЙН', '').strip() if 'ОНЛАЙН' in x else x)"
   ]
  },
  {
   "cell_type": "code",
   "execution_count": 21,
   "metadata": {},
   "outputs": [],
   "source": [
    "dct = dct.groupby(['level1', 'level2', 'leve3'], as_index=False).agg({\n",
    "    'Разметка: Для ума/ Для души / Для тела': 'first',\n",
    "    'id_level1': 'min',\n",
    "    'id_level2': 'min',\n",
    "    'id_level3': 'min',\n",
    "})"
   ]
  },
  {
   "cell_type": "code",
   "execution_count": 24,
   "metadata": {},
   "outputs": [],
   "source": [
    "dct = dct[['id_level1', 'id_level2', 'id_level3', 'level1', 'level2', 'leve3', 'Разметка: Для ума/ Для души / Для тела']]\n",
    "dct.columns = ['cat1_id', 'cat2_id', 'cat3_id', 'cat1_name', 'cat2_name', 'cat3_name', 'branch']"
   ]
  },
  {
   "cell_type": "code",
   "execution_count": 26,
   "metadata": {},
   "outputs": [],
   "source": [
    "dct.to_csv('../data/dict.csv')"
   ]
  }
 ],
 "metadata": {
  "kernelspec": {
   "display_name": "Python 3",
   "language": "python",
   "name": "python3"
  },
  "language_info": {
   "codemirror_mode": {
    "name": "ipython",
    "version": 3
   },
   "file_extension": ".py",
   "mimetype": "text/x-python",
   "name": "python",
   "nbconvert_exporter": "python",
   "pygments_lexer": "ipython3",
   "version": "3.8.10"
  }
 },
 "nbformat": 4,
 "nbformat_minor": 4
}
