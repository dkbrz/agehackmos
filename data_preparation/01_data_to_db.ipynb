{
 "cells": [
  {
   "cell_type": "code",
   "execution_count": 1,
   "metadata": {},
   "outputs": [],
   "source": [
    "import pandas as pd\n",
    "import seaborn as sns\n",
    "from tqdm.auto import tqdm\n",
    "from collections import Counter\n",
    "from nltk.tokenize import wordpunct_tokenize\n",
    "import re\n",
    "from string import punctuation"
   ]
  },
  {
   "cell_type": "code",
   "execution_count": 4,
   "metadata": {},
   "outputs": [],
   "source": [
    "attend = pd.read_csv('../data/attend.csv')\n",
    "groups = pd.read_csv('../data/groups.csv')\n",
    "test = pd.read_csv('../data/test.csv')\n",
    "users = pd.read_csv('../data/users.csv')\n",
    "\n",
    "dct = pd.read_csv('../data/dict.csv')"
   ]
  },
  {
   "cell_type": "markdown",
   "metadata": {},
   "source": [
    "## Юзеры"
   ]
  },
  {
   "cell_type": "code",
   "execution_count": 5,
   "metadata": {},
   "outputs": [],
   "source": [
    "postal_codes = pd.read_csv('postal_codes.csv')\n",
    "\n",
    "atypes = {\n",
    "    'парк', 'улица', 'пл', 'ул', 'шоссе', 'км', 'пр', 'кт', 'мжд'\n",
    "}\n",
    "\n",
    "postal_codes['splitted'] = postal_codes['street'].apply(\n",
    "    lambda x: tuple(\n",
    "        sorted(\n",
    "            i.lower().replace('ё', 'е') \n",
    "            for i in wordpunct_tokenize(x) \n",
    "            if len(i) > 1 and i[0] not in '0123456789' and i.lower() not in atypes\n",
    "        )\n",
    "    )\n",
    ")\n",
    "\n",
    "grouped = postal_codes.groupby(['splitted', 'postal_code']).agg(lambda x: list(x)[0])\n",
    "\n",
    "postal_codes = grouped.reset_index()\n",
    "\n",
    "\n",
    "to_skip = {\n",
    "    'авиаконструктора', 'адмирала', 'академика', 'архитектора', 'братьев', 'ветеранов', 'генерала',\n",
    "    'героев', 'защитников', 'космонавта', 'летчика', 'маршала', \n",
    "    'воскресенско', 'москва', 'мжд'\n",
    "}\n",
    "\n",
    "names = {\n",
    "    'александра', 'алексея', 'бориса', 'василия', 'дмитрия', 'ивана', 'константина',\n",
    "     'льва', 'марии', 'михаила', 'наташи', 'николая', 'павла', 'петра', 'сергея', 'степана', 'федора',\n",
    "}\n",
    "\n",
    "postal_codes['head'] = [\n",
    "    None if len(j) == 0 else j[0]\n",
    "    for j in \n",
    "    [\n",
    "        [i for i in splitted if len(i) >= 4 and i not in to_skip and i not in names and i not in atypes]\n",
    "        if splitted and max(len(i) for i in splitted) > 3\n",
    "        else []\n",
    "        for code, splitted in postal_codes[['postal_code', 'splitted']].values\n",
    "    ]\n",
    "]\n",
    "\n",
    "grouped = postal_codes.groupby('head').agg(list)\n",
    "grouped = grouped[grouped['postal_code'].apply(lambda x: len(set(x))) > 1]\n",
    "not_ok = set(grouped.index)"
   ]
  },
  {
   "cell_type": "code",
   "execution_count": 6,
   "metadata": {},
   "outputs": [
    {
     "data": {
      "text/plain": [
       "(117198, ('ленинский',))"
      ]
     },
     "execution_count": 6,
     "metadata": {},
     "output_type": "execute_result"
    }
   ],
   "source": [
    "simple_dict = {\n",
    "    head: (code, splitted)\n",
    "    for code, splitted, head in postal_codes[['postal_code', 'splitted', 'head']].values\n",
    "    if splitted and head not in not_ok\n",
    "}\n",
    "\n",
    "simple_dict['ленинский']"
   ]
  },
  {
   "cell_type": "code",
   "execution_count": 7,
   "metadata": {},
   "outputs": [],
   "source": [
    "users['code'] = users['адрес проживания'].apply(wordpunct_tokenize).apply(\n",
    "    lambda x: [\n",
    "        simple_dict[i.lower().strip().replace('ё', 'е')]  \n",
    "        for i in x\n",
    "        if len(x) > 1 and i.lower().strip().replace('ё', 'е') in simple_dict\n",
    "    ]\n",
    "    if type(x) == list else []\n",
    ")"
   ]
  },
  {
   "cell_type": "code",
   "execution_count": 9,
   "metadata": {},
   "outputs": [
    {
     "data": {
      "text/html": [
       "<div>\n",
       "<style scoped>\n",
       "    .dataframe tbody tr th:only-of-type {\n",
       "        vertical-align: middle;\n",
       "    }\n",
       "\n",
       "    .dataframe tbody tr th {\n",
       "        vertical-align: top;\n",
       "    }\n",
       "\n",
       "    .dataframe thead th {\n",
       "        text-align: right;\n",
       "    }\n",
       "</style>\n",
       "<table border=\"1\" class=\"dataframe\">\n",
       "  <thead>\n",
       "    <tr style=\"text-align: right;\">\n",
       "      <th></th>\n",
       "      <th>уникальный номер</th>\n",
       "      <th>дата создание личного дела</th>\n",
       "      <th>пол</th>\n",
       "      <th>дата рождения</th>\n",
       "      <th>адрес проживания</th>\n",
       "      <th>code</th>\n",
       "    </tr>\n",
       "  </thead>\n",
       "  <tbody>\n",
       "    <tr>\n",
       "      <th>0</th>\n",
       "      <td>101391104</td>\n",
       "      <td>2019-02-26 15:52:09.000</td>\n",
       "      <td>Женщина</td>\n",
       "      <td>1959-09-10</td>\n",
       "      <td>город москва, константинова, дом 30</td>\n",
       "      <td>[(129164, (константинова,))]</td>\n",
       "    </tr>\n",
       "  </tbody>\n",
       "</table>\n",
       "</div>"
      ],
      "text/plain": [
       "   уникальный номер дата создание личного дела      пол дата рождения  \\\n",
       "0         101391104    2019-02-26 15:52:09.000  Женщина    1959-09-10   \n",
       "\n",
       "                      адрес проживания                          code  \n",
       "0  город москва, константинова, дом 30  [(129164, (константинова,))]  "
      ]
     },
     "execution_count": 9,
     "metadata": {},
     "output_type": "execute_result"
    }
   ],
   "source": [
    "users.head(1)"
   ]
  },
  {
   "cell_type": "code",
   "execution_count": 10,
   "metadata": {},
   "outputs": [],
   "source": [
    "manual = {\n",
    "    'варшавское шоссе': 115127, \n",
    "    'ярославское шоссе': 129626,\n",
    "    'ореховый бульвар': 115551,\n",
    "    'боровское шоссе': 108810,\n",
    "    'проспект мира': 127083, \n",
    "    'бескудниковский бульвар': 127247, \n",
    "    'кутузовский проспект': 121108, \n",
    "    'измайловский бульвар': 105043\n",
    "}"
   ]
  },
  {
   "cell_type": "code",
   "execution_count": 11,
   "metadata": {},
   "outputs": [],
   "source": [
    "users['code'] = users['адрес проживания'].apply(wordpunct_tokenize).apply(\n",
    "    lambda x: [\n",
    "        simple_dict[i.lower().strip().replace('ё', 'е')]  \n",
    "        for i in x\n",
    "        if len(x) > 1 and i.lower().strip().replace('ё', 'е') in simple_dict\n",
    "    ]\n",
    "    if type(x) == list else []\n",
    ").apply(lambda x: x[0][0] if len(x) > 0 else None)"
   ]
  },
  {
   "cell_type": "code",
   "execution_count": 12,
   "metadata": {},
   "outputs": [],
   "source": [
    "users_new = pd.DataFrame({\n",
    "    'user_id': users['уникальный номер'],\n",
    "    'created_at': pd.to_datetime(users['дата создание личного дела']),\n",
    "    'is_woman': (users['пол'] == 'Женщина').astype(int),\n",
    "    'date_of_birth': pd.to_datetime(users['дата рождения']),\n",
    "    'postal_code': users['code'].fillna(0).astype(int)\n",
    "})"
   ]
  },
  {
   "cell_type": "code",
   "execution_count": 13,
   "metadata": {},
   "outputs": [],
   "source": [
    "users_new.to_csv('../data/new_users.csv', index=None)"
   ]
  },
  {
   "cell_type": "markdown",
   "metadata": {},
   "source": [
    "## Посещения"
   ]
  },
  {
   "cell_type": "code",
   "execution_count": 14,
   "metadata": {},
   "outputs": [],
   "source": [
    "attend_new = pd.DataFrame({\n",
    "    'event_id': attend['уникальный номер занятия'],\n",
    "    'group_id': attend['уникальный номер группы'],\n",
    "    'user_id': attend['уникальный номер участника'],\n",
    "    'event_date': attend['дата занятия'],\n",
    "    'event_start': attend['время начала занятия'].apply(lambda x: int(x[:2]) + int(x[3:5]) / 60),\n",
    "    'event_end': attend['время окончания занятия'].apply(lambda x: int(x[:2]) + int(x[3:5]) / 60),\n",
    "    'is_online': (attend['онлайн/офлайн'] == 'Да').astype(int)\n",
    "})\n",
    "\n",
    "attend_new.to_csv('new_attend.csv', index=None)"
   ]
  },
  {
   "cell_type": "markdown",
   "metadata": {},
   "source": [
    "## Группы\n",
    "\n",
    "### Расписание"
   ]
  },
  {
   "cell_type": "code",
   "execution_count": 15,
   "metadata": {},
   "outputs": [],
   "source": [
    "reg_dates = '([0-9]{2}\\.[0-9]{2}\\.[0-9]{4})'\n",
    "reg_time = '[0-9]{2}:[0-9]{2}-[0-9]{2}:[0-9]{2}'\n",
    "\n",
    "DAYS = {'Пн': 1, 'Вт': 2, 'Ср':3 , 'Чт': 4, 'Пт': 5, 'Сб': 6, 'Вс': 7}\n",
    "\n",
    "def parse_date_string(x):\n",
    "    if len(re.findall(reg_dates, x)) > 2:\n",
    "        return [\n",
    "            parse_date_string(y)[0]\n",
    "            for y in x.split(';')\n",
    "        ]\n",
    "    \n",
    "    start, finish = tuple(re.findall(reg_dates, x))\n",
    "    start = start[6:] + '-' + start[3:5] + '-' + start[:2]\n",
    "    finish = finish[6:] + '-' + finish[3:5] + '-' + finish[:2]\n",
    "    \n",
    "    x = x.split(finish)[-1].strip()\n",
    "    \n",
    "    timetable = []\n",
    "    days = []\n",
    "    for item in x.split():\n",
    "        item = item.strip(punctuation)\n",
    "        if item in {'Пн', 'Вт', 'Ср', 'Чт', 'Пт', 'Сб', 'Вс'}:\n",
    "            days.append(item)\n",
    "        elif re.match(reg_time, item):\n",
    "            timetable.extend([(DAYS[day], int(item[:2]) + int(item[3:5]) / 60, int(item[6:8]) + int(item[9:11]) / 60) for day in days])\n",
    "            days = []\n",
    "    \n",
    "    return [(start, finish, timetable)]"
   ]
  },
  {
   "cell_type": "code",
   "execution_count": 16,
   "metadata": {},
   "outputs": [],
   "source": [
    "groups['timetable_closed'] = groups['расписание в закрытых периодах'].apply(lambda x: parse_date_string(x) if type(x) == str else [])\n",
    "groups['timetable_open'] = groups['расписание в активных периодах'].apply(lambda x: parse_date_string(x) if type(x) == str else [])\n",
    "groups['timetable_plan'] = groups['расписание в плановом периоде'].apply(lambda x: parse_date_string(x) if type(x) == str else [])"
   ]
  },
  {
   "cell_type": "markdown",
   "metadata": {},
   "source": [
    "### Локации"
   ]
  },
  {
   "cell_type": "code",
   "execution_count": 17,
   "metadata": {},
   "outputs": [],
   "source": [
    "s_types = {\n",
    "    'улица', 'шоссе', 'переулок', 'проспект', 'проезд', \n",
    "    'бульвар', 'переулок', 'набережная', 'парк',\n",
    "    'тупик', 'ул', 'аллея', 'линия', 'просек'\n",
    "#     , 'площадь'\n",
    "}\n",
    "\n",
    "def split_locations(x):\n",
    "    address = x['адрес площадки']\n",
    "    district = x['округ площадки']\n",
    "    zone = x['район площадки']\n",
    "    \n",
    "    if 'онлайн' in x['направление 3'].lower():\n",
    "        return -1, address, district, zone, []\n",
    "    elif type(district) == float:\n",
    "        return -3, address, district, zone, []\n",
    "    \n",
    "    if ',' in district:\n",
    "        status = 2\n",
    "        district = [i.strip() for i in district.split(',')]\n",
    "        zone = [i.strip() for i in zone.split(',')]\n",
    "    else:\n",
    "        status = 1\n",
    "        district = [district]\n",
    "        zone = [zone]\n",
    "    \n",
    "    address_new = []\n",
    "    city = None\n",
    "    for item in address.split(','):\n",
    "        item = item.lower().strip().replace('.', '')\n",
    "#         print(item)\n",
    "        if len(set([i for i in item.split()]) & s_types) > 0 and city is not None:\n",
    "#             print('YES', item)\n",
    "            address_new.append((city, item.strip()))\n",
    "            city = None\n",
    "            continue\n",
    "        elif 'моск' in item:\n",
    "            city = 'москва'\n",
    "            continue\n",
    "        elif 'город' in item or 'г.' in item or 'посел' in item or 'край' in item or 'республика' in item:\n",
    "            city = item.strip()\n",
    "            continue\n",
    "            \n",
    "    if status == 1:\n",
    "        address_new = address_new[:1]\n",
    "        \n",
    "#         else:\n",
    "#             print('NO', item)\n",
    "#     print(len(district), len(zone), len(address_new))\n",
    "    return status, address, district, zone, address_new"
   ]
  },
  {
   "cell_type": "code",
   "execution_count": 18,
   "metadata": {},
   "outputs": [],
   "source": [
    "groups['location'] = groups[['направление 3', 'адрес площадки', 'округ площадки', 'район площадки']].apply(split_locations, axis=1)\n",
    "\n",
    "groups['is_online'] = groups['location'].apply(lambda x: x[0] == -1).astype(int)\n",
    "groups['is_mobile'] = groups['location'].apply(lambda x: x[0] == -3).astype(int)\n",
    "\n",
    "groups['loc_type'] = groups['location'].apply(lambda x: x[0])\n",
    "groups['match_loc'] = groups['location'].apply(lambda x: len(x[2]) == len(x[4]) if type(x[2]) == list and type(x[4]) == list else -1).astype(float)"
   ]
  },
  {
   "cell_type": "code",
   "execution_count": 19,
   "metadata": {},
   "outputs": [
    {
     "data": {
      "text/html": [
       "<div>\n",
       "<style scoped>\n",
       "    .dataframe tbody tr th:only-of-type {\n",
       "        vertical-align: middle;\n",
       "    }\n",
       "\n",
       "    .dataframe tbody tr th {\n",
       "        vertical-align: top;\n",
       "    }\n",
       "\n",
       "    .dataframe thead th {\n",
       "        text-align: right;\n",
       "    }\n",
       "</style>\n",
       "<table border=\"1\" class=\"dataframe\">\n",
       "  <thead>\n",
       "    <tr style=\"text-align: right;\">\n",
       "      <th></th>\n",
       "      <th></th>\n",
       "      <th></th>\n",
       "      <th></th>\n",
       "      <th>is_online</th>\n",
       "    </tr>\n",
       "    <tr>\n",
       "      <th>loc_type</th>\n",
       "      <th>is_online</th>\n",
       "      <th>is_mobile</th>\n",
       "      <th>match_loc</th>\n",
       "      <th></th>\n",
       "    </tr>\n",
       "  </thead>\n",
       "  <tbody>\n",
       "    <tr>\n",
       "      <th>-3</th>\n",
       "      <th>0</th>\n",
       "      <th>1</th>\n",
       "      <th>-1.0</th>\n",
       "      <td>119</td>\n",
       "    </tr>\n",
       "    <tr>\n",
       "      <th>-1</th>\n",
       "      <th>1</th>\n",
       "      <th>0</th>\n",
       "      <th>-1.0</th>\n",
       "      <td>7497</td>\n",
       "    </tr>\n",
       "    <tr>\n",
       "      <th rowspan=\"2\" valign=\"top\">1</th>\n",
       "      <th rowspan=\"2\" valign=\"top\">0</th>\n",
       "      <th rowspan=\"2\" valign=\"top\">0</th>\n",
       "      <th>0.0</th>\n",
       "      <td>575</td>\n",
       "    </tr>\n",
       "    <tr>\n",
       "      <th>1.0</th>\n",
       "      <td>16967</td>\n",
       "    </tr>\n",
       "    <tr>\n",
       "      <th rowspan=\"2\" valign=\"top\">2</th>\n",
       "      <th rowspan=\"2\" valign=\"top\">0</th>\n",
       "      <th rowspan=\"2\" valign=\"top\">0</th>\n",
       "      <th>0.0</th>\n",
       "      <td>137</td>\n",
       "    </tr>\n",
       "    <tr>\n",
       "      <th>1.0</th>\n",
       "      <td>1708</td>\n",
       "    </tr>\n",
       "  </tbody>\n",
       "</table>\n",
       "</div>"
      ],
      "text/plain": [
       "                                        is_online\n",
       "loc_type is_online is_mobile match_loc           \n",
       "-3       0         1         -1.0             119\n",
       "-1       1         0         -1.0            7497\n",
       " 1       0         0          0.0             575\n",
       "                              1.0           16967\n",
       " 2       0         0          0.0             137\n",
       "                              1.0            1708"
      ]
     },
     "execution_count": 19,
     "metadata": {},
     "output_type": "execute_result"
    }
   ],
   "source": [
    "groups.groupby(['loc_type', 'is_online', 'is_mobile', 'match_loc']).agg({'is_online': 'count'})"
   ]
  },
  {
   "cell_type": "code",
   "execution_count": 20,
   "metadata": {},
   "outputs": [],
   "source": [
    "def location_code(x):\n",
    "    if x[0] < 0:\n",
    "        return None\n",
    "    result = []\n",
    "    if type(x[2]) == list and type(x[4]) == list and len(x[2]) == len(x[4]):\n",
    "        for c, loc in x[4]:\n",
    "            loc = loc.lower().strip().replace('ё', 'е')\n",
    "            loc_match = [i for i in loc.split() if i in simple_dict]\n",
    "            if loc_match:\n",
    "                result.append(simple_dict[loc_match[0]][0])\n",
    "            elif loc in manual:\n",
    "                result.append(manual[loc])\n",
    "            else:\n",
    "                result.append(None)\n",
    "    return result"
   ]
  },
  {
   "cell_type": "code",
   "execution_count": 21,
   "metadata": {},
   "outputs": [],
   "source": [
    "groups['codes'] = groups['location'].apply(location_code)"
   ]
  },
  {
   "cell_type": "code",
   "execution_count": 22,
   "metadata": {},
   "outputs": [],
   "source": [
    "groups['districts'] = groups['location'].apply(lambda x: x[2])\n",
    "groups['zones'] = groups['location'].apply(lambda x: x[3])"
   ]
  },
  {
   "cell_type": "markdown",
   "metadata": {},
   "source": [
    "### Направления"
   ]
  },
  {
   "cell_type": "code",
   "execution_count": 23,
   "metadata": {},
   "outputs": [
    {
     "data": {
      "text/html": [
       "<div>\n",
       "<style scoped>\n",
       "    .dataframe tbody tr th:only-of-type {\n",
       "        vertical-align: middle;\n",
       "    }\n",
       "\n",
       "    .dataframe tbody tr th {\n",
       "        vertical-align: top;\n",
       "    }\n",
       "\n",
       "    .dataframe thead th {\n",
       "        text-align: right;\n",
       "    }\n",
       "</style>\n",
       "<table border=\"1\" class=\"dataframe\">\n",
       "  <thead>\n",
       "    <tr style=\"text-align: right;\">\n",
       "      <th></th>\n",
       "      <th>Unnamed: 0</th>\n",
       "      <th>cat1_id</th>\n",
       "      <th>cat2_id</th>\n",
       "      <th>cat3_id</th>\n",
       "      <th>cat1_name</th>\n",
       "      <th>cat2_name</th>\n",
       "      <th>cat3_name</th>\n",
       "      <th>branch</th>\n",
       "    </tr>\n",
       "  </thead>\n",
       "  <tbody>\n",
       "    <tr>\n",
       "      <th>0</th>\n",
       "      <td>0</td>\n",
       "      <td>649</td>\n",
       "      <td>651</td>\n",
       "      <td>1043</td>\n",
       "      <td>Игры</td>\n",
       "      <td>Интеллектуальные игры</td>\n",
       "      <td>Брейн-ринг</td>\n",
       "      <td>Для ума</td>\n",
       "    </tr>\n",
       "    <tr>\n",
       "      <th>1</th>\n",
       "      <td>1</td>\n",
       "      <td>649</td>\n",
       "      <td>651</td>\n",
       "      <td>1040</td>\n",
       "      <td>Игры</td>\n",
       "      <td>Интеллектуальные игры</td>\n",
       "      <td>Викторины</td>\n",
       "      <td>Для ума</td>\n",
       "    </tr>\n",
       "    <tr>\n",
       "      <th>2</th>\n",
       "      <td>2</td>\n",
       "      <td>649</td>\n",
       "      <td>651</td>\n",
       "      <td>1042</td>\n",
       "      <td>Игры</td>\n",
       "      <td>Интеллектуальные игры</td>\n",
       "      <td>Иные интеллектуальные игры</td>\n",
       "      <td>Для ума</td>\n",
       "    </tr>\n",
       "    <tr>\n",
       "      <th>3</th>\n",
       "      <td>3</td>\n",
       "      <td>649</td>\n",
       "      <td>651</td>\n",
       "      <td>1041</td>\n",
       "      <td>Игры</td>\n",
       "      <td>Интеллектуальные игры</td>\n",
       "      <td>Квест</td>\n",
       "      <td>Для ума</td>\n",
       "    </tr>\n",
       "    <tr>\n",
       "      <th>4</th>\n",
       "      <td>4</td>\n",
       "      <td>649</td>\n",
       "      <td>650</td>\n",
       "      <td>516</td>\n",
       "      <td>Игры</td>\n",
       "      <td>Настольные игры</td>\n",
       "      <td>Иные настольные игры</td>\n",
       "      <td>Для ума</td>\n",
       "    </tr>\n",
       "  </tbody>\n",
       "</table>\n",
       "</div>"
      ],
      "text/plain": [
       "   Unnamed: 0  cat1_id  cat2_id  cat3_id cat1_name              cat2_name  \\\n",
       "0           0      649      651     1043      Игры  Интеллектуальные игры   \n",
       "1           1      649      651     1040      Игры  Интеллектуальные игры   \n",
       "2           2      649      651     1042      Игры  Интеллектуальные игры   \n",
       "3           3      649      651     1041      Игры  Интеллектуальные игры   \n",
       "4           4      649      650      516      Игры        Настольные игры   \n",
       "\n",
       "                    cat3_name   branch  \n",
       "0                  Брейн-ринг  Для ума  \n",
       "1                   Викторины  Для ума  \n",
       "2  Иные интеллектуальные игры  Для ума  \n",
       "3                       Квест  Для ума  \n",
       "4        Иные настольные игры  Для ума  "
      ]
     },
     "execution_count": 23,
     "metadata": {},
     "output_type": "execute_result"
    }
   ],
   "source": [
    "dct.head()"
   ]
  },
  {
   "cell_type": "code",
   "execution_count": 24,
   "metadata": {},
   "outputs": [],
   "source": [
    "cat1_dict = dict(dct[['cat1_name', 'cat1_id']].values)\n",
    "cat2_dict = dict(dct[['cat2_name', 'cat2_id']].values)\n",
    "cat3_dict = dict(dct[['cat3_name', 'cat3_id']].values)"
   ]
  },
  {
   "cell_type": "code",
   "execution_count": 25,
   "metadata": {},
   "outputs": [],
   "source": [
    "def remove_online(x):\n",
    "    if 'ОНЛАЙН' in x:\n",
    "        return x.replace('ОНЛАЙН', '').strip()\n",
    "    else:\n",
    "        return x"
   ]
  },
  {
   "cell_type": "code",
   "execution_count": 31,
   "metadata": {},
   "outputs": [],
   "source": [
    "groups_new = pd.DataFrame({\n",
    "    'group_id': groups['уникальный номер'],\n",
    "    'address': groups['адрес площадки'],\n",
    "    'category1_id': groups['направление 1'].apply(lambda x: cat1_dict.get(remove_online(x))),\n",
    "    'category2_id': groups['направление 2'].apply(lambda x: cat2_dict.get(remove_online(x))),\n",
    "    'category3_id': groups['направление 3'].apply(lambda x: cat3_dict.get(remove_online(x))),\n",
    "    'is_online': groups['is_online'],\n",
    "    'is_mobile': groups['is_mobile'],\n",
    "#     'is_available': groups['is_available'],\n",
    "    'match_loc': (groups['match_loc'] != 0).astype(int),\n",
    "}).dropna()"
   ]
  },
  {
   "cell_type": "code",
   "execution_count": 33,
   "metadata": {},
   "outputs": [],
   "source": [
    "groups_new.to_csv('new_groups.csv', index=None)"
   ]
  },
  {
   "cell_type": "markdown",
   "metadata": {},
   "source": [
    "### Итог по локациям"
   ]
  },
  {
   "cell_type": "code",
   "execution_count": 34,
   "metadata": {},
   "outputs": [],
   "source": [
    "district_cnt = Counter()\n",
    "for row in groups['districts'].values:\n",
    "    if type(row) == list:\n",
    "        for x in row:\n",
    "            district_cnt[x] += 1\n",
    "            \n",
    "district_dict = {x: i + 1 for i, x in enumerate(district_cnt.keys())}\n",
    "# print(district_dict)\n",
    "\n",
    "zone_cnt = Counter()\n",
    "for row in groups['zones'].values:\n",
    "    if type(row) == list:\n",
    "        for x in row:\n",
    "            zone_cnt[x] += 1\n",
    "            \n",
    "zone_dict = {x: i + 1 for i, x in enumerate(zone_cnt.keys())}\n",
    "# pd.DataFrame(zone_dict.items(), columns=['name', 'zone_id']).to_csv('zones.csv', index=None)\n"
   ]
  },
  {
   "cell_type": "code",
   "execution_count": 35,
   "metadata": {},
   "outputs": [
    {
     "data": {
      "application/vnd.jupyter.widget-view+json": {
       "model_id": "0df7a2c0b70b44429f90dd277cafc3f7",
       "version_major": 2,
       "version_minor": 0
      },
      "text/plain": [
       "  0%|          | 0/27003 [00:00<?, ?it/s]"
      ]
     },
     "metadata": {},
     "output_type": "display_data"
    }
   ],
   "source": [
    "result = []\n",
    "loc_id = 1\n",
    "for i in tqdm(groups.index):\n",
    "    row = groups.loc[i]\n",
    "    if row['is_mobile'] == 0 and row['is_online'] == 0 and row['match_loc'] == 1:\n",
    "        x = row['location']\n",
    "        items = list(set(\n",
    "            (row['уникальный номер'], district_dict[x[2][i]], zone_dict[x[3][i]], row['codes'][i])\n",
    "            for i in range(len(x[2]))\n",
    "        ))\n",
    "        for i in items:\n",
    "            result.append((loc_id, *i))\n",
    "            loc_id += 1"
   ]
  },
  {
   "cell_type": "code",
   "execution_count": 36,
   "metadata": {},
   "outputs": [],
   "source": [
    "group_locations = pd.DataFrame(result, columns=['location_group_id', 'group_id', 'district_id', 'zone_id', 'code'])"
   ]
  },
  {
   "cell_type": "code",
   "execution_count": 37,
   "metadata": {},
   "outputs": [],
   "source": [
    "group_locations.to_csv('group_locations.csv', index=None)"
   ]
  },
  {
   "cell_type": "markdown",
   "metadata": {},
   "source": [
    "### Итог по расписанию"
   ]
  },
  {
   "cell_type": "code",
   "execution_count": 38,
   "metadata": {},
   "outputs": [
    {
     "data": {
      "application/vnd.jupyter.widget-view+json": {
       "model_id": "637af119105e4b8dab5cb1e06099bb2c",
       "version_major": 2,
       "version_minor": 0
      },
      "text/plain": [
       "  0%|          | 0/27003 [00:00<?, ?it/s]"
      ]
     },
     "metadata": {},
     "output_type": "display_data"
    }
   ],
   "source": [
    "result = []\n",
    "\n",
    "for i in tqdm(groups.index):\n",
    "    row = groups.loc[i]\n",
    "    if len(row['timetable_plan']) > 0:\n",
    "        for item in row['timetable_plan']:\n",
    "            for x in item[2]:\n",
    "                result.append((row['уникальный номер'], item[0], item[1], x[0], x[1], x[2], 3))\n",
    "    if len(row['timetable_closed']) > 0:\n",
    "        for item in row['timetable_closed']:\n",
    "            for x in item[2]:\n",
    "                result.append((row['уникальный номер'], item[0], item[1], x[0], x[1], x[2], 1))\n",
    "                \n",
    "    if len(row['timetable_open']) > 0:\n",
    "        for item in row['timetable_open']:\n",
    "            for x in item[2]:\n",
    "                result.append((row['уникальный номер'], item[0], item[1], x[0], x[1], x[2], 2))"
   ]
  },
  {
   "cell_type": "code",
   "execution_count": 39,
   "metadata": {},
   "outputs": [],
   "source": [
    "timetable = pd.DataFrame(result, columns=['group_id', 'start_date', 'finish_date', 'weekday', 'start_time', 'finish_time', 'status_code'])\n",
    "\n",
    "timetable['event_length'] = (timetable['finish_time'] - timetable['start_time']).round(2)"
   ]
  },
  {
   "cell_type": "code",
   "execution_count": 40,
   "metadata": {},
   "outputs": [],
   "source": [
    "timetable.to_csv('timetable.csv', index=None)"
   ]
  },
  {
   "cell_type": "code",
   "execution_count": 41,
   "metadata": {},
   "outputs": [],
   "source": [
    "pd.DataFrame(district_dict.items(), columns=['name', 'district_id']).to_csv('districts.csv', index=None)"
   ]
  },
  {
   "cell_type": "code",
   "execution_count": 42,
   "metadata": {},
   "outputs": [],
   "source": [
    "pd.DataFrame(zone_dict.items(), columns=['name', 'zone_id']).to_csv('zones.csv', index=None)"
   ]
  },
  {
   "cell_type": "markdown",
   "metadata": {},
   "source": [
    "# Запись в базу"
   ]
  },
  {
   "cell_type": "code",
   "execution_count": 43,
   "metadata": {},
   "outputs": [],
   "source": [
    "import sqlite3\n",
    "\n",
    "import pandas as pd"
   ]
  },
  {
   "cell_type": "code",
   "execution_count": 44,
   "metadata": {},
   "outputs": [],
   "source": [
    "db = sqlite3.connect('../raw_db.db')\n",
    "cursor = db.cursor()"
   ]
  },
  {
   "cell_type": "code",
   "execution_count": 45,
   "metadata": {},
   "outputs": [],
   "source": [
    "districts = pd.read_csv('districts.csv')\n",
    "zones = pd.read_csv('zones.csv')\n",
    "\n",
    "group_locations = pd.read_csv('group_locations.csv')\n",
    "group_locations['code'] = group_locations['code'].fillna(0).astype(int)\n",
    "\n",
    "groups = pd.read_csv('new_groups.csv')\n",
    "groups['category1_id'] = groups['category1_id'].fillna(0).astype(int)\n",
    "groups['category2_id'] = groups['category2_id'].fillna(0).astype(int)\n",
    "groups['category3_id'] = groups['category3_id'].fillna(0).astype(int)\n",
    "\n",
    "timetable = pd.read_csv('timetable.csv')\n",
    "\n",
    "attend = pd.read_csv('new_attend.csv')\n",
    "attend = attend.sort_values(by=['event_id', 'event_date'])\n",
    "\n",
    "users = pd.read_csv('../data/new_users.csv')\n",
    "users['date_of_birth'] = users['date_of_birth'].astype(str).apply(lambda x: x[:11])\n",
    "users['postal_code'] = users['postal_code']"
   ]
  },
  {
   "cell_type": "code",
   "execution_count": 46,
   "metadata": {},
   "outputs": [],
   "source": [
    "districts.to_sql('districts', con=db, index=None)\n",
    "zones.to_sql('zones', con=db, index=None)\n",
    "\n",
    "group_locations.to_sql('group_locations', con=db, index=None)\n",
    "groups.to_sql('groups', con=db, index=None)\n",
    "timetable.to_sql('group_timetable', con=db, index=None)\n",
    "\n",
    "attend.to_sql('attend', con=db, index=None)\n",
    "users.to_sql('users', con=db, index=None)"
   ]
  },
  {
   "cell_type": "code",
   "execution_count": 47,
   "metadata": {},
   "outputs": [],
   "source": [
    "cursor.execute(\"UPDATE groups SET category1_id = NULL WHERE category1_id = 0\")\n",
    "cursor.execute(\"UPDATE groups SET category2_id = NULL WHERE category2_id = 0\")\n",
    "cursor.execute(\"UPDATE groups SET category3_id = NULL WHERE category3_id = 0\")\n",
    "\n",
    "cursor.execute(\"UPDATE users SET postal_code = NULL WHERE postal_code = 0\")\n",
    "cursor.execute(\"UPDATE group_locations SET code = NULL WHERE code = 0\")\n",
    "\n",
    "db.commit()"
   ]
  },
  {
   "cell_type": "code",
   "execution_count": 48,
   "metadata": {},
   "outputs": [],
   "source": [
    "cursor.execute(\"CREATE UNIQUE INDEX group_id_idx ON groups (group_id)\")\n",
    "cursor.execute(\"CREATE INDEX cats ON groups(category1_id, category2_id, category3_id)\")\n",
    "\n",
    "cursor.execute(\"CREATE INDEX group_id_attend_idx ON attend (group_id)\")\n",
    "cursor.execute(\"CREATE INDEX user_id_attend_idx ON attend (user_id)\")\n",
    "\n",
    "cursor.execute(\"CREATE INDEX tt_gid ON group_timetable (group_id)\")\n",
    "cursor.execute(\"CREATE INDEX start_date_idx ON group_timetable (start_date)\")\n",
    "\n",
    "cursor.execute(\"CREATE UNIQUE INDEX user_id_idx ON users (user_id)\")\n",
    "\n",
    "\n",
    "cursor.execute(\"CREATE UNIQUE INDEX zone_id_idx ON zones (zone_id)\")\n",
    "cursor.execute(\"CREATE UNIQUE INDEX district_id_idx ON districts (district_id)\")\n",
    "cursor.execute(\"CREATE INDEX group_id_loc ON group_locations (group_id)\")\n",
    "\n",
    "db.commit()"
   ]
  }
 ],
 "metadata": {
  "kernelspec": {
   "display_name": "Python 3",
   "language": "python",
   "name": "python3"
  },
  "language_info": {
   "codemirror_mode": {
    "name": "ipython",
    "version": 3
   },
   "file_extension": ".py",
   "mimetype": "text/x-python",
   "name": "python",
   "nbconvert_exporter": "python",
   "pygments_lexer": "ipython3",
   "version": "3.8.10"
  }
 },
 "nbformat": 4,
 "nbformat_minor": 4
}
