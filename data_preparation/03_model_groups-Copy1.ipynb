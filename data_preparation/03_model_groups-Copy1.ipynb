{
 "cells": [
  {
   "cell_type": "code",
   "execution_count": 1,
   "metadata": {},
   "outputs": [],
   "source": [
    "# ! pip3 install --upgrade pandas"
   ]
  },
  {
   "cell_type": "code",
   "execution_count": 2,
   "metadata": {},
   "outputs": [],
   "source": [
    "import sqlite3\n",
    "\n",
    "import pandas as pd\n",
    "import numpy as np\n",
    "from tqdm.auto import tqdm\n",
    "import seaborn as sns\n",
    "import matplotlib.pyplot as plt\n",
    "\n",
    "tqdm.pandas()"
   ]
  },
  {
   "cell_type": "code",
   "execution_count": 3,
   "metadata": {},
   "outputs": [],
   "source": [
    "db = sqlite3.connect('../raw_db.db')"
   ]
  },
  {
   "cell_type": "markdown",
   "metadata": {},
   "source": [
    "## Группы в феврале"
   ]
  },
  {
   "cell_type": "code",
   "execution_count": 4,
   "metadata": {},
   "outputs": [],
   "source": [
    "group_time_target = pd.read_sql(\"\"\"\n",
    "    SELECT \n",
    "        group_timetable.group_id \n",
    "        , weekday\n",
    "        , CAST(start_time AS INT) as start_time\n",
    "        , CAST(finish_time AS INT) as finish_time\n",
    "        , CASE WHEN finish_date > '2023-02-28' AND start_date < '2023-02-01' \n",
    "            THEN julianday('2023-02-28') - julianday('2023-02-01')\n",
    "            WHEN finish_date > '2023-02-28' THEN julianday('2023-02-28') - julianday(start_date)\n",
    "            WHEN start_date < '2023-02-01' THEN julianday(finish_date) - julianday('2023-02-01')\n",
    "            ELSE julianday(finish_date) - julianday(start_date)\n",
    "            END as n_days\n",
    "    FROM group_timetable\n",
    "    WHERE start_date < '2023-02-28' AND finish_date > '2023-02-01'\n",
    "\"\"\", con=db, dtype={\n",
    "    'group_id': 'int32', 'weekday': 'int8', 'start_time': 'int8', 'finish_time': 'int8', 'n_days': 'int8'\n",
    "})"
   ]
  },
  {
   "cell_type": "code",
   "execution_count": 5,
   "metadata": {},
   "outputs": [],
   "source": [
    "def week_ones(d, s, f, n=1, padding=0):\n",
    "    a = np.zeros((7, 17), dtype='int8')\n",
    "    a[d - 1, max((s - 6 - padding), 0):(f - 6 + padding)] = n\n",
    "    return a"
   ]
  },
  {
   "cell_type": "code",
   "execution_count": 6,
   "metadata": {},
   "outputs": [],
   "source": [
    "group_time_target['timetable'] = group_time_target.apply(lambda x: week_ones(x['weekday'], x['start_time'], x['finish_time']), axis=1)"
   ]
  },
  {
   "cell_type": "code",
   "execution_count": 7,
   "metadata": {},
   "outputs": [],
   "source": [
    "group_time_target = group_time_target.groupby('group_id', as_index=False).agg({'timetable': sum, 'n_days': 'min'})"
   ]
  },
  {
   "cell_type": "code",
   "execution_count": 8,
   "metadata": {},
   "outputs": [
    {
     "data": {
      "text/html": [
       "<div>\n",
       "<style scoped>\n",
       "    .dataframe tbody tr th:only-of-type {\n",
       "        vertical-align: middle;\n",
       "    }\n",
       "\n",
       "    .dataframe tbody tr th {\n",
       "        vertical-align: top;\n",
       "    }\n",
       "\n",
       "    .dataframe thead th {\n",
       "        text-align: right;\n",
       "    }\n",
       "</style>\n",
       "<table border=\"1\" class=\"dataframe\">\n",
       "  <thead>\n",
       "    <tr style=\"text-align: right;\">\n",
       "      <th></th>\n",
       "      <th>group_id</th>\n",
       "      <th>timetable</th>\n",
       "      <th>n_days</th>\n",
       "    </tr>\n",
       "  </thead>\n",
       "  <tbody>\n",
       "    <tr>\n",
       "      <th>0</th>\n",
       "      <td>801346553</td>\n",
       "      <td>[[0, 0, 0, 0, 1, 0, 0, 0, 0, 0, 0, 0, 0, 0, 0,...</td>\n",
       "      <td>27</td>\n",
       "    </tr>\n",
       "    <tr>\n",
       "      <th>1</th>\n",
       "      <td>801346572</td>\n",
       "      <td>[[0, 0, 0, 0, 1, 0, 0, 0, 0, 0, 0, 0, 0, 0, 0,...</td>\n",
       "      <td>27</td>\n",
       "    </tr>\n",
       "    <tr>\n",
       "      <th>2</th>\n",
       "      <td>801346579</td>\n",
       "      <td>[[0, 0, 0, 1, 1, 0, 0, 0, 0, 0, 0, 0, 0, 0, 0,...</td>\n",
       "      <td>27</td>\n",
       "    </tr>\n",
       "    <tr>\n",
       "      <th>3</th>\n",
       "      <td>801346585</td>\n",
       "      <td>[[0, 0, 0, 0, 0, 1, 0, 0, 0, 0, 0, 0, 0, 0, 0,...</td>\n",
       "      <td>13</td>\n",
       "    </tr>\n",
       "    <tr>\n",
       "      <th>4</th>\n",
       "      <td>801346609</td>\n",
       "      <td>[[0, 0, 0, 1, 0, 0, 0, 0, 0, 0, 0, 0, 0, 0, 0,...</td>\n",
       "      <td>27</td>\n",
       "    </tr>\n",
       "  </tbody>\n",
       "</table>\n",
       "</div>"
      ],
      "text/plain": [
       "    group_id                                          timetable  n_days\n",
       "0  801346553  [[0, 0, 0, 0, 1, 0, 0, 0, 0, 0, 0, 0, 0, 0, 0,...      27\n",
       "1  801346572  [[0, 0, 0, 0, 1, 0, 0, 0, 0, 0, 0, 0, 0, 0, 0,...      27\n",
       "2  801346579  [[0, 0, 0, 1, 1, 0, 0, 0, 0, 0, 0, 0, 0, 0, 0,...      27\n",
       "3  801346585  [[0, 0, 0, 0, 0, 1, 0, 0, 0, 0, 0, 0, 0, 0, 0,...      13\n",
       "4  801346609  [[0, 0, 0, 1, 0, 0, 0, 0, 0, 0, 0, 0, 0, 0, 0,...      27"
      ]
     },
     "execution_count": 8,
     "metadata": {},
     "output_type": "execute_result"
    }
   ],
   "source": [
    "group_time_target.head()"
   ]
  },
  {
   "cell_type": "code",
   "execution_count": 9,
   "metadata": {},
   "outputs": [],
   "source": [
    "group_place_target = pd.read_sql(\"\"\"\n",
    "    SELECT \n",
    "        group_id\n",
    "        , district_id\n",
    "        , zone_id\n",
    "        , COALESCE(code, 0) as g_postal\n",
    "    FROM group_locations\n",
    "    WHERE group_id IN (\n",
    "        SELECT DISTINCT group_id \n",
    "        FROM group_timetable\n",
    "        WHERE start_date < '2023-02-28' AND finish_date > '2022-02-01'\n",
    "    )\n",
    "\"\"\", con=db, dtype={'group_id': 'int32', 'district_id': 'int8', 'zone_id': 'int8', 'g_postal': 'int32'})"
   ]
  },
  {
   "cell_type": "code",
   "execution_count": 10,
   "metadata": {},
   "outputs": [],
   "source": [
    "group_place_target = group_place_target.groupby('group_id', as_index=False).agg({\n",
    "    'district_id': tuple,\n",
    "    'zone_id': tuple,\n",
    "    'g_postal': lambda x: tuple(i for i in x if i > 0)\n",
    "})"
   ]
  },
  {
   "cell_type": "code",
   "execution_count": 11,
   "metadata": {},
   "outputs": [],
   "source": [
    "group_info = pd.read_sql(\"\"\"\n",
    "    SELECT \n",
    "        group_id\n",
    "        , category3_id\n",
    "        , category2_id\n",
    "        , is_online\n",
    "        , is_mobile\n",
    "    FROM groups\n",
    "    WHERE group_id IN (\n",
    "        SELECT DISTINCT group_id \n",
    "        FROM group_timetable\n",
    "        WHERE start_date < '2023-02-28' AND finish_date > '2023-02-01'\n",
    "    )\n",
    "\"\"\", con=db, dtype={'group_id': 'int32', 'category3_id': 'int16', 'category2_id': 'int16', 'is_online': 'int8', 'is_mobile': 'int8'})"
   ]
  },
  {
   "cell_type": "code",
   "execution_count": 12,
   "metadata": {},
   "outputs": [],
   "source": [
    "group_target = group_time_target.merge(group_place_target).merge(group_info)"
   ]
  },
  {
   "cell_type": "code",
   "execution_count": 13,
   "metadata": {},
   "outputs": [
    {
     "data": {
      "text/html": [
       "<div>\n",
       "<style scoped>\n",
       "    .dataframe tbody tr th:only-of-type {\n",
       "        vertical-align: middle;\n",
       "    }\n",
       "\n",
       "    .dataframe tbody tr th {\n",
       "        vertical-align: top;\n",
       "    }\n",
       "\n",
       "    .dataframe thead th {\n",
       "        text-align: right;\n",
       "    }\n",
       "</style>\n",
       "<table border=\"1\" class=\"dataframe\">\n",
       "  <thead>\n",
       "    <tr style=\"text-align: right;\">\n",
       "      <th></th>\n",
       "      <th>group_id</th>\n",
       "      <th>timetable</th>\n",
       "      <th>n_days</th>\n",
       "      <th>district_id</th>\n",
       "      <th>zone_id</th>\n",
       "      <th>g_postal</th>\n",
       "      <th>category3_id</th>\n",
       "      <th>category2_id</th>\n",
       "      <th>is_online</th>\n",
       "      <th>is_mobile</th>\n",
       "    </tr>\n",
       "  </thead>\n",
       "  <tbody>\n",
       "    <tr>\n",
       "      <th>0</th>\n",
       "      <td>801346553</td>\n",
       "      <td>[[0, 0, 0, 0, 1, 0, 0, 0, 0, 0, 0, 0, 0, 0, 0,...</td>\n",
       "      <td>27</td>\n",
       "      <td>(5,)</td>\n",
       "      <td>(46,)</td>\n",
       "      <td>(105122,)</td>\n",
       "      <td>104</td>\n",
       "      <td>591</td>\n",
       "      <td>0</td>\n",
       "      <td>0</td>\n",
       "    </tr>\n",
       "    <tr>\n",
       "      <th>1</th>\n",
       "      <td>801346579</td>\n",
       "      <td>[[0, 0, 0, 1, 1, 0, 0, 0, 0, 0, 0, 0, 0, 0, 0,...</td>\n",
       "      <td>27</td>\n",
       "      <td>(5,)</td>\n",
       "      <td>(16,)</td>\n",
       "      <td>(107065,)</td>\n",
       "      <td>141</td>\n",
       "      <td>609</td>\n",
       "      <td>0</td>\n",
       "      <td>0</td>\n",
       "    </tr>\n",
       "    <tr>\n",
       "      <th>2</th>\n",
       "      <td>801346585</td>\n",
       "      <td>[[0, 0, 0, 0, 0, 1, 0, 0, 0, 0, 0, 0, 0, 0, 0,...</td>\n",
       "      <td>13</td>\n",
       "      <td>(5,)</td>\n",
       "      <td>(23,)</td>\n",
       "      <td>(111141,)</td>\n",
       "      <td>136</td>\n",
       "      <td>630</td>\n",
       "      <td>0</td>\n",
       "      <td>0</td>\n",
       "    </tr>\n",
       "    <tr>\n",
       "      <th>3</th>\n",
       "      <td>801346609</td>\n",
       "      <td>[[0, 0, 0, 1, 0, 0, 0, 0, 0, 0, 0, 0, 0, 0, 0,...</td>\n",
       "      <td>27</td>\n",
       "      <td>(1, 1)</td>\n",
       "      <td>(62, 2)</td>\n",
       "      <td>(109125, 109341)</td>\n",
       "      <td>178</td>\n",
       "      <td>596</td>\n",
       "      <td>0</td>\n",
       "      <td>0</td>\n",
       "    </tr>\n",
       "    <tr>\n",
       "      <th>4</th>\n",
       "      <td>801346613</td>\n",
       "      <td>[[0, 0, 0, 0, 1, 0, 0, 0, 0, 0, 0, 0, 0, 0, 0,...</td>\n",
       "      <td>27</td>\n",
       "      <td>(1, 1)</td>\n",
       "      <td>(62, 2)</td>\n",
       "      <td>(109125, 109341)</td>\n",
       "      <td>123</td>\n",
       "      <td>626</td>\n",
       "      <td>0</td>\n",
       "      <td>0</td>\n",
       "    </tr>\n",
       "  </tbody>\n",
       "</table>\n",
       "</div>"
      ],
      "text/plain": [
       "    group_id                                          timetable  n_days   \n",
       "0  801346553  [[0, 0, 0, 0, 1, 0, 0, 0, 0, 0, 0, 0, 0, 0, 0,...      27  \\\n",
       "1  801346579  [[0, 0, 0, 1, 1, 0, 0, 0, 0, 0, 0, 0, 0, 0, 0,...      27   \n",
       "2  801346585  [[0, 0, 0, 0, 0, 1, 0, 0, 0, 0, 0, 0, 0, 0, 0,...      13   \n",
       "3  801346609  [[0, 0, 0, 1, 0, 0, 0, 0, 0, 0, 0, 0, 0, 0, 0,...      27   \n",
       "4  801346613  [[0, 0, 0, 0, 1, 0, 0, 0, 0, 0, 0, 0, 0, 0, 0,...      27   \n",
       "\n",
       "  district_id  zone_id          g_postal  category3_id  category2_id   \n",
       "0        (5,)    (46,)         (105122,)           104           591  \\\n",
       "1        (5,)    (16,)         (107065,)           141           609   \n",
       "2        (5,)    (23,)         (111141,)           136           630   \n",
       "3      (1, 1)  (62, 2)  (109125, 109341)           178           596   \n",
       "4      (1, 1)  (62, 2)  (109125, 109341)           123           626   \n",
       "\n",
       "   is_online  is_mobile  \n",
       "0          0          0  \n",
       "1          0          0  \n",
       "2          0          0  \n",
       "3          0          0  \n",
       "4          0          0  "
      ]
     },
     "execution_count": 13,
     "metadata": {},
     "output_type": "execute_result"
    }
   ],
   "source": [
    "group_target.head()"
   ]
  },
  {
   "cell_type": "code",
   "execution_count": 14,
   "metadata": {},
   "outputs": [],
   "source": [
    "postat_to_zd = pd.read_sql(\"\"\"\n",
    "    SELECT district_id, zone_id, code, count(group_id) as n\n",
    "    FROM group_locations\n",
    "    WHERE code IS NOT NULL\n",
    "    GROUP BY district_id, zone_id, code\n",
    "    ORDER BY n DESC\n",
    "\"\"\", con=db, dtype={'district_id': 'int16', 'zone_id': 'int16', 'code': 'int32', 'n': 'int16'}).drop_duplicates(subset=['code'], keep='first')\n",
    "\n",
    "code_dict = {c: (z, d) for d, z, c, _ in postat_to_zd.values}"
   ]
  },
  {
   "cell_type": "code",
   "execution_count": 15,
   "metadata": {},
   "outputs": [],
   "source": [
    "group_target_real = pd.read_sql(\"\"\"\n",
    "    SELECT \n",
    "        attend.user_id\n",
    "        , group_id\n",
    "        , count(attend.user_id) as n\n",
    "        , 1 as visited\n",
    "        , COALESCE(postal_code, 0) as postal_code\n",
    "    FROM attend\n",
    "    LEFT JOIN users ON attend.user_id = users.user_id\n",
    "    WHERE event_date >= '2023-02-01'\n",
    "    GROUP BY attend.user_id, group_id\n",
    "\"\"\", con=db, dtype={'user_id': 'int32', 'group_id': 'int32', 'n': 'int8', 'visited': 'int8', 'postal_code': 'int32'})"
   ]
  },
  {
   "cell_type": "code",
   "execution_count": 16,
   "metadata": {},
   "outputs": [],
   "source": [
    "group_target_real = group_target_real.merge(group_target[['category2_id', 'category3_id', 'group_id']])"
   ]
  },
  {
   "cell_type": "code",
   "execution_count": 17,
   "metadata": {},
   "outputs": [],
   "source": [
    "group_target_real.columns = ['user_id', 'group_id', 'n_visits', 'visited', 'u_postal', 'category2_id', 'category3_id']"
   ]
  },
  {
   "cell_type": "code",
   "execution_count": 18,
   "metadata": {},
   "outputs": [],
   "source": [
    "group_target_real['u_district'] = group_target_real['u_postal'].apply(lambda x: code_dict.get(x, [0, 0])[1]).astype('int16')\n",
    "group_target_real['u_zone'] = group_target_real['u_postal'].apply(lambda x: code_dict.get(x, [0, 0])[0]).astype('int16')"
   ]
  },
  {
   "cell_type": "code",
   "execution_count": 19,
   "metadata": {},
   "outputs": [],
   "source": [
    "user_flat = group_target_real[['user_id', 'category3_id', 'u_postal', 'u_district', 'u_zone']].drop_duplicates()"
   ]
  },
  {
   "cell_type": "code",
   "execution_count": 20,
   "metadata": {},
   "outputs": [],
   "source": [
    "all_combinations = group_target.merge(user_flat, on=['category3_id'])"
   ]
  },
  {
   "cell_type": "code",
   "execution_count": 21,
   "metadata": {},
   "outputs": [],
   "source": [
    "geo_sim = all_combinations[['district_id', 'zone_id', 'g_postal', 'u_postal', 'u_district', 'u_zone']].drop_duplicates()"
   ]
  },
  {
   "cell_type": "code",
   "execution_count": 22,
   "metadata": {},
   "outputs": [
    {
     "data": {
      "application/vnd.jupyter.widget-view+json": {
       "model_id": "de593afe225c4a2488c96d45465eff55",
       "version_major": 2,
       "version_minor": 0
      },
      "text/plain": [
       "  0%|          | 0/267031 [00:00<?, ?it/s]"
      ]
     },
     "metadata": {},
     "output_type": "display_data"
    },
    {
     "data": {
      "application/vnd.jupyter.widget-view+json": {
       "model_id": "f43a684d8c924148a177b2da7fb50930",
       "version_major": 2,
       "version_minor": 0
      },
      "text/plain": [
       "  0%|          | 0/267031 [00:00<?, ?it/s]"
      ]
     },
     "metadata": {},
     "output_type": "display_data"
    },
    {
     "data": {
      "application/vnd.jupyter.widget-view+json": {
       "model_id": "1aa52a3026454b52bab1543e6e10acf9",
       "version_major": 2,
       "version_minor": 0
      },
      "text/plain": [
       "  0%|          | 0/267031 [00:00<?, ?it/s]"
      ]
     },
     "metadata": {},
     "output_type": "display_data"
    }
   ],
   "source": [
    "geo_sim['same_post'] = geo_sim[['u_postal', 'g_postal']].progress_apply(lambda x: x['u_postal'] in x['g_postal'], axis=1).astype('int8')\n",
    "geo_sim['same_zone'] = geo_sim.progress_apply(lambda x: x['u_zone'] in x['zone_id'], axis=1).astype(int).astype('int8')\n",
    "geo_sim['same_district'] = geo_sim.progress_apply(lambda x: x['u_district'] in x['district_id'], axis=1).astype(int).astype('int8')"
   ]
  },
  {
   "cell_type": "code",
   "execution_count": 23,
   "metadata": {},
   "outputs": [],
   "source": [
    "# geo_sim['g_postal'].unique()"
   ]
  },
  {
   "cell_type": "code",
   "execution_count": 24,
   "metadata": {},
   "outputs": [],
   "source": [
    "neighbors = pd.read_sql(\"\"\"\n",
    "    SELECT group_id, postal_code, n_neighbors\n",
    "    FROM model_neighbors\n",
    "\"\"\", con=db, dtype={'group_id': 'int32', 'postal_code': 'int32', 'n_neighbors': 'int16'})"
   ]
  },
  {
   "cell_type": "code",
   "execution_count": 25,
   "metadata": {},
   "outputs": [],
   "source": [
    "all_combinations = all_combinations.merge(\n",
    "    geo_sim, how='left'\n",
    ").merge(\n",
    "    neighbors, left_on=['group_id', 'u_postal'], right_on=['group_id', 'postal_code'], how='left'\n",
    ")"
   ]
  },
  {
   "cell_type": "code",
   "execution_count": 26,
   "metadata": {},
   "outputs": [],
   "source": [
    "all_combinations['n_neighbors'] = all_combinations['n_neighbors'].fillna(0).astype('int8')"
   ]
  },
  {
   "cell_type": "code",
   "execution_count": 27,
   "metadata": {},
   "outputs": [
    {
     "data": {
      "text/plain": [
       "1273064"
      ]
     },
     "execution_count": 27,
     "metadata": {},
     "output_type": "execute_result"
    }
   ],
   "source": [
    "all_combinations['same_district'].sum()"
   ]
  },
  {
   "cell_type": "code",
   "execution_count": 28,
   "metadata": {},
   "outputs": [],
   "source": [
    "all_combinations.drop(['u_postal', 'u_district', 'u_zone', 'g_postal', 'zone_id', 'district_id', 'postal_code'], axis=1, inplace=True)"
   ]
  },
  {
   "cell_type": "code",
   "execution_count": 29,
   "metadata": {},
   "outputs": [
    {
     "data": {
      "text/html": [
       "<div>\n",
       "<style scoped>\n",
       "    .dataframe tbody tr th:only-of-type {\n",
       "        vertical-align: middle;\n",
       "    }\n",
       "\n",
       "    .dataframe tbody tr th {\n",
       "        vertical-align: top;\n",
       "    }\n",
       "\n",
       "    .dataframe thead th {\n",
       "        text-align: right;\n",
       "    }\n",
       "</style>\n",
       "<table border=\"1\" class=\"dataframe\">\n",
       "  <thead>\n",
       "    <tr style=\"text-align: right;\">\n",
       "      <th></th>\n",
       "      <th>group_id</th>\n",
       "      <th>timetable</th>\n",
       "      <th>n_days</th>\n",
       "      <th>category3_id</th>\n",
       "      <th>category2_id</th>\n",
       "      <th>is_online</th>\n",
       "      <th>is_mobile</th>\n",
       "      <th>user_id</th>\n",
       "      <th>same_post</th>\n",
       "      <th>same_zone</th>\n",
       "      <th>same_district</th>\n",
       "      <th>n_neighbors</th>\n",
       "    </tr>\n",
       "  </thead>\n",
       "  <tbody>\n",
       "    <tr>\n",
       "      <th>0</th>\n",
       "      <td>801346553</td>\n",
       "      <td>[[0, 0, 0, 0, 1, 0, 0, 0, 0, 0, 0, 0, 0, 0, 0,...</td>\n",
       "      <td>27</td>\n",
       "      <td>104</td>\n",
       "      <td>591</td>\n",
       "      <td>0</td>\n",
       "      <td>0</td>\n",
       "      <td>101346666</td>\n",
       "      <td>0</td>\n",
       "      <td>0</td>\n",
       "      <td>0</td>\n",
       "      <td>0</td>\n",
       "    </tr>\n",
       "    <tr>\n",
       "      <th>1</th>\n",
       "      <td>801346553</td>\n",
       "      <td>[[0, 0, 0, 0, 1, 0, 0, 0, 0, 0, 0, 0, 0, 0, 0,...</td>\n",
       "      <td>27</td>\n",
       "      <td>104</td>\n",
       "      <td>591</td>\n",
       "      <td>0</td>\n",
       "      <td>0</td>\n",
       "      <td>101355093</td>\n",
       "      <td>0</td>\n",
       "      <td>0</td>\n",
       "      <td>0</td>\n",
       "      <td>0</td>\n",
       "    </tr>\n",
       "    <tr>\n",
       "      <th>2</th>\n",
       "      <td>801346553</td>\n",
       "      <td>[[0, 0, 0, 0, 1, 0, 0, 0, 0, 0, 0, 0, 0, 0, 0,...</td>\n",
       "      <td>27</td>\n",
       "      <td>104</td>\n",
       "      <td>591</td>\n",
       "      <td>0</td>\n",
       "      <td>0</td>\n",
       "      <td>101358634</td>\n",
       "      <td>0</td>\n",
       "      <td>0</td>\n",
       "      <td>0</td>\n",
       "      <td>0</td>\n",
       "    </tr>\n",
       "    <tr>\n",
       "      <th>3</th>\n",
       "      <td>801346553</td>\n",
       "      <td>[[0, 0, 0, 0, 1, 0, 0, 0, 0, 0, 0, 0, 0, 0, 0,...</td>\n",
       "      <td>27</td>\n",
       "      <td>104</td>\n",
       "      <td>591</td>\n",
       "      <td>0</td>\n",
       "      <td>0</td>\n",
       "      <td>101358797</td>\n",
       "      <td>0</td>\n",
       "      <td>0</td>\n",
       "      <td>0</td>\n",
       "      <td>0</td>\n",
       "    </tr>\n",
       "    <tr>\n",
       "      <th>4</th>\n",
       "      <td>801346553</td>\n",
       "      <td>[[0, 0, 0, 0, 1, 0, 0, 0, 0, 0, 0, 0, 0, 0, 0,...</td>\n",
       "      <td>27</td>\n",
       "      <td>104</td>\n",
       "      <td>591</td>\n",
       "      <td>0</td>\n",
       "      <td>0</td>\n",
       "      <td>101363476</td>\n",
       "      <td>0</td>\n",
       "      <td>0</td>\n",
       "      <td>0</td>\n",
       "      <td>0</td>\n",
       "    </tr>\n",
       "  </tbody>\n",
       "</table>\n",
       "</div>"
      ],
      "text/plain": [
       "    group_id                                          timetable  n_days   \n",
       "0  801346553  [[0, 0, 0, 0, 1, 0, 0, 0, 0, 0, 0, 0, 0, 0, 0,...      27  \\\n",
       "1  801346553  [[0, 0, 0, 0, 1, 0, 0, 0, 0, 0, 0, 0, 0, 0, 0,...      27   \n",
       "2  801346553  [[0, 0, 0, 0, 1, 0, 0, 0, 0, 0, 0, 0, 0, 0, 0,...      27   \n",
       "3  801346553  [[0, 0, 0, 0, 1, 0, 0, 0, 0, 0, 0, 0, 0, 0, 0,...      27   \n",
       "4  801346553  [[0, 0, 0, 0, 1, 0, 0, 0, 0, 0, 0, 0, 0, 0, 0,...      27   \n",
       "\n",
       "   category3_id  category2_id  is_online  is_mobile    user_id  same_post   \n",
       "0           104           591          0          0  101346666          0  \\\n",
       "1           104           591          0          0  101355093          0   \n",
       "2           104           591          0          0  101358634          0   \n",
       "3           104           591          0          0  101358797          0   \n",
       "4           104           591          0          0  101363476          0   \n",
       "\n",
       "   same_zone  same_district  n_neighbors  \n",
       "0          0              0            0  \n",
       "1          0              0            0  \n",
       "2          0              0            0  \n",
       "3          0              0            0  \n",
       "4          0              0            0  "
      ]
     },
     "execution_count": 29,
     "metadata": {},
     "output_type": "execute_result"
    }
   ],
   "source": [
    "all_combinations.head()"
   ]
  },
  {
   "cell_type": "code",
   "execution_count": 30,
   "metadata": {},
   "outputs": [],
   "source": [
    "group_target_real = all_combinations.merge(\n",
    "    group_target_real[['user_id', 'group_id', 'n_visits', 'visited']], \n",
    "    on=['user_id', 'group_id'], how='left').fillna(0)"
   ]
  },
  {
   "cell_type": "code",
   "execution_count": 31,
   "metadata": {},
   "outputs": [
    {
     "name": "stdout",
     "output_type": "stream",
     "text": [
      "<class 'pandas.core.frame.DataFrame'>\n",
      "RangeIndex: 11983434 entries, 0 to 11983433\n",
      "Data columns (total 14 columns):\n",
      " #   Column         Dtype  \n",
      "---  ------         -----  \n",
      " 0   group_id       int32  \n",
      " 1   timetable      object \n",
      " 2   n_days         int8   \n",
      " 3   category3_id   int16  \n",
      " 4   category2_id   int16  \n",
      " 5   is_online      int8   \n",
      " 6   is_mobile      int8   \n",
      " 7   user_id        int32  \n",
      " 8   same_post      int8   \n",
      " 9   same_zone      int8   \n",
      " 10  same_district  int8   \n",
      " 11  n_neighbors    int8   \n",
      " 12  n_visits       float64\n",
      " 13  visited        float64\n",
      "dtypes: float64(2), int16(2), int32(2), int8(7), object(1)\n",
      "memory usage: 491.4+ MB\n"
     ]
    }
   ],
   "source": [
    "group_target_real.info()"
   ]
  },
  {
   "cell_type": "code",
   "execution_count": 32,
   "metadata": {},
   "outputs": [],
   "source": [
    "group_target_real['n_visits'] = group_target_real['n_visits'].astype('int8')\n",
    "group_target_real['visited'] = group_target_real['visited'].astype('int8')"
   ]
  },
  {
   "cell_type": "code",
   "execution_count": 33,
   "metadata": {},
   "outputs": [
    {
     "data": {
      "text/plain": [
       "30159"
      ]
     },
     "execution_count": 33,
     "metadata": {},
     "output_type": "execute_result"
    }
   ],
   "source": [
    "len(group_target_real['user_id'].unique())"
   ]
  },
  {
   "cell_type": "code",
   "execution_count": 34,
   "metadata": {},
   "outputs": [],
   "source": [
    "del all_combinations"
   ]
  },
  {
   "cell_type": "markdown",
   "metadata": {},
   "source": [
    "## Данные по пользователям ранее"
   ]
  },
  {
   "cell_type": "code",
   "execution_count": 35,
   "metadata": {},
   "outputs": [],
   "source": [
    "visited_raw = pd.read_sql(\"\"\"\n",
    "    SELECT \n",
    "        user_id\n",
    "        , category2_id\n",
    "        , group_id\n",
    "        , weekday\n",
    "        , lower_bound\n",
    "        , upper_bound\n",
    "        , count(user_id) as n\n",
    "        , is_online\n",
    "    FROM (\n",
    "        SELECT \n",
    "            attend.group_id\n",
    "            , user_id\n",
    "            , strftime('%w', event_date) + 1 as weekday\n",
    "            , CAST(event_start AS INT) as lower_bound\n",
    "            , CAST(event_end AS INT) as upper_bound\n",
    "            , attend.is_online\n",
    "            , category2_id\n",
    "        FROM attend\n",
    "        LEFT JOIN groups ON attend.group_id = groups.group_id\n",
    "        WHERE event_date < '2023-02-01' AND event_date >= '2023-01-01' AND category2_id IS NOT NULL\n",
    "    )\n",
    "    GROUP BY user_id, category2_id, group_id, weekday, lower_bound, upper_bound, is_online\n",
    "\"\"\", con=db, dtype={\n",
    "    'user_id': 'int32', 'category2_id': 'int16', 'weekday': 'int8', \n",
    "    'lower_bound': 'int8', 'upper_bound': 'int8',\n",
    "    'n': 'int8'\n",
    "})"
   ]
  },
  {
   "cell_type": "code",
   "execution_count": 36,
   "metadata": {},
   "outputs": [],
   "source": [
    "visited_raw['u_timetable'] = visited_raw.apply(\n",
    "    lambda x: week_ones(x['weekday'], x['lower_bound'], x['upper_bound'], x['n'], padding=0)\n",
    ", axis=1)"
   ]
  },
  {
   "cell_type": "code",
   "execution_count": 37,
   "metadata": {},
   "outputs": [],
   "source": [
    "visited_raw['u_timetable_time'] = visited_raw.apply(\n",
    "    lambda x: week_ones(x['weekday'], x['lower_bound'], x['upper_bound'], x['n'], padding=2).sum(axis=0)\n",
    ", axis=1)"
   ]
  },
  {
   "cell_type": "code",
   "execution_count": 38,
   "metadata": {},
   "outputs": [
    {
     "data": {
      "text/plain": [
       "array([0, 2, 2, 2, 2, 2, 2, 2, 0, 0, 0, 0, 0, 0, 0, 0, 0])"
      ]
     },
     "execution_count": 38,
     "metadata": {},
     "output_type": "execute_result"
    }
   ],
   "source": [
    "week_ones(1, 9, 12, 2, padding=2).sum(axis=0)"
   ]
  },
  {
   "cell_type": "code",
   "execution_count": 39,
   "metadata": {},
   "outputs": [],
   "source": [
    "user_real_visits = visited_raw.groupby(['user_id', 'group_id'], as_index=False).agg({'n': 'sum'})\n",
    "user_real_visits.columns = ['user_id', 'group_id', 'target_n_visited']"
   ]
  },
  {
   "cell_type": "code",
   "execution_count": 40,
   "metadata": {},
   "outputs": [],
   "source": [
    "from scipy.special import softmax"
   ]
  },
  {
   "cell_type": "code",
   "execution_count": 41,
   "metadata": {},
   "outputs": [],
   "source": [
    "user_visit_time_general = visited_raw.groupby('user_id', as_index=False).agg({'u_timetable_time': sum})\n",
    "# user_visit_time_general['u_timetable_time'] = user_visit_time_general['u_timetable_time'].apply(lambda x: np.clip(x, 0, 1))\n",
    "user_visit_time_general['u_timetable_time'] = user_visit_time_general['u_timetable_time'].apply(lambda x: (softmax(x) / max(softmax(x))).round(2))"
   ]
  },
  {
   "cell_type": "code",
   "execution_count": 42,
   "metadata": {},
   "outputs": [],
   "source": [
    "user_visit_time = visited_raw.groupby('user_id', as_index=False).agg({'u_timetable': sum})"
   ]
  },
  {
   "cell_type": "code",
   "execution_count": 43,
   "metadata": {},
   "outputs": [
    {
     "data": {
      "text/plain": [
       "array([[0, 0, 0, 0, 0, 0, 0, 0, 0, 0, 0, 0, 0, 0, 0, 0, 0],\n",
       "       [0, 0, 0, 0, 0, 0, 0, 0, 0, 0, 0, 0, 0, 0, 0, 0, 0],\n",
       "       [0, 0, 0, 0, 0, 0, 0, 0, 0, 0, 3, 0, 0, 0, 0, 0, 0],\n",
       "       [0, 0, 0, 0, 0, 0, 0, 0, 0, 0, 0, 0, 0, 0, 0, 0, 0],\n",
       "       [0, 0, 0, 0, 0, 0, 0, 0, 0, 0, 2, 0, 0, 0, 0, 0, 0],\n",
       "       [0, 0, 0, 0, 0, 0, 0, 0, 0, 0, 0, 0, 0, 0, 0, 0, 0],\n",
       "       [0, 0, 0, 0, 0, 0, 0, 0, 0, 0, 0, 0, 0, 0, 0, 0, 0]], dtype=int8)"
      ]
     },
     "execution_count": 43,
     "metadata": {},
     "output_type": "execute_result"
    }
   ],
   "source": [
    "user_visit_time.loc[20]['u_timetable']"
   ]
  },
  {
   "cell_type": "code",
   "execution_count": 44,
   "metadata": {},
   "outputs": [],
   "source": [
    "user_online = visited_raw.groupby('user_id', as_index=False).agg({'n': 'sum', 'is_online': 'sum'})"
   ]
  },
  {
   "cell_type": "code",
   "execution_count": 45,
   "metadata": {},
   "outputs": [],
   "source": [
    "user_online['is_offline'] = user_online['n'] - user_online['is_online']"
   ]
  },
  {
   "cell_type": "code",
   "execution_count": 46,
   "metadata": {},
   "outputs": [],
   "source": [
    "user_visit_time_cat = visited_raw.groupby(['user_id', 'category2_id'], as_index=False).agg({'u_timetable': sum})\n",
    "user_visit_time_cat.columns = ['user_id', 'category2_id', 'u_cat_timetable']"
   ]
  },
  {
   "cell_type": "code",
   "execution_count": 47,
   "metadata": {},
   "outputs": [
    {
     "data": {
      "text/html": [
       "<div>\n",
       "<style scoped>\n",
       "    .dataframe tbody tr th:only-of-type {\n",
       "        vertical-align: middle;\n",
       "    }\n",
       "\n",
       "    .dataframe tbody tr th {\n",
       "        vertical-align: top;\n",
       "    }\n",
       "\n",
       "    .dataframe thead th {\n",
       "        text-align: right;\n",
       "    }\n",
       "</style>\n",
       "<table border=\"1\" class=\"dataframe\">\n",
       "  <thead>\n",
       "    <tr style=\"text-align: right;\">\n",
       "      <th></th>\n",
       "      <th>user_id</th>\n",
       "      <th>n</th>\n",
       "      <th>is_online</th>\n",
       "      <th>is_offline</th>\n",
       "    </tr>\n",
       "  </thead>\n",
       "  <tbody>\n",
       "    <tr>\n",
       "      <th>0</th>\n",
       "      <td>101346549</td>\n",
       "      <td>5</td>\n",
       "      <td>4</td>\n",
       "      <td>1</td>\n",
       "    </tr>\n",
       "    <tr>\n",
       "      <th>1</th>\n",
       "      <td>101346552</td>\n",
       "      <td>38</td>\n",
       "      <td>14</td>\n",
       "      <td>24</td>\n",
       "    </tr>\n",
       "    <tr>\n",
       "      <th>2</th>\n",
       "      <td>101346559</td>\n",
       "      <td>17</td>\n",
       "      <td>7</td>\n",
       "      <td>10</td>\n",
       "    </tr>\n",
       "    <tr>\n",
       "      <th>3</th>\n",
       "      <td>101346562</td>\n",
       "      <td>12</td>\n",
       "      <td>0</td>\n",
       "      <td>12</td>\n",
       "    </tr>\n",
       "    <tr>\n",
       "      <th>4</th>\n",
       "      <td>101346566</td>\n",
       "      <td>6</td>\n",
       "      <td>0</td>\n",
       "      <td>6</td>\n",
       "    </tr>\n",
       "  </tbody>\n",
       "</table>\n",
       "</div>"
      ],
      "text/plain": [
       "     user_id   n  is_online  is_offline\n",
       "0  101346549   5          4           1\n",
       "1  101346552  38         14          24\n",
       "2  101346559  17          7          10\n",
       "3  101346562  12          0          12\n",
       "4  101346566   6          0           6"
      ]
     },
     "execution_count": 47,
     "metadata": {},
     "output_type": "execute_result"
    }
   ],
   "source": [
    "user_online.head()"
   ]
  },
  {
   "cell_type": "code",
   "execution_count": 48,
   "metadata": {},
   "outputs": [],
   "source": [
    "user_online.columns = ['user_id', 'n_visits', 'n_online', 'n_offline']"
   ]
  },
  {
   "cell_type": "code",
   "execution_count": 49,
   "metadata": {},
   "outputs": [],
   "source": [
    "user_online[['n_online', 'n_offline']] = softmax(np.log(user_online[['n_online', 'n_offline']] + 1), axis=1)"
   ]
  },
  {
   "cell_type": "code",
   "execution_count": 50,
   "metadata": {},
   "outputs": [
    {
     "data": {
      "text/html": [
       "<div>\n",
       "<style scoped>\n",
       "    .dataframe tbody tr th:only-of-type {\n",
       "        vertical-align: middle;\n",
       "    }\n",
       "\n",
       "    .dataframe tbody tr th {\n",
       "        vertical-align: top;\n",
       "    }\n",
       "\n",
       "    .dataframe thead th {\n",
       "        text-align: right;\n",
       "    }\n",
       "</style>\n",
       "<table border=\"1\" class=\"dataframe\">\n",
       "  <thead>\n",
       "    <tr style=\"text-align: right;\">\n",
       "      <th></th>\n",
       "      <th>user_id</th>\n",
       "      <th>n_visits</th>\n",
       "      <th>n_online</th>\n",
       "      <th>n_offline</th>\n",
       "    </tr>\n",
       "  </thead>\n",
       "  <tbody>\n",
       "    <tr>\n",
       "      <th>0</th>\n",
       "      <td>101346549</td>\n",
       "      <td>5</td>\n",
       "      <td>0.714286</td>\n",
       "      <td>0.285714</td>\n",
       "    </tr>\n",
       "    <tr>\n",
       "      <th>1</th>\n",
       "      <td>101346552</td>\n",
       "      <td>38</td>\n",
       "      <td>0.375000</td>\n",
       "      <td>0.625000</td>\n",
       "    </tr>\n",
       "    <tr>\n",
       "      <th>2</th>\n",
       "      <td>101346559</td>\n",
       "      <td>17</td>\n",
       "      <td>0.421053</td>\n",
       "      <td>0.578947</td>\n",
       "    </tr>\n",
       "    <tr>\n",
       "      <th>3</th>\n",
       "      <td>101346562</td>\n",
       "      <td>12</td>\n",
       "      <td>0.071429</td>\n",
       "      <td>0.928571</td>\n",
       "    </tr>\n",
       "    <tr>\n",
       "      <th>4</th>\n",
       "      <td>101346566</td>\n",
       "      <td>6</td>\n",
       "      <td>0.125000</td>\n",
       "      <td>0.875000</td>\n",
       "    </tr>\n",
       "  </tbody>\n",
       "</table>\n",
       "</div>"
      ],
      "text/plain": [
       "     user_id  n_visits  n_online  n_offline\n",
       "0  101346549         5  0.714286   0.285714\n",
       "1  101346552        38  0.375000   0.625000\n",
       "2  101346559        17  0.421053   0.578947\n",
       "3  101346562        12  0.071429   0.928571\n",
       "4  101346566         6  0.125000   0.875000"
      ]
     },
     "execution_count": 50,
     "metadata": {},
     "output_type": "execute_result"
    }
   ],
   "source": [
    "user_online.head()"
   ]
  },
  {
   "cell_type": "code",
   "execution_count": 51,
   "metadata": {},
   "outputs": [],
   "source": [
    "user_online = user_online[['user_id', 'n_online', 'n_offline']]\n",
    "user_online.columns = ['user_id', 'u_online', 'u_offline']"
   ]
  },
  {
   "cell_type": "code",
   "execution_count": 52,
   "metadata": {},
   "outputs": [],
   "source": [
    "total = group_target_real.merge(\n",
    "    user_visit_time, on='user_id'\n",
    ").merge(\n",
    "    user_online, on='user_id'\n",
    ").merge(\n",
    "    user_real_visits, on=['group_id', 'user_id'], how='left'\n",
    ").merge(\n",
    "    user_visit_time_cat, on=['category2_id', 'user_id'], how='left'\n",
    ").merge(\n",
    "    user_visit_time_general, on='user_id'\n",
    ")"
   ]
  },
  {
   "cell_type": "code",
   "execution_count": 53,
   "metadata": {},
   "outputs": [],
   "source": [
    "total['n_visits'] = total['n_visits'].fillna(0).astype('int8')\n",
    "total['n_neighbors'] = total['n_neighbors'].astype('int16')\n",
    "total = total[total['n_visits'] == 0]\n",
    "\n",
    "total = total.merge(\n",
    "    total[total['target_n_visited'] > 0][['user_id', 'category3_id']].drop_duplicates()\n",
    ")"
   ]
  },
  {
   "cell_type": "code",
   "execution_count": 54,
   "metadata": {},
   "outputs": [
    {
     "data": {
      "text/plain": [
       "(512702, 20)"
      ]
     },
     "execution_count": 54,
     "metadata": {},
     "output_type": "execute_result"
    }
   ],
   "source": [
    "total.shape"
   ]
  },
  {
   "cell_type": "code",
   "execution_count": 55,
   "metadata": {},
   "outputs": [],
   "source": [
    "total['u_cat_timetable'] = total['u_cat_timetable'].apply(lambda x: np.zeros((7, 17), dtype='int8') if type(x) == float else x)"
   ]
  },
  {
   "cell_type": "code",
   "execution_count": 56,
   "metadata": {},
   "outputs": [],
   "source": [
    "total['is_offline'] = 1 - total['is_online'] "
   ]
  },
  {
   "cell_type": "code",
   "execution_count": 57,
   "metadata": {},
   "outputs": [],
   "source": [
    "total['u_online'] = total['u_online'].astype('float16')\n",
    "total['u_offline'] = total['u_offline'].astype('float16')"
   ]
  },
  {
   "cell_type": "code",
   "execution_count": 58,
   "metadata": {},
   "outputs": [
    {
     "data": {
      "application/vnd.jupyter.widget-view+json": {
       "model_id": "51f1398c0a0946569bbae5a67a5baf7e",
       "version_major": 2,
       "version_minor": 0
      },
      "text/plain": [
       "  0%|          | 0/512702 [00:00<?, ?it/s]"
      ]
     },
     "metadata": {},
     "output_type": "display_data"
    }
   ],
   "source": [
    "total['unmatch_other'] = total.progress_apply(\n",
    "    lambda x: 1 - ((1 - np.clip((x['u_timetable'] - x['u_cat_timetable']) / 4, 0, 1) ) * x['timetable']).sum() / x['timetable'].sum(),\n",
    "    axis=1\n",
    ")"
   ]
  },
  {
   "cell_type": "code",
   "execution_count": 59,
   "metadata": {},
   "outputs": [
    {
     "data": {
      "application/vnd.jupyter.widget-view+json": {
       "model_id": "2fe91e055bdf4b9e9cd45a084182f1ac",
       "version_major": 2,
       "version_minor": 0
      },
      "text/plain": [
       "  0%|          | 0/512702 [00:00<?, ?it/s]"
      ]
     },
     "metadata": {},
     "output_type": "display_data"
    }
   ],
   "source": [
    "total['daytime_match'] = total.progress_apply(\n",
    "    lambda x: (x['u_timetable_time'] * x['timetable']).sum() / x['timetable'].sum(),\n",
    "    axis=1\n",
    ")"
   ]
  },
  {
   "cell_type": "code",
   "execution_count": 60,
   "metadata": {
    "scrolled": true
   },
   "outputs": [
    {
     "data": {
      "application/vnd.jupyter.widget-view+json": {
       "model_id": "7b5c25bf1097416c8f5943a10199901d",
       "version_major": 2,
       "version_minor": 0
      },
      "text/plain": [
       "  0%|          | 0/512702 [00:00<?, ?it/s]"
      ]
     },
     "metadata": {},
     "output_type": "display_data"
    }
   ],
   "source": [
    "total['match_same'] = total.progress_apply(\n",
    "    lambda x: 1 - ((1 - np.clip(x['u_cat_timetable'] / 4, 0, 1)) * x['timetable']).sum() / x['timetable'].sum(),\n",
    "    axis=1\n",
    ")"
   ]
  },
  {
   "cell_type": "code",
   "execution_count": 61,
   "metadata": {},
   "outputs": [],
   "source": [
    "total['target_n_visited'] = total['target_n_visited'].fillna(0).astype('int16')\n",
    "total['unmatch_other'] = total['unmatch_other'].astype('float32')\n",
    "total['match_same'] = total['match_same'].astype('float32')"
   ]
  },
  {
   "cell_type": "code",
   "execution_count": 62,
   "metadata": {},
   "outputs": [
    {
     "data": {
      "text/plain": [
       "0.003777833029449141"
      ]
     },
     "execution_count": 62,
     "metadata": {},
     "output_type": "execute_result"
    }
   ],
   "source": [
    "(total[total['daytime_match'] == 0]['target_n_visited'] > 0).mean()"
   ]
  },
  {
   "cell_type": "code",
   "execution_count": 63,
   "metadata": {},
   "outputs": [
    {
     "data": {
      "text/plain": [
       "0.0061998858416460545"
      ]
     },
     "execution_count": 63,
     "metadata": {},
     "output_type": "execute_result"
    }
   ],
   "source": [
    "(total[total['daytime_match'] > 0]['target_n_visited'] > 0).mean()"
   ]
  },
  {
   "cell_type": "code",
   "execution_count": 64,
   "metadata": {},
   "outputs": [],
   "source": [
    "total.drop(['u_timetable', 'u_cat_timetable', 'timetable', 'u_timetable_time'], axis=1, inplace=True)"
   ]
  },
  {
   "cell_type": "code",
   "execution_count": 65,
   "metadata": {},
   "outputs": [
    {
     "data": {
      "text/plain": [
       "Index(['group_id', 'n_days', 'category3_id', 'category2_id', 'is_online',\n",
       "       'is_mobile', 'user_id', 'same_post', 'same_zone', 'same_district',\n",
       "       'n_neighbors', 'n_visits', 'visited', 'u_online', 'u_offline',\n",
       "       'target_n_visited', 'is_offline', 'unmatch_other', 'daytime_match',\n",
       "       'match_same'],\n",
       "      dtype='object')"
      ]
     },
     "execution_count": 65,
     "metadata": {},
     "output_type": "execute_result"
    }
   ],
   "source": [
    "total.columns"
   ]
  },
  {
   "cell_type": "code",
   "execution_count": 66,
   "metadata": {},
   "outputs": [],
   "source": [
    "total.columns = ['group_id', 'n_days', 'category3_id', 'category2_id', 'g_online', 'g_mobile',\n",
    "       'user_id', 'same_post', 'same_zone', 'same_district', 'n_neighbors',\n",
    "       'n_visits', 'visited', 'u_online', 'u_offline',\n",
    "       'target_n_visited', 'g_offline', 'unmatch_other', 'daytime_match', 'match_same']"
   ]
  },
  {
   "cell_type": "code",
   "execution_count": 67,
   "metadata": {},
   "outputs": [],
   "source": [
    "total['x_online'] = (total['g_online'] * total['u_online']).round(4).astype('float16')\n",
    "total['x_offline'] = (total['g_offline'] * total['u_offline']).round(4).astype('float16')"
   ]
  },
  {
   "cell_type": "code",
   "execution_count": 68,
   "metadata": {},
   "outputs": [
    {
     "data": {
      "text/plain": [
       "Index(['group_id', 'n_days', 'category3_id', 'category2_id', 'g_online',\n",
       "       'g_mobile', 'user_id', 'same_post', 'same_zone', 'same_district',\n",
       "       'n_neighbors', 'n_visits', 'visited', 'u_online', 'u_offline',\n",
       "       'target_n_visited', 'g_offline', 'unmatch_other', 'daytime_match',\n",
       "       'match_same', 'x_online', 'x_offline'],\n",
       "      dtype='object')"
      ]
     },
     "execution_count": 68,
     "metadata": {},
     "output_type": "execute_result"
    }
   ],
   "source": [
    "total.columns"
   ]
  },
  {
   "cell_type": "code",
   "execution_count": 69,
   "metadata": {},
   "outputs": [],
   "source": [
    "total = total[[\n",
    "        'group_id', 'user_id', 'category3_id',\n",
    "        'x_online', 'x_offline', \n",
    "        'same_post', 'same_zone', 'same_district',\n",
    "        'unmatch_other', \n",
    "        'match_same', \n",
    "        'daytime_match',\n",
    "        'n_neighbors', \n",
    "        'n_days',\n",
    "        'target_n_visited'\n",
    "]]"
   ]
  },
  {
   "cell_type": "code",
   "execution_count": 70,
   "metadata": {},
   "outputs": [
    {
     "data": {
      "text/html": [
       "<div>\n",
       "<style scoped>\n",
       "    .dataframe tbody tr th:only-of-type {\n",
       "        vertical-align: middle;\n",
       "    }\n",
       "\n",
       "    .dataframe tbody tr th {\n",
       "        vertical-align: top;\n",
       "    }\n",
       "\n",
       "    .dataframe thead th {\n",
       "        text-align: right;\n",
       "    }\n",
       "</style>\n",
       "<table border=\"1\" class=\"dataframe\">\n",
       "  <thead>\n",
       "    <tr style=\"text-align: right;\">\n",
       "      <th></th>\n",
       "      <th>group_id</th>\n",
       "      <th>user_id</th>\n",
       "      <th>category3_id</th>\n",
       "      <th>x_online</th>\n",
       "      <th>x_offline</th>\n",
       "      <th>same_post</th>\n",
       "      <th>same_zone</th>\n",
       "      <th>same_district</th>\n",
       "      <th>unmatch_other</th>\n",
       "      <th>match_same</th>\n",
       "      <th>daytime_match</th>\n",
       "      <th>n_neighbors</th>\n",
       "      <th>n_days</th>\n",
       "      <th>target_n_visited</th>\n",
       "    </tr>\n",
       "  </thead>\n",
       "  <tbody>\n",
       "    <tr>\n",
       "      <th>0</th>\n",
       "      <td>801346553</td>\n",
       "      <td>101346666</td>\n",
       "      <td>104</td>\n",
       "      <td>0.0</td>\n",
       "      <td>0.856934</td>\n",
       "      <td>0</td>\n",
       "      <td>0</td>\n",
       "      <td>0</td>\n",
       "      <td>0.0</td>\n",
       "      <td>0.0</td>\n",
       "      <td>1.0</td>\n",
       "      <td>0</td>\n",
       "      <td>27</td>\n",
       "      <td>0</td>\n",
       "    </tr>\n",
       "    <tr>\n",
       "      <th>1</th>\n",
       "      <td>801346676</td>\n",
       "      <td>101346666</td>\n",
       "      <td>104</td>\n",
       "      <td>0.0</td>\n",
       "      <td>0.856934</td>\n",
       "      <td>0</td>\n",
       "      <td>0</td>\n",
       "      <td>0</td>\n",
       "      <td>0.0</td>\n",
       "      <td>0.0</td>\n",
       "      <td>1.0</td>\n",
       "      <td>0</td>\n",
       "      <td>27</td>\n",
       "      <td>0</td>\n",
       "    </tr>\n",
       "    <tr>\n",
       "      <th>2</th>\n",
       "      <td>801346713</td>\n",
       "      <td>101346666</td>\n",
       "      <td>104</td>\n",
       "      <td>0.0</td>\n",
       "      <td>0.856934</td>\n",
       "      <td>0</td>\n",
       "      <td>0</td>\n",
       "      <td>0</td>\n",
       "      <td>0.0</td>\n",
       "      <td>0.0</td>\n",
       "      <td>1.0</td>\n",
       "      <td>0</td>\n",
       "      <td>27</td>\n",
       "      <td>0</td>\n",
       "    </tr>\n",
       "    <tr>\n",
       "      <th>3</th>\n",
       "      <td>801346765</td>\n",
       "      <td>101346666</td>\n",
       "      <td>104</td>\n",
       "      <td>0.0</td>\n",
       "      <td>0.856934</td>\n",
       "      <td>0</td>\n",
       "      <td>0</td>\n",
       "      <td>0</td>\n",
       "      <td>0.0</td>\n",
       "      <td>0.0</td>\n",
       "      <td>1.0</td>\n",
       "      <td>0</td>\n",
       "      <td>27</td>\n",
       "      <td>0</td>\n",
       "    </tr>\n",
       "    <tr>\n",
       "      <th>4</th>\n",
       "      <td>801346817</td>\n",
       "      <td>101346666</td>\n",
       "      <td>104</td>\n",
       "      <td>0.0</td>\n",
       "      <td>0.856934</td>\n",
       "      <td>0</td>\n",
       "      <td>0</td>\n",
       "      <td>0</td>\n",
       "      <td>0.0</td>\n",
       "      <td>0.0</td>\n",
       "      <td>1.0</td>\n",
       "      <td>0</td>\n",
       "      <td>27</td>\n",
       "      <td>0</td>\n",
       "    </tr>\n",
       "  </tbody>\n",
       "</table>\n",
       "</div>"
      ],
      "text/plain": [
       "    group_id    user_id  category3_id  x_online  x_offline  same_post   \n",
       "0  801346553  101346666           104       0.0   0.856934          0  \\\n",
       "1  801346676  101346666           104       0.0   0.856934          0   \n",
       "2  801346713  101346666           104       0.0   0.856934          0   \n",
       "3  801346765  101346666           104       0.0   0.856934          0   \n",
       "4  801346817  101346666           104       0.0   0.856934          0   \n",
       "\n",
       "   same_zone  same_district  unmatch_other  match_same  daytime_match   \n",
       "0          0              0            0.0         0.0            1.0  \\\n",
       "1          0              0            0.0         0.0            1.0   \n",
       "2          0              0            0.0         0.0            1.0   \n",
       "3          0              0            0.0         0.0            1.0   \n",
       "4          0              0            0.0         0.0            1.0   \n",
       "\n",
       "   n_neighbors  n_days  target_n_visited  \n",
       "0            0      27                 0  \n",
       "1            0      27                 0  \n",
       "2            0      27                 0  \n",
       "3            0      27                 0  \n",
       "4            0      27                 0  "
      ]
     },
     "execution_count": 70,
     "metadata": {},
     "output_type": "execute_result"
    }
   ],
   "source": [
    "total.head()"
   ]
  },
  {
   "cell_type": "code",
   "execution_count": 71,
   "metadata": {},
   "outputs": [],
   "source": [
    "total['has_neighbors'] = (total['n_neighbors'] > 0).astype('int8')\n",
    "total['log_neighbors'] = np.log(total['n_neighbors'] + 1).astype('float32')\n",
    "total['log_days'] = np.log(total['n_days'] + 1).astype('float32')"
   ]
  },
  {
   "cell_type": "code",
   "execution_count": 99,
   "metadata": {},
   "outputs": [],
   "source": [
    "cols = [\n",
    "#        'x_online', 'x_offline', \n",
    "        'same_post', 'same_zone', 'same_district',\n",
    "        'unmatch_other', 'match_same', 'daytime_match',\n",
    "        'has_neighbors', 'log_days'\n",
    "    ]"
   ]
  },
  {
   "cell_type": "code",
   "execution_count": 100,
   "metadata": {},
   "outputs": [],
   "source": [
    "from sklearn.model_selection import train_test_split\n",
    "from sklearn.linear_model import LogisticRegression\n",
    "from sklearn.metrics import classification_report"
   ]
  },
  {
   "cell_type": "code",
   "execution_count": 101,
   "metadata": {},
   "outputs": [],
   "source": [
    "users_train, users_test = train_test_split(total['user_id'].unique(), test_size=0.2)"
   ]
  },
  {
   "cell_type": "code",
   "execution_count": 102,
   "metadata": {},
   "outputs": [],
   "source": [
    "i_train = total['user_id'].isin(set(users_train))\n",
    "i_test = total['user_id'].isin(set(users_test))\n",
    "\n",
    "X_train = total[i_train].set_index(['user_id', 'category3_id'])[cols]\n",
    "X_test = total[i_test].set_index(['user_id', 'category3_id'])[cols]\n",
    "y_train = (total[i_train].set_index(['user_id', 'category3_id'])['target_n_visited'] > 0).astype('int8')\n",
    "y_test = (total[i_test].set_index(['user_id', 'category3_id'])['target_n_visited'] > 0).astype('int8')"
   ]
  },
  {
   "cell_type": "code",
   "execution_count": 103,
   "metadata": {},
   "outputs": [
    {
     "data": {
      "text/html": [
       "<style>#sk-container-id-2 {color: black;background-color: white;}#sk-container-id-2 pre{padding: 0;}#sk-container-id-2 div.sk-toggleable {background-color: white;}#sk-container-id-2 label.sk-toggleable__label {cursor: pointer;display: block;width: 100%;margin-bottom: 0;padding: 0.3em;box-sizing: border-box;text-align: center;}#sk-container-id-2 label.sk-toggleable__label-arrow:before {content: \"▸\";float: left;margin-right: 0.25em;color: #696969;}#sk-container-id-2 label.sk-toggleable__label-arrow:hover:before {color: black;}#sk-container-id-2 div.sk-estimator:hover label.sk-toggleable__label-arrow:before {color: black;}#sk-container-id-2 div.sk-toggleable__content {max-height: 0;max-width: 0;overflow: hidden;text-align: left;background-color: #f0f8ff;}#sk-container-id-2 div.sk-toggleable__content pre {margin: 0.2em;color: black;border-radius: 0.25em;background-color: #f0f8ff;}#sk-container-id-2 input.sk-toggleable__control:checked~div.sk-toggleable__content {max-height: 200px;max-width: 100%;overflow: auto;}#sk-container-id-2 input.sk-toggleable__control:checked~label.sk-toggleable__label-arrow:before {content: \"▾\";}#sk-container-id-2 div.sk-estimator input.sk-toggleable__control:checked~label.sk-toggleable__label {background-color: #d4ebff;}#sk-container-id-2 div.sk-label input.sk-toggleable__control:checked~label.sk-toggleable__label {background-color: #d4ebff;}#sk-container-id-2 input.sk-hidden--visually {border: 0;clip: rect(1px 1px 1px 1px);clip: rect(1px, 1px, 1px, 1px);height: 1px;margin: -1px;overflow: hidden;padding: 0;position: absolute;width: 1px;}#sk-container-id-2 div.sk-estimator {font-family: monospace;background-color: #f0f8ff;border: 1px dotted black;border-radius: 0.25em;box-sizing: border-box;margin-bottom: 0.5em;}#sk-container-id-2 div.sk-estimator:hover {background-color: #d4ebff;}#sk-container-id-2 div.sk-parallel-item::after {content: \"\";width: 100%;border-bottom: 1px solid gray;flex-grow: 1;}#sk-container-id-2 div.sk-label:hover label.sk-toggleable__label {background-color: #d4ebff;}#sk-container-id-2 div.sk-serial::before {content: \"\";position: absolute;border-left: 1px solid gray;box-sizing: border-box;top: 0;bottom: 0;left: 50%;z-index: 0;}#sk-container-id-2 div.sk-serial {display: flex;flex-direction: column;align-items: center;background-color: white;padding-right: 0.2em;padding-left: 0.2em;position: relative;}#sk-container-id-2 div.sk-item {position: relative;z-index: 1;}#sk-container-id-2 div.sk-parallel {display: flex;align-items: stretch;justify-content: center;background-color: white;position: relative;}#sk-container-id-2 div.sk-item::before, #sk-container-id-2 div.sk-parallel-item::before {content: \"\";position: absolute;border-left: 1px solid gray;box-sizing: border-box;top: 0;bottom: 0;left: 50%;z-index: -1;}#sk-container-id-2 div.sk-parallel-item {display: flex;flex-direction: column;z-index: 1;position: relative;background-color: white;}#sk-container-id-2 div.sk-parallel-item:first-child::after {align-self: flex-end;width: 50%;}#sk-container-id-2 div.sk-parallel-item:last-child::after {align-self: flex-start;width: 50%;}#sk-container-id-2 div.sk-parallel-item:only-child::after {width: 0;}#sk-container-id-2 div.sk-dashed-wrapped {border: 1px dashed gray;margin: 0 0.4em 0.5em 0.4em;box-sizing: border-box;padding-bottom: 0.4em;background-color: white;}#sk-container-id-2 div.sk-label label {font-family: monospace;font-weight: bold;display: inline-block;line-height: 1.2em;}#sk-container-id-2 div.sk-label-container {text-align: center;}#sk-container-id-2 div.sk-container {/* jupyter's `normalize.less` sets `[hidden] { display: none; }` but bootstrap.min.css set `[hidden] { display: none !important; }` so we also need the `!important` here to be able to override the default hidden behavior on the sphinx rendered scikit-learn.org. See: https://github.com/scikit-learn/scikit-learn/issues/21755 */display: inline-block !important;position: relative;}#sk-container-id-2 div.sk-text-repr-fallback {display: none;}</style><div id=\"sk-container-id-2\" class=\"sk-top-container\"><div class=\"sk-text-repr-fallback\"><pre>LogisticRegression(class_weight=&#x27;balanced&#x27;)</pre><b>In a Jupyter environment, please rerun this cell to show the HTML representation or trust the notebook. <br />On GitHub, the HTML representation is unable to render, please try loading this page with nbviewer.org.</b></div><div class=\"sk-container\" hidden><div class=\"sk-item\"><div class=\"sk-estimator sk-toggleable\"><input class=\"sk-toggleable__control sk-hidden--visually\" id=\"sk-estimator-id-2\" type=\"checkbox\" checked><label for=\"sk-estimator-id-2\" class=\"sk-toggleable__label sk-toggleable__label-arrow\">LogisticRegression</label><div class=\"sk-toggleable__content\"><pre>LogisticRegression(class_weight=&#x27;balanced&#x27;)</pre></div></div></div></div></div>"
      ],
      "text/plain": [
       "LogisticRegression(class_weight='balanced')"
      ]
     },
     "execution_count": 103,
     "metadata": {},
     "output_type": "execute_result"
    }
   ],
   "source": [
    "model = LogisticRegression(class_weight='balanced')\n",
    "\n",
    "model.fit(X_train, y_train)"
   ]
  },
  {
   "cell_type": "code",
   "execution_count": 104,
   "metadata": {},
   "outputs": [
    {
     "name": "stdout",
     "output_type": "stream",
     "text": [
      "              precision    recall  f1-score   support\n",
      "\n",
      "           0       1.00      0.88      0.94    105896\n",
      "           1       0.03      0.61      0.05       556\n",
      "\n",
      "    accuracy                           0.88    106452\n",
      "   macro avg       0.51      0.75      0.49    106452\n",
      "weighted avg       0.99      0.88      0.93    106452\n",
      "\n"
     ]
    }
   ],
   "source": [
    "print(classification_report(y_test, model.predict(X_test)))"
   ]
  },
  {
   "cell_type": "code",
   "execution_count": 105,
   "metadata": {},
   "outputs": [
    {
     "name": "stdout",
     "output_type": "stream",
     "text": [
      "[0.00599535]\n",
      "0.51795792874992 same_post\n",
      "1.9495522695816145 same_zone\n",
      "1.1933673301347765 same_district\n",
      "0.4452992814512414 unmatch_other\n",
      "0.6046535395812348 match_same\n",
      "0.4433465530408858 daytime_match\n",
      "2.8217687930726325 has_neighbors\n",
      "-0.29277446050774936 log_days\n"
     ]
    }
   ],
   "source": [
    "print(model.intercept_)\n",
    "for n, c in zip(X_train.columns, model.coef_[0]):\n",
    "    print(c, n)"
   ]
  },
  {
   "cell_type": "code",
   "execution_count": 106,
   "metadata": {},
   "outputs": [],
   "source": [
    "x_see = X_test.copy()\n",
    "x_see['n_occurred'] = total[i_test]['target_n_visited'].values\n",
    "x_see['has_occurred'] = (total[i_test]['target_n_visited'] > 0).astype('int8').values\n",
    "x_see['group_id'] = total[i_test]['group_id'].values\n",
    "x_see['predict'] = model.predict_proba(X_test)[:, 1].round(8)\n",
    "x_see['predict'] = x_see['predict']#.astype('float16')\n",
    "# x_see['has_neighbors'] = (x_see['n_neighbors'] > 0).astype('int8')\n",
    "x_see = x_see.reset_index()\n",
    "\n",
    "x_see = x_see.sort_values(\n",
    "#     by='predict'\n",
    "#     , ascending=False\n",
    "    by=['predict', 'same_district', 'same_zone', 'has_neighbors', 'same_post', 'group_id'] #, 'match_same'\n",
    "    , ascending=[False, False, False, False, False, False]\n",
    ").groupby(\n",
    "    ['user_id', 'category3_id'], as_index=False\n",
    ").agg({\n",
    "    'predict': list,\n",
    "    'group_id': list,\n",
    "    'has_occurred': list,\n",
    "    'n_occurred': list,\n",
    "    'same_post': list,\n",
    "    'same_zone': list,\n",
    "    'same_district': list,\n",
    "    'has_neighbors': list,\n",
    "#     'unmatch_other': list, \n",
    "#     'daytime_match': list, \n",
    "    'log_days': list, \n",
    "#     'match_same': list\n",
    "})"
   ]
  },
  {
   "cell_type": "code",
   "execution_count": 107,
   "metadata": {},
   "outputs": [],
   "source": [
    "x_see['category_real'] = x_see.apply(\n",
    "    lambda x: [i[1] for i in sorted(zip(x['n_occurred'], x['group_id'])) if i[0] > 0],\n",
    "    axis=1\n",
    ")"
   ]
  },
  {
   "cell_type": "code",
   "execution_count": 108,
   "metadata": {},
   "outputs": [],
   "source": [
    "x_see = x_see[x_see['category_real'].apply(len) > 0]"
   ]
  },
  {
   "cell_type": "code",
   "execution_count": 109,
   "metadata": {},
   "outputs": [],
   "source": [
    "x_see['candidates'] = x_see.apply(\n",
    "    lambda x: x['group_id'][\n",
    "        :min((np.argmax(\n",
    "            np.array(x['predict'][:-1]) - np.array(x['predict'][1:])\n",
    "        ) if len(x['predict']) > 1 else 0) + 1, 10)\n",
    "    ]\n",
    "    , axis=1\n",
    ")"
   ]
  },
  {
   "cell_type": "code",
   "execution_count": 110,
   "metadata": {},
   "outputs": [
    {
     "data": {
      "text/plain": [
       "0.27848101265822783"
      ]
     },
     "execution_count": 110,
     "metadata": {},
     "output_type": "execute_result"
    }
   ],
   "source": [
    "x_see['share_uq'] = x_see.apply(\n",
    "    lambda x: max([1 if real in x['group_id'][:1] else 0 for real in x['category_real']])\n",
    "    , axis=1\n",
    ")\n",
    "x_see['share_uq'].mean()"
   ]
  },
  {
   "cell_type": "code",
   "execution_count": 111,
   "metadata": {},
   "outputs": [],
   "source": [
    "x_see['idx'] = x_see.apply(\n",
    "    lambda x: np.min([x['candidates'].index(real) if real in x['candidates'] else -1 for real in x['category_real'] ])\n",
    "    , axis=1\n",
    ")\n",
    "x_see['mx_idx'] = x_see['candidates'].apply(len)\n",
    "# x_see['share_uq'].mean()"
   ]
  },
  {
   "cell_type": "code",
   "execution_count": null,
   "metadata": {},
   "outputs": [],
   "source": [
    "# x_see[['mx']]"
   ]
  },
  {
   "cell_type": "code",
   "execution_count": 112,
   "metadata": {},
   "outputs": [
    {
     "data": {
      "text/plain": [
       "0.5379746835443038"
      ]
     },
     "execution_count": 112,
     "metadata": {},
     "output_type": "execute_result"
    }
   ],
   "source": [
    "x_see['share_uq'] = x_see.apply(\n",
    "    lambda x: np.max([1 if real in x['candidates'] else 0 for real in x['category_real']])\n",
    "    , axis=1\n",
    ")\n",
    "x_see['share_uq'].mean()"
   ]
  },
  {
   "cell_type": "code",
   "execution_count": 113,
   "metadata": {
    "scrolled": false
   },
   "outputs": [
    {
     "data": {
      "text/html": [
       "<div>\n",
       "<style scoped>\n",
       "    .dataframe tbody tr th:only-of-type {\n",
       "        vertical-align: middle;\n",
       "    }\n",
       "\n",
       "    .dataframe tbody tr th {\n",
       "        vertical-align: top;\n",
       "    }\n",
       "\n",
       "    .dataframe thead th {\n",
       "        text-align: right;\n",
       "    }\n",
       "</style>\n",
       "<table border=\"1\" class=\"dataframe\">\n",
       "  <thead>\n",
       "    <tr style=\"text-align: right;\">\n",
       "      <th></th>\n",
       "      <th>predict</th>\n",
       "      <th>candidates</th>\n",
       "      <th>category_real</th>\n",
       "      <th>same_district</th>\n",
       "      <th>same_zone</th>\n",
       "      <th>same_post</th>\n",
       "      <th>log_days</th>\n",
       "      <th>idx</th>\n",
       "      <th>mx_idx</th>\n",
       "    </tr>\n",
       "  </thead>\n",
       "  <tbody>\n",
       "    <tr>\n",
       "      <th>8</th>\n",
       "      <td>[0.95233122, 0.94350804, 0.93265691, 0.9168369...</td>\n",
       "      <td>[801370019, 801362301, 801351963, 801371348, 8...</td>\n",
       "      <td>[801351963]</td>\n",
       "      <td>[1, 1, 1, 1, 1, 1, 1, 1, 1, 1, 1, 1, 1, 1, 1, ...</td>\n",
       "      <td>[1, 1, 1, 1, 1, 1, 1, 0, 0, 0, 0, 0, 0, 0, 0, ...</td>\n",
       "      <td>[0, 0, 0, 0, 0, 0, 0, 0, 0, 0, 0, 0, 0, 0, 0, ...</td>\n",
       "      <td>[3.33203125, 3.33203125, 3.33203125, 3.3320312...</td>\n",
       "      <td>2</td>\n",
       "      <td>7</td>\n",
       "    </tr>\n",
       "    <tr>\n",
       "      <th>127</th>\n",
       "      <td>[0.99741761, 0.99741761, 0.99600035, 0.9959826...</td>\n",
       "      <td>[801366968, 801363269, 801363258, 801366073, 8...</td>\n",
       "      <td>[801363258]</td>\n",
       "      <td>[1, 1, 1, 1, 1, 1, 1, 1, 1, 1, 1, 1, 1, 1, 1, ...</td>\n",
       "      <td>[1, 1, 1, 1, 1, 1, 1, 1, 1, 1, 1, 1, 1, 0, 0, ...</td>\n",
       "      <td>[1, 1, 1, 1, 1, 0, 0, 0, 1, 1, 0, 0, 0, 0, 0, ...</td>\n",
       "      <td>[3.33203125, 3.33203125, 3.33203125, 3.3320312...</td>\n",
       "      <td>2</td>\n",
       "      <td>10</td>\n",
       "    </tr>\n",
       "    <tr>\n",
       "      <th>158</th>\n",
       "      <td>[0.93193043, 0.90456105, 0.89783355, 0.8978335...</td>\n",
       "      <td>[801370497, 801362749, 801368280, 801361014]</td>\n",
       "      <td>[801368280]</td>\n",
       "      <td>[1, 1, 1, 1, 1, 1, 1, 1, 1, 1, 1, 0, 1, 1, 1, ...</td>\n",
       "      <td>[1, 1, 1, 1, 0, 0, 0, 0, 0, 0, 0, 0, 0, 0, 0, ...</td>\n",
       "      <td>[0, 0, 0, 0, 0, 0, 0, 0, 0, 0, 0, 0, 0, 0, 0, ...</td>\n",
       "      <td>[3.33203125, 3.33203125, 3.33203125, 3.3320312...</td>\n",
       "      <td>2</td>\n",
       "      <td>4</td>\n",
       "    </tr>\n",
       "    <tr>\n",
       "      <th>160</th>\n",
       "      <td>[0.99327483, 0.94404603, 0.94091586, 0.9030108...</td>\n",
       "      <td>[801357591, 801367963, 801357532, 801368880]</td>\n",
       "      <td>[801357532]</td>\n",
       "      <td>[1, 1, 1, 1, 1, 1, 1, 1, 1, 1, 1, 0, 1, 1, 1, ...</td>\n",
       "      <td>[1, 1, 1, 1, 0, 0, 0, 0, 0, 0, 0, 0, 0, 0, 0, ...</td>\n",
       "      <td>[0, 0, 0, 0, 0, 0, 0, 0, 0, 0, 0, 0, 0, 0, 0, ...</td>\n",
       "      <td>[3.33203125, 3.134765625, 3.33203125, 3.134765...</td>\n",
       "      <td>2</td>\n",
       "      <td>4</td>\n",
       "    </tr>\n",
       "    <tr>\n",
       "      <th>162</th>\n",
       "      <td>[0.997932, 0.95720787, 0.9569447, 0.67371991, ...</td>\n",
       "      <td>[801373757, 801362935, 801362933]</td>\n",
       "      <td>[801362933]</td>\n",
       "      <td>[1, 1, 1, 1, 1, 1, 1, 1, 1, 1, 1, 1, 0, 0, 0, ...</td>\n",
       "      <td>[1, 0, 0, 0, 0, 0, 0, 0, 0, 0, 0, 0, 0, 0, 0, ...</td>\n",
       "      <td>[1, 0, 0, 0, 0, 0, 0, 0, 0, 0, 0, 0, 0, 0, 0, ...</td>\n",
       "      <td>[3.33203125, 3.33203125, 3.33203125, 2.6386718...</td>\n",
       "      <td>2</td>\n",
       "      <td>3</td>\n",
       "    </tr>\n",
       "    <tr>\n",
       "      <th>...</th>\n",
       "      <td>...</td>\n",
       "      <td>...</td>\n",
       "      <td>...</td>\n",
       "      <td>...</td>\n",
       "      <td>...</td>\n",
       "      <td>...</td>\n",
       "      <td>...</td>\n",
       "      <td>...</td>\n",
       "      <td>...</td>\n",
       "    </tr>\n",
       "    <tr>\n",
       "      <th>324</th>\n",
       "      <td>[0.94295607, 0.93866181, 0.93193043, 0.9319304...</td>\n",
       "      <td>[801363083, 801369933, 801368424, 801365953, 8...</td>\n",
       "      <td>[801367672]</td>\n",
       "      <td>[1, 1, 1, 1, 1, 1, 1, 1, 1, 1, 1, 1, 1, 1, 1, ...</td>\n",
       "      <td>[1, 1, 1, 1, 1, 1, 1, 1, 1, 1, 1, 1, 1, 0, 0, ...</td>\n",
       "      <td>[0, 0, 0, 0, 0, 0, 0, 0, 0, 0, 0, 0, 0, 0, 0, ...</td>\n",
       "      <td>[1.9462890625, 3.33203125, 3.33203125, 3.33203...</td>\n",
       "      <td>8</td>\n",
       "      <td>10</td>\n",
       "    </tr>\n",
       "    <tr>\n",
       "      <th>196</th>\n",
       "      <td>[0.99741761, 0.99682327, 0.99658837, 0.9960179...</td>\n",
       "      <td>[801348391, 801348201, 801348499, 801349180, 8...</td>\n",
       "      <td>[801348572]</td>\n",
       "      <td>[1, 1, 1, 1, 1, 1, 1, 1, 1, 1, 1, 1, 1, 1, 1, ...</td>\n",
       "      <td>[1, 1, 1, 1, 1, 1, 1, 1, 1, 1, 1, 1, 1, 1, 1, ...</td>\n",
       "      <td>[1, 1, 1, 1, 1, 1, 1, 1, 1, 1, 1, 1, 1, 1, 1, ...</td>\n",
       "      <td>[3.33203125, 3.33203125, 3.33203125, 3.3320312...</td>\n",
       "      <td>9</td>\n",
       "      <td>10</td>\n",
       "    </tr>\n",
       "    <tr>\n",
       "      <th>261</th>\n",
       "      <td>[0.65009871, 0.64853242, 0.63446248, 0.6198462...</td>\n",
       "      <td>[801368863, 801364159, 801367390, 801364867, 8...</td>\n",
       "      <td>[801360207]</td>\n",
       "      <td>[1, 1, 1, 1, 1, 1, 1, 1, 1, 1, 1, 1, 0, 0, 0, ...</td>\n",
       "      <td>[0, 0, 0, 0, 0, 0, 0, 0, 0, 0, 0, 0, 0, 0, 0, ...</td>\n",
       "      <td>[0, 0, 0, 0, 0, 0, 0, 0, 0, 0, 0, 0, 0, 0, 0, ...</td>\n",
       "      <td>[2.708984375, 2.564453125, 2.7734375, 2.638671...</td>\n",
       "      <td>9</td>\n",
       "      <td>10</td>\n",
       "    </tr>\n",
       "    <tr>\n",
       "      <th>259</th>\n",
       "      <td>[0.47935262, 0.47139179, 0.4616926, 0.45199429...</td>\n",
       "      <td>[801369204, 801373473, 801369125, 801373454, 8...</td>\n",
       "      <td>[801366233]</td>\n",
       "      <td>[0, 0, 0, 0, 0, 0, 0, 0, 0, 0, 0, 0, 0, 0, 0, ...</td>\n",
       "      <td>[0, 0, 0, 0, 0, 0, 0, 0, 0, 0, 0, 0, 0, 0, 0, ...</td>\n",
       "      <td>[0, 0, 0, 0, 0, 0, 0, 0, 0, 0, 0, 0, 0, 0, 0, ...</td>\n",
       "      <td>[2.197265625, 2.564453125, 3.091796875, 2.7089...</td>\n",
       "      <td>9</td>\n",
       "      <td>10</td>\n",
       "    </tr>\n",
       "    <tr>\n",
       "      <th>403</th>\n",
       "      <td>[0.99658837, 0.99627401, 0.99598265, 0.9953877...</td>\n",
       "      <td>[801367700, 801367672, 801364250, 801369933, 8...</td>\n",
       "      <td>[801370172]</td>\n",
       "      <td>[1, 1, 1, 1, 1, 1, 1, 1, 1, 1, 1, 1, 1, 1, 1, ...</td>\n",
       "      <td>[1, 1, 1, 1, 1, 1, 0, 0, 1, 1, 1, 1, 1, 1, 1, ...</td>\n",
       "      <td>[1, 1, 1, 0, 0, 0, 0, 0, 1, 1, 0, 0, 0, 0, 0, ...</td>\n",
       "      <td>[3.33203125, 3.33203125, 3.33203125, 3.3320312...</td>\n",
       "      <td>9</td>\n",
       "      <td>10</td>\n",
       "    </tr>\n",
       "  </tbody>\n",
       "</table>\n",
       "<p>66 rows × 9 columns</p>\n",
       "</div>"
      ],
      "text/plain": [
       "                                               predict   \n",
       "8    [0.95233122, 0.94350804, 0.93265691, 0.9168369...  \\\n",
       "127  [0.99741761, 0.99741761, 0.99600035, 0.9959826...   \n",
       "158  [0.93193043, 0.90456105, 0.89783355, 0.8978335...   \n",
       "160  [0.99327483, 0.94404603, 0.94091586, 0.9030108...   \n",
       "162  [0.997932, 0.95720787, 0.9569447, 0.67371991, ...   \n",
       "..                                                 ...   \n",
       "324  [0.94295607, 0.93866181, 0.93193043, 0.9319304...   \n",
       "196  [0.99741761, 0.99682327, 0.99658837, 0.9960179...   \n",
       "261  [0.65009871, 0.64853242, 0.63446248, 0.6198462...   \n",
       "259  [0.47935262, 0.47139179, 0.4616926, 0.45199429...   \n",
       "403  [0.99658837, 0.99627401, 0.99598265, 0.9953877...   \n",
       "\n",
       "                                            candidates category_real   \n",
       "8    [801370019, 801362301, 801351963, 801371348, 8...   [801351963]  \\\n",
       "127  [801366968, 801363269, 801363258, 801366073, 8...   [801363258]   \n",
       "158       [801370497, 801362749, 801368280, 801361014]   [801368280]   \n",
       "160       [801357591, 801367963, 801357532, 801368880]   [801357532]   \n",
       "162                  [801373757, 801362935, 801362933]   [801362933]   \n",
       "..                                                 ...           ...   \n",
       "324  [801363083, 801369933, 801368424, 801365953, 8...   [801367672]   \n",
       "196  [801348391, 801348201, 801348499, 801349180, 8...   [801348572]   \n",
       "261  [801368863, 801364159, 801367390, 801364867, 8...   [801360207]   \n",
       "259  [801369204, 801373473, 801369125, 801373454, 8...   [801366233]   \n",
       "403  [801367700, 801367672, 801364250, 801369933, 8...   [801370172]   \n",
       "\n",
       "                                         same_district   \n",
       "8    [1, 1, 1, 1, 1, 1, 1, 1, 1, 1, 1, 1, 1, 1, 1, ...  \\\n",
       "127  [1, 1, 1, 1, 1, 1, 1, 1, 1, 1, 1, 1, 1, 1, 1, ...   \n",
       "158  [1, 1, 1, 1, 1, 1, 1, 1, 1, 1, 1, 0, 1, 1, 1, ...   \n",
       "160  [1, 1, 1, 1, 1, 1, 1, 1, 1, 1, 1, 0, 1, 1, 1, ...   \n",
       "162  [1, 1, 1, 1, 1, 1, 1, 1, 1, 1, 1, 1, 0, 0, 0, ...   \n",
       "..                                                 ...   \n",
       "324  [1, 1, 1, 1, 1, 1, 1, 1, 1, 1, 1, 1, 1, 1, 1, ...   \n",
       "196  [1, 1, 1, 1, 1, 1, 1, 1, 1, 1, 1, 1, 1, 1, 1, ...   \n",
       "261  [1, 1, 1, 1, 1, 1, 1, 1, 1, 1, 1, 1, 0, 0, 0, ...   \n",
       "259  [0, 0, 0, 0, 0, 0, 0, 0, 0, 0, 0, 0, 0, 0, 0, ...   \n",
       "403  [1, 1, 1, 1, 1, 1, 1, 1, 1, 1, 1, 1, 1, 1, 1, ...   \n",
       "\n",
       "                                             same_zone   \n",
       "8    [1, 1, 1, 1, 1, 1, 1, 0, 0, 0, 0, 0, 0, 0, 0, ...  \\\n",
       "127  [1, 1, 1, 1, 1, 1, 1, 1, 1, 1, 1, 1, 1, 0, 0, ...   \n",
       "158  [1, 1, 1, 1, 0, 0, 0, 0, 0, 0, 0, 0, 0, 0, 0, ...   \n",
       "160  [1, 1, 1, 1, 0, 0, 0, 0, 0, 0, 0, 0, 0, 0, 0, ...   \n",
       "162  [1, 0, 0, 0, 0, 0, 0, 0, 0, 0, 0, 0, 0, 0, 0, ...   \n",
       "..                                                 ...   \n",
       "324  [1, 1, 1, 1, 1, 1, 1, 1, 1, 1, 1, 1, 1, 0, 0, ...   \n",
       "196  [1, 1, 1, 1, 1, 1, 1, 1, 1, 1, 1, 1, 1, 1, 1, ...   \n",
       "261  [0, 0, 0, 0, 0, 0, 0, 0, 0, 0, 0, 0, 0, 0, 0, ...   \n",
       "259  [0, 0, 0, 0, 0, 0, 0, 0, 0, 0, 0, 0, 0, 0, 0, ...   \n",
       "403  [1, 1, 1, 1, 1, 1, 0, 0, 1, 1, 1, 1, 1, 1, 1, ...   \n",
       "\n",
       "                                             same_post   \n",
       "8    [0, 0, 0, 0, 0, 0, 0, 0, 0, 0, 0, 0, 0, 0, 0, ...  \\\n",
       "127  [1, 1, 1, 1, 1, 0, 0, 0, 1, 1, 0, 0, 0, 0, 0, ...   \n",
       "158  [0, 0, 0, 0, 0, 0, 0, 0, 0, 0, 0, 0, 0, 0, 0, ...   \n",
       "160  [0, 0, 0, 0, 0, 0, 0, 0, 0, 0, 0, 0, 0, 0, 0, ...   \n",
       "162  [1, 0, 0, 0, 0, 0, 0, 0, 0, 0, 0, 0, 0, 0, 0, ...   \n",
       "..                                                 ...   \n",
       "324  [0, 0, 0, 0, 0, 0, 0, 0, 0, 0, 0, 0, 0, 0, 0, ...   \n",
       "196  [1, 1, 1, 1, 1, 1, 1, 1, 1, 1, 1, 1, 1, 1, 1, ...   \n",
       "261  [0, 0, 0, 0, 0, 0, 0, 0, 0, 0, 0, 0, 0, 0, 0, ...   \n",
       "259  [0, 0, 0, 0, 0, 0, 0, 0, 0, 0, 0, 0, 0, 0, 0, ...   \n",
       "403  [1, 1, 1, 0, 0, 0, 0, 0, 1, 1, 0, 0, 0, 0, 0, ...   \n",
       "\n",
       "                                              log_days  idx  mx_idx  \n",
       "8    [3.33203125, 3.33203125, 3.33203125, 3.3320312...    2       7  \n",
       "127  [3.33203125, 3.33203125, 3.33203125, 3.3320312...    2      10  \n",
       "158  [3.33203125, 3.33203125, 3.33203125, 3.3320312...    2       4  \n",
       "160  [3.33203125, 3.134765625, 3.33203125, 3.134765...    2       4  \n",
       "162  [3.33203125, 3.33203125, 3.33203125, 2.6386718...    2       3  \n",
       "..                                                 ...  ...     ...  \n",
       "324  [1.9462890625, 3.33203125, 3.33203125, 3.33203...    8      10  \n",
       "196  [3.33203125, 3.33203125, 3.33203125, 3.3320312...    9      10  \n",
       "261  [2.708984375, 2.564453125, 2.7734375, 2.638671...    9      10  \n",
       "259  [2.197265625, 2.564453125, 3.091796875, 2.7089...    9      10  \n",
       "403  [3.33203125, 3.33203125, 3.33203125, 3.3320312...    9      10  \n",
       "\n",
       "[66 rows x 9 columns]"
      ]
     },
     "execution_count": 113,
     "metadata": {},
     "output_type": "execute_result"
    }
   ],
   "source": [
    "x_see[x_see['idx'] > 1].sort_values(by='idx')[['predict', 'candidates', 'category_real', 'same_district', 'same_zone', 'same_post', 'log_days', 'idx', 'mx_idx']]"
   ]
  },
  {
   "cell_type": "code",
   "execution_count": null,
   "metadata": {},
   "outputs": [],
   "source": [
    "x_see[x_see['idx'] == 1].sort_values(by='mx_idx')#.head(50)"
   ]
  },
  {
   "cell_type": "code",
   "execution_count": null,
   "metadata": {},
   "outputs": [],
   "source": [
    "plt.figure(figsize=(20, 10))\n",
    "sns.scatterplot(x='mx_idx', y='idx', data=x_see, alpha=0.02)\n",
    "# plt.xlim((-2, 11))\n",
    "# plt.ylim((-2, 10))\n",
    "plt.show()"
   ]
  },
  {
   "cell_type": "code",
   "execution_count": null,
   "metadata": {},
   "outputs": [],
   "source": [
    "# x_see['mx_idx'].hist(bins=100)"
   ]
  },
  {
   "cell_type": "code",
   "execution_count": null,
   "metadata": {},
   "outputs": [],
   "source": [
    "# plt.figure(figsize=(20, 10))\n",
    "# sns.scatterplot(x='mx_idx', y='idx', data=x_see, alpha=0.02)\n",
    "# plt.show()\n",
    "x_see[x_see['idx'] < 50]['idx'].hist(bins=100)"
   ]
  },
  {
   "cell_type": "code",
   "execution_count": null,
   "metadata": {},
   "outputs": [],
   "source": [
    "group_target[group_target['group_id'].isin({801349222, 801366063})]"
   ]
  },
  {
   "cell_type": "code",
   "execution_count": null,
   "metadata": {},
   "outputs": [],
   "source": [
    "# x_see[x_see['share_uq'] > 0]"
   ]
  },
  {
   "cell_type": "code",
   "execution_count": null,
   "metadata": {},
   "outputs": [],
   "source": [
    "# x_see.info(memory_usage = \"deep\")"
   ]
  }
 ],
 "metadata": {
  "kernelspec": {
   "display_name": "Python 3",
   "language": "python",
   "name": "python3"
  },
  "language_info": {
   "codemirror_mode": {
    "name": "ipython",
    "version": 3
   },
   "file_extension": ".py",
   "mimetype": "text/x-python",
   "name": "python",
   "nbconvert_exporter": "python",
   "pygments_lexer": "ipython3",
   "version": "3.8.10"
  }
 },
 "nbformat": 4,
 "nbformat_minor": 4
}
