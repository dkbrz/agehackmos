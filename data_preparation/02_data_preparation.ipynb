{
 "cells": [
  {
   "cell_type": "code",
   "execution_count": 13,
   "metadata": {},
   "outputs": [],
   "source": [
    "import sqlite3\n",
    "\n",
    "import pandas as pd\n",
    "import numpy as np\n",
    "from tqdm.auto import tqdm\n",
    "import seaborn as sns\n",
    "import matplotlib.pyplot as plt"
   ]
  },
  {
   "cell_type": "code",
   "execution_count": 14,
   "metadata": {},
   "outputs": [
    {
     "data": {
      "text/html": [
       "<div>\n",
       "<style scoped>\n",
       "    .dataframe tbody tr th:only-of-type {\n",
       "        vertical-align: middle;\n",
       "    }\n",
       "\n",
       "    .dataframe tbody tr th {\n",
       "        vertical-align: top;\n",
       "    }\n",
       "\n",
       "    .dataframe thead th {\n",
       "        text-align: right;\n",
       "    }\n",
       "</style>\n",
       "<table border=\"1\" class=\"dataframe\">\n",
       "  <thead>\n",
       "    <tr style=\"text-align: right;\">\n",
       "      <th></th>\n",
       "      <th>category1_id</th>\n",
       "      <th>category2_id</th>\n",
       "      <th>category3_id</th>\n",
       "      <th>category1_name</th>\n",
       "      <th>category2_name</th>\n",
       "      <th>category3_name</th>\n",
       "      <th>category</th>\n",
       "    </tr>\n",
       "  </thead>\n",
       "  <tbody>\n",
       "    <tr>\n",
       "      <th>0</th>\n",
       "      <td>649</td>\n",
       "      <td>651</td>\n",
       "      <td>1043</td>\n",
       "      <td>Игры</td>\n",
       "      <td>Интеллектуальные игры</td>\n",
       "      <td>Брейн-ринг</td>\n",
       "      <td>Для ума</td>\n",
       "    </tr>\n",
       "    <tr>\n",
       "      <th>1</th>\n",
       "      <td>649</td>\n",
       "      <td>651</td>\n",
       "      <td>1040</td>\n",
       "      <td>Игры</td>\n",
       "      <td>Интеллектуальные игры</td>\n",
       "      <td>Викторины</td>\n",
       "      <td>Для ума</td>\n",
       "    </tr>\n",
       "    <tr>\n",
       "      <th>2</th>\n",
       "      <td>649</td>\n",
       "      <td>651</td>\n",
       "      <td>1042</td>\n",
       "      <td>Игры</td>\n",
       "      <td>Интеллектуальные игры</td>\n",
       "      <td>Иные интеллектуальные игры</td>\n",
       "      <td>Для ума</td>\n",
       "    </tr>\n",
       "    <tr>\n",
       "      <th>3</th>\n",
       "      <td>649</td>\n",
       "      <td>651</td>\n",
       "      <td>1041</td>\n",
       "      <td>Игры</td>\n",
       "      <td>Интеллектуальные игры</td>\n",
       "      <td>Квест</td>\n",
       "      <td>Для ума</td>\n",
       "    </tr>\n",
       "    <tr>\n",
       "      <th>4</th>\n",
       "      <td>649</td>\n",
       "      <td>650</td>\n",
       "      <td>516</td>\n",
       "      <td>Игры</td>\n",
       "      <td>Настольные игры</td>\n",
       "      <td>Иные настольные игры</td>\n",
       "      <td>Для ума</td>\n",
       "    </tr>\n",
       "  </tbody>\n",
       "</table>\n",
       "</div>"
      ],
      "text/plain": [
       "   category1_id  category2_id  category3_id category1_name   \n",
       "0           649           651          1043           Игры  \\\n",
       "1           649           651          1040           Игры   \n",
       "2           649           651          1042           Игры   \n",
       "3           649           651          1041           Игры   \n",
       "4           649           650           516           Игры   \n",
       "\n",
       "          category2_name              category3_name category  \n",
       "0  Интеллектуальные игры                  Брейн-ринг  Для ума  \n",
       "1  Интеллектуальные игры                   Викторины  Для ума  \n",
       "2  Интеллектуальные игры  Иные интеллектуальные игры  Для ума  \n",
       "3  Интеллектуальные игры                       Квест  Для ума  \n",
       "4        Настольные игры        Иные настольные игры  Для ума  "
      ]
     },
     "execution_count": 14,
     "metadata": {},
     "output_type": "execute_result"
    }
   ],
   "source": [
    "db = sqlite3.connect('../raw_db.db')\n",
    "\n",
    "dct = pd.read_csv('../data/dict.csv').drop('Unnamed: 0', axis=1)\n",
    "\n",
    "dct.columns = [\n",
    "        'category1_id'\n",
    "        , 'category2_id'\n",
    "        , 'category3_id'\n",
    "        , 'category1_name'\n",
    "        , 'category2_name'\n",
    "        , 'category3_name'\n",
    "        , 'category'\n",
    "]\n",
    "\n",
    "dct.head()"
   ]
  },
  {
   "cell_type": "markdown",
   "metadata": {},
   "source": [
    "## Совместная встречаемость категорий"
   ]
  },
  {
   "cell_type": "code",
   "execution_count": 7,
   "metadata": {},
   "outputs": [],
   "source": [
    "group_user_stats = pd.read_sql(\"\"\"\n",
    "    SELECT \n",
    "        group_id\n",
    "        , attend.user_id as user_id\n",
    "        , count(event_id) as n\n",
    "        , postal_code\n",
    "        , max(is_woman) as is_woman\n",
    "        , (julianday('2023-03-01') - julianday(date_of_birth)) / 365 as age\n",
    "    FROM attend\n",
    "    LEFT JOIN users u ON u.user_id = attend.user_id\n",
    "    WHERE event_date < '2023-02-01'\n",
    "    GROUP BY group_id, attend.user_id\n",
    "\"\"\", con=db)\n",
    "\n",
    "group_info = pd.read_sql(\"\"\"\n",
    "    SELECT group_id, category1_id, category2_id, category3_id, is_online, is_mobile\n",
    "    FROM groups\n",
    "\"\"\", con=db).dropna().astype(int) # (0)\n",
    "\n",
    "group_user_stats = group_user_stats.merge(group_info)"
   ]
  },
  {
   "cell_type": "code",
   "execution_count": 8,
   "metadata": {},
   "outputs": [],
   "source": [
    "cat3_user = group_user_stats.groupby(['category3_id', 'user_id'], as_index=False).agg({'n': 'sum'})"
   ]
  },
  {
   "cell_type": "code",
   "execution_count": 9,
   "metadata": {},
   "outputs": [
    {
     "data": {
      "text/plain": [
       "291"
      ]
     },
     "execution_count": 9,
     "metadata": {},
     "output_type": "execute_result"
    }
   ],
   "source": [
    "cat3_user['category3_id'].nunique()"
   ]
  },
  {
   "cell_type": "code",
   "execution_count": 10,
   "metadata": {},
   "outputs": [],
   "source": [
    "from collections import defaultdict\n",
    "from itertools import combinations\n",
    "from math import log2"
   ]
  },
  {
   "cell_type": "code",
   "execution_count": 11,
   "metadata": {},
   "outputs": [
    {
     "data": {
      "application/vnd.jupyter.widget-view+json": {
       "model_id": "b575c4abc862462f8123b03bbde5151b",
       "version_major": 2,
       "version_minor": 0
      },
      "text/plain": [
       "  0%|          | 0/49831 [00:00<?, ?it/s]"
      ]
     },
     "metadata": {},
     "output_type": "display_data"
    }
   ],
   "source": [
    "pairwise_dict = defaultdict(lambda: defaultdict(int))\n",
    "uni_dict = defaultdict(int)\n",
    "\n",
    "for row in tqdm(cat3_user.groupby('user_id').agg({'category3_id': list})['category3_id'].values):\n",
    "    for (i, j) in combinations(row, 2):\n",
    "        pairwise_dict[i][j] += 1\n",
    "        pairwise_dict[j][i] += 1\n",
    "        uni_dict[i] += 1\n",
    "        uni_dict[j] += 1"
   ]
  },
  {
   "cell_type": "code",
   "execution_count": 12,
   "metadata": {},
   "outputs": [],
   "source": [
    "result_dict = defaultdict(dict)\n",
    "for i in pairwise_dict:\n",
    "    for j in pairwise_dict[i]:\n",
    "#         result_dict[i][j] = 50 + log2(pairwise_dict[i][j] * 2 / (uni_dict[i] + uni_dict[j]))\n",
    "        result_dict[i][j] = np.log2(1 + pairwise_dict[i][j] / uni_dict[i] * pairwise_dict[j][i] / uni_dict[j] * 1000000)"
   ]
  },
  {
   "cell_type": "code",
   "execution_count": 13,
   "metadata": {},
   "outputs": [],
   "source": [
    "result_dict = dict(result_dict)"
   ]
  },
  {
   "cell_type": "code",
   "execution_count": 14,
   "metadata": {},
   "outputs": [
    {
     "data": {
      "text/html": [
       "<div>\n",
       "<style scoped>\n",
       "    .dataframe tbody tr th:only-of-type {\n",
       "        vertical-align: middle;\n",
       "    }\n",
       "\n",
       "    .dataframe tbody tr th {\n",
       "        vertical-align: top;\n",
       "    }\n",
       "\n",
       "    .dataframe thead th {\n",
       "        text-align: right;\n",
       "    }\n",
       "</style>\n",
       "<table border=\"1\" class=\"dataframe\">\n",
       "  <thead>\n",
       "    <tr style=\"text-align: right;\">\n",
       "      <th></th>\n",
       "      <th>category1_id</th>\n",
       "      <th>category2_id</th>\n",
       "      <th>category3_id</th>\n",
       "      <th>category1_name</th>\n",
       "      <th>category2_name</th>\n",
       "      <th>category3_name</th>\n",
       "      <th>category</th>\n",
       "    </tr>\n",
       "  </thead>\n",
       "  <tbody>\n",
       "    <tr>\n",
       "      <th>113</th>\n",
       "      <td>629</td>\n",
       "      <td>628</td>\n",
       "      <td>460</td>\n",
       "      <td>Рисование</td>\n",
       "      <td>Рисование</td>\n",
       "      <td>Китайская живопись У-Син</td>\n",
       "      <td>Для души</td>\n",
       "    </tr>\n",
       "  </tbody>\n",
       "</table>\n",
       "</div>"
      ],
      "text/plain": [
       "     category1_id  category2_id  category3_id category1_name category2_name  \\\n",
       "113           629           628           460      Рисование      Рисование   \n",
       "\n",
       "               category3_name  category  \n",
       "113  Китайская живопись У-Син  Для души  "
      ]
     },
     "execution_count": 14,
     "metadata": {},
     "output_type": "execute_result"
    }
   ],
   "source": [
    "dct.sample()"
   ]
  },
  {
   "cell_type": "code",
   "execution_count": 15,
   "metadata": {},
   "outputs": [
    {
     "name": "stdout",
     "output_type": "stream",
     "text": [
      "Китайская живопись У-Син\n",
      "----------------------------------------------------------------------------------------------------\n",
      "10 \t\t Для души::Рисование::Рисование::Различные техники рисования\n",
      "8 \t\t Для души::Рисование::Рисование::ИЗО\n",
      "8 \t\t Для души::Спецпроект / Интеллектуальный клуб::Интеллектуальный клуб. Творческие мастерские::Акварельная живопись\n",
      "8 \t\t Для души::Рисование::Рисование::Рисование анти-стресс\n",
      "8 \t\t Для души::Рисование::Рисование::Графика\n",
      "7 \t\t Для души::Творчество::Художественно-прикладное творчество::Рукоделие и творчество\n",
      "7 \t\t Для ума::Образование::История, искусство, краеведение::История искусства\n",
      "7 \t\t Для ума::Образование::Пеший лекторий::Краеведение и онлайн-экскурсии\n",
      "7 \t\t Для ума::Образование::Здорово жить::Здорово жить\n",
      "7 \t\t Для ума::Спецпроект / Интеллектуальный клуб::Интеллектуальный клуб. Психологические тренинги::Психологические тренинги\n",
      "7 \t\t Для тела::Физическая активность::Гимнастика::Гимнастика\n",
      "6 \t\t Для души::Творчество::Красота и стиль::Мастер-класс по уходу за кожей в зрелом возрасте\n",
      "6 \t\t Для души::Рисование::Рисование::Масляная живопись\n",
      "6 \t\t Для ума::Образование::Образовательный практикум::География. Путешествия вокруг света\n",
      "6 \t\t Для тела::Физическая активность::Гимнастика::Суставная гимнастика\n",
      "6 \t\t Для души::Спецпроект / Интеллектуальный клуб::Интеллектуальный клуб. История/Искусство::История, культура России\n",
      "6 \t\t Для души::Творчество::Художественно-прикладное творчество::Изготовление кукол, игрушек\n",
      "6 \t\t Для ума::Спецпроект / Интеллектуальный клуб::Интеллектуальный клуб. Иностранные языки::Китайский язык\n",
      "6 \t\t Для тела::Физическая активность::Гимнастика::Цигун\n",
      "6 \t\t Для души::Творчество::Художественно-прикладное творчество::Изготовление аксессуаров и декоративных украшений\n",
      "6 \t\t Для ума::Игры::Интеллектуальные игры::Иные интеллектуальные игры\n",
      "6 \t\t Для ума::Образование::Информационные технологии::Осваиваем мобильные устройства\n",
      "5 \t\t Для тела::Физическая активность::Гимнастика::Оздоровительная гимнастика\n",
      "5 \t\t Для ума::Образование::Образовательный практикум::Эмоциональный интеллект\n",
      "5 \t\t Для души::Творчество::Художественно-прикладное творчество::Текстильный дизайн, кройка и шитье\n"
     ]
    }
   ],
   "source": [
    "I = 460\n",
    "print(dct[dct['category3_id'] == I].iloc[0]['category3_name'])\n",
    "print('-' * 100)\n",
    "for i, j in sorted(result_dict[I].items(), key=lambda x: x[1], reverse=True)[:25]:\n",
    "    print(\n",
    "        round(result_dict[I][i]), '\\t\\t',\n",
    "        '::'.join(dct[dct['category3_id'] == i].iloc[0][['category', 'category1_name', 'category2_name', 'category3_name']].values)\n",
    "    )"
   ]
  },
  {
   "cell_type": "code",
   "execution_count": 16,
   "metadata": {},
   "outputs": [],
   "source": [
    "result_flat = []\n",
    "\n",
    "for i in result_dict:\n",
    "    for j in result_dict[i]:\n",
    "        result_flat.append((i, j, round(result_dict[i][j], 5)))"
   ]
  },
  {
   "cell_type": "code",
   "execution_count": 17,
   "metadata": {},
   "outputs": [],
   "source": [
    "cat3_similarity = pd.DataFrame(result_flat, columns=['i', 'j', 'similarity'])#"
   ]
  },
  {
   "cell_type": "code",
   "execution_count": 18,
   "metadata": {},
   "outputs": [],
   "source": [
    "cat3_similarity = cat3_similarity.sort_values(by=['i', 'similarity'], ascending=[True, False])"
   ]
  },
  {
   "cell_type": "code",
   "execution_count": 15,
   "metadata": {},
   "outputs": [],
   "source": [
    "# n_categories = dct['category3_id'].nunique()"
   ]
  },
  {
   "cell_type": "code",
   "execution_count": 19,
   "metadata": {},
   "outputs": [],
   "source": [
    "cat3_similarity['rank'] = cat3_similarity.groupby(['i'])['similarity'].transform('rank', ascending=False)"
   ]
  },
  {
   "cell_type": "code",
   "execution_count": 17,
   "metadata": {},
   "outputs": [],
   "source": [
    "# df_i = dct[['category3_id']]\n",
    "# df_i.columns = ['i']\n",
    "# df_j = dct[['category3_id']]\n",
    "# df_j.columns = ['j']\n",
    "\n",
    "# cat_cross = df_i.merge(df_j, how='cross')\n",
    "# cat_cross = cat_cross[cat_cross['i'] != cat_cross['j']]"
   ]
  },
  {
   "cell_type": "code",
   "execution_count": 18,
   "metadata": {},
   "outputs": [],
   "source": [
    "# cat3_similarity = cat_cross.merge(cat3_similarity, how='left').fillna({'similarity': 0, 'rank': n_categories})"
   ]
  },
  {
   "cell_type": "code",
   "execution_count": 20,
   "metadata": {},
   "outputs": [],
   "source": [
    "cat3_similarity = cat3_similarity.sort_values(by=['i', 'rank'], ascending=True)"
   ]
  },
  {
   "cell_type": "code",
   "execution_count": 21,
   "metadata": {},
   "outputs": [],
   "source": [
    "cat3_similarity.to_sql('model_category_similarity', con=db)"
   ]
  },
  {
   "cell_type": "markdown",
   "metadata": {},
   "source": [
    "## Возрастная статистика"
   ]
  },
  {
   "cell_type": "code",
   "execution_count": 15,
   "metadata": {},
   "outputs": [
    {
     "data": {
      "text/plain": [
       "(263414, 7)"
      ]
     },
     "execution_count": 15,
     "metadata": {},
     "output_type": "execute_result"
    }
   ],
   "source": [
    "user_age_group_raw = pd.read_sql(\"\"\"\n",
    "    SELECT \n",
    "        DISTINCT \n",
    "        users.user_id\n",
    "        , round((julianday('2023-03-01') - julianday(date_of_birth)) / 365) as person_age\n",
    "        , is_woman\n",
    "        , category1_id\n",
    "        , category2_id\n",
    "        , category3_id\n",
    "        , 1 as i\n",
    "    FROM attend\n",
    "    INNER JOIN users ON attend.user_id = users.user_id\n",
    "    INNER JOIN groups ON attend.group_id = groups.group_id\n",
    "    WHERE event_date < '2023-02-01'\n",
    "\"\"\", con=db)\n",
    "user_age_group_raw = user_age_group_raw.dropna().astype(int)\n",
    "user_age_group_raw.shape"
   ]
  },
  {
   "cell_type": "code",
   "execution_count": 16,
   "metadata": {},
   "outputs": [
    {
     "data": {
      "text/html": [
       "<div>\n",
       "<style scoped>\n",
       "    .dataframe tbody tr th:only-of-type {\n",
       "        vertical-align: middle;\n",
       "    }\n",
       "\n",
       "    .dataframe tbody tr th {\n",
       "        vertical-align: top;\n",
       "    }\n",
       "\n",
       "    .dataframe thead th {\n",
       "        text-align: right;\n",
       "    }\n",
       "</style>\n",
       "<table border=\"1\" class=\"dataframe\">\n",
       "  <thead>\n",
       "    <tr style=\"text-align: right;\">\n",
       "      <th></th>\n",
       "      <th>category3_id</th>\n",
       "      <th>is_woman</th>\n",
       "      <th>age_group</th>\n",
       "      <th>age_cat_prob</th>\n",
       "    </tr>\n",
       "  </thead>\n",
       "  <tbody>\n",
       "    <tr>\n",
       "      <th>0</th>\n",
       "      <td>102</td>\n",
       "      <td>0</td>\n",
       "      <td>40</td>\n",
       "      <td>0.000000</td>\n",
       "    </tr>\n",
       "    <tr>\n",
       "      <th>1</th>\n",
       "      <td>104</td>\n",
       "      <td>0</td>\n",
       "      <td>40</td>\n",
       "      <td>0.285714</td>\n",
       "    </tr>\n",
       "    <tr>\n",
       "      <th>2</th>\n",
       "      <td>111</td>\n",
       "      <td>0</td>\n",
       "      <td>40</td>\n",
       "      <td>0.000000</td>\n",
       "    </tr>\n",
       "    <tr>\n",
       "      <th>3</th>\n",
       "      <td>112</td>\n",
       "      <td>0</td>\n",
       "      <td>40</td>\n",
       "      <td>0.000000</td>\n",
       "    </tr>\n",
       "    <tr>\n",
       "      <th>4</th>\n",
       "      <td>114</td>\n",
       "      <td>0</td>\n",
       "      <td>40</td>\n",
       "      <td>0.285714</td>\n",
       "    </tr>\n",
       "  </tbody>\n",
       "</table>\n",
       "</div>"
      ],
      "text/plain": [
       "   category3_id is_woman age_group  age_cat_prob\n",
       "0           102        0        40      0.000000\n",
       "1           104        0        40      0.285714\n",
       "2           111        0        40      0.000000\n",
       "3           112        0        40      0.000000\n",
       "4           114        0        40      0.285714"
      ]
     },
     "execution_count": 16,
     "metadata": {},
     "output_type": "execute_result"
    }
   ],
   "source": [
    "user_age_group = user_age_group_raw.pivot_table(index=['user_id', 'person_age', 'is_woman'], columns='category3_id', values='i').fillna(0).astype(int)\n",
    "user_age_group = user_age_group.reset_index()\n",
    "user_age_group['age_group'] = (user_age_group['person_age'] // 10) * 10\n",
    "\n",
    "user_age_group_mean = user_age_group.drop(['user_id', 'person_age'], axis=1).groupby(['is_woman', 'age_group']).agg('mean')\n",
    "\n",
    "names = {i: (i, c, x, y, z) for i, c, x, y, z in dct[['category3_id', 'category', 'category1_name', 'category2_name', 'category3_name']].drop_duplicates().sort_values(by='category3_id').values}\n",
    "\n",
    "user_age_group_mean.columns = [names.get(i) for i in user_age_group_mean.columns]\n",
    "user_age_group_mean = user_age_group_mean.T\n",
    "\n",
    "user_age_group_mean = user_age_group_mean.reset_index().melt(id_vars=['index'])\n",
    "user_age_group_mean['index'] = user_age_group_mean['index'].apply(lambda x: x[0])\n",
    "user_age_group_mean.columns = ['category3_id', 'is_woman', 'age_group', 'age_cat_prob']\n",
    "\n",
    "user_age_group_mean.head()"
   ]
  },
  {
   "cell_type": "code",
   "execution_count": 17,
   "metadata": {},
   "outputs": [],
   "source": [
    "user_age_group_mean = user_age_group_mean.sort_values(by='age_cat_prob', ascending=False)\n",
    "user_age_group_mean['rank'] = user_age_group_mean.groupby(['age_group', 'is_woman'])['age_cat_prob'].transform('rank', ascending=False)"
   ]
  },
  {
   "cell_type": "code",
   "execution_count": 19,
   "metadata": {},
   "outputs": [],
   "source": [
    "user_age_group_mean['rank'] = user_age_group_mean['rank'].astype(int)"
   ]
  },
  {
   "cell_type": "code",
   "execution_count": 20,
   "metadata": {},
   "outputs": [
    {
     "data": {
      "text/html": [
       "<div>\n",
       "<style scoped>\n",
       "    .dataframe tbody tr th:only-of-type {\n",
       "        vertical-align: middle;\n",
       "    }\n",
       "\n",
       "    .dataframe tbody tr th {\n",
       "        vertical-align: top;\n",
       "    }\n",
       "\n",
       "    .dataframe thead th {\n",
       "        text-align: right;\n",
       "    }\n",
       "</style>\n",
       "<table border=\"1\" class=\"dataframe\">\n",
       "  <thead>\n",
       "    <tr style=\"text-align: right;\">\n",
       "      <th></th>\n",
       "      <th>category3_id</th>\n",
       "      <th>is_woman</th>\n",
       "      <th>age_group</th>\n",
       "      <th>age_cat_prob</th>\n",
       "      <th>rank</th>\n",
       "    </tr>\n",
       "  </thead>\n",
       "  <tbody>\n",
       "    <tr>\n",
       "      <th>3220</th>\n",
       "      <td>139</td>\n",
       "      <td>1</td>\n",
       "      <td>90</td>\n",
       "      <td>0.170213</td>\n",
       "      <td>1</td>\n",
       "    </tr>\n",
       "    <tr>\n",
       "      <th>3216</th>\n",
       "      <td>131</td>\n",
       "      <td>1</td>\n",
       "      <td>90</td>\n",
       "      <td>0.138298</td>\n",
       "      <td>3</td>\n",
       "    </tr>\n",
       "    <tr>\n",
       "      <th>3223</th>\n",
       "      <td>142</td>\n",
       "      <td>1</td>\n",
       "      <td>90</td>\n",
       "      <td>0.138298</td>\n",
       "      <td>3</td>\n",
       "    </tr>\n",
       "    <tr>\n",
       "      <th>3440</th>\n",
       "      <td>1421</td>\n",
       "      <td>1</td>\n",
       "      <td>90</td>\n",
       "      <td>0.138298</td>\n",
       "      <td>3</td>\n",
       "    </tr>\n",
       "    <tr>\n",
       "      <th>3211</th>\n",
       "      <td>122</td>\n",
       "      <td>1</td>\n",
       "      <td>90</td>\n",
       "      <td>0.138298</td>\n",
       "      <td>3</td>\n",
       "    </tr>\n",
       "    <tr>\n",
       "      <th>...</th>\n",
       "      <td>...</td>\n",
       "      <td>...</td>\n",
       "      <td>...</td>\n",
       "      <td>...</td>\n",
       "      <td>...</td>\n",
       "    </tr>\n",
       "    <tr>\n",
       "      <th>3238</th>\n",
       "      <td>160</td>\n",
       "      <td>1</td>\n",
       "      <td>90</td>\n",
       "      <td>0.000000</td>\n",
       "      <td>187</td>\n",
       "    </tr>\n",
       "    <tr>\n",
       "      <th>3237</th>\n",
       "      <td>159</td>\n",
       "      <td>1</td>\n",
       "      <td>90</td>\n",
       "      <td>0.000000</td>\n",
       "      <td>187</td>\n",
       "    </tr>\n",
       "    <tr>\n",
       "      <th>3236</th>\n",
       "      <td>158</td>\n",
       "      <td>1</td>\n",
       "      <td>90</td>\n",
       "      <td>0.000000</td>\n",
       "      <td>187</td>\n",
       "    </tr>\n",
       "    <tr>\n",
       "      <th>3234</th>\n",
       "      <td>156</td>\n",
       "      <td>1</td>\n",
       "      <td>90</td>\n",
       "      <td>0.000000</td>\n",
       "      <td>187</td>\n",
       "    </tr>\n",
       "    <tr>\n",
       "      <th>3233</th>\n",
       "      <td>154</td>\n",
       "      <td>1</td>\n",
       "      <td>90</td>\n",
       "      <td>0.000000</td>\n",
       "      <td>187</td>\n",
       "    </tr>\n",
       "  </tbody>\n",
       "</table>\n",
       "<p>291 rows × 5 columns</p>\n",
       "</div>"
      ],
      "text/plain": [
       "      category3_id is_woman age_group  age_cat_prob  rank\n",
       "3220           139        1        90      0.170213     1\n",
       "3216           131        1        90      0.138298     3\n",
       "3223           142        1        90      0.138298     3\n",
       "3440          1421        1        90      0.138298     3\n",
       "3211           122        1        90      0.138298     3\n",
       "...            ...      ...       ...           ...   ...\n",
       "3238           160        1        90      0.000000   187\n",
       "3237           159        1        90      0.000000   187\n",
       "3236           158        1        90      0.000000   187\n",
       "3234           156        1        90      0.000000   187\n",
       "3233           154        1        90      0.000000   187\n",
       "\n",
       "[291 rows x 5 columns]"
      ]
     },
     "execution_count": 20,
     "metadata": {},
     "output_type": "execute_result"
    }
   ],
   "source": [
    "user_age_group_mean[(user_age_group_mean['is_woman'] == 1) & (user_age_group_mean['age_group'] == 90)]"
   ]
  },
  {
   "cell_type": "code",
   "execution_count": 22,
   "metadata": {},
   "outputs": [
    {
     "data": {
      "text/plain": [
       "3492"
      ]
     },
     "execution_count": 22,
     "metadata": {},
     "output_type": "execute_result"
    }
   ],
   "source": [
    "user_age_group_mean.round(6).to_sql('model_age_category', con=db, if_exists='replace')"
   ]
  },
  {
   "cell_type": "markdown",
   "metadata": {},
   "source": [
    "## Соседи"
   ]
  },
  {
   "cell_type": "code",
   "execution_count": 4,
   "metadata": {},
   "outputs": [
    {
     "data": {
      "text/plain": [
       "(18329, 4)"
      ]
     },
     "execution_count": 4,
     "metadata": {},
     "output_type": "execute_result"
    }
   ],
   "source": [
    "neighbors = pd.read_sql(\"\"\"\n",
    "    SELECT group_id, postal_code, 1 as has_neighbors, count() - 1 as n_neighbors\n",
    "    FROM (\n",
    "        SELECT DISTINCT \n",
    "            group_id\n",
    "            , users.postal_code\n",
    "            , attend.user_id\n",
    "        FROM attend\n",
    "        LEFT JOIN users ON attend.user_id = users.user_id\n",
    "        WHERE postal_code IS NOT NULL \n",
    "                AND event_date >= '2022-11-01'\n",
    "                AND event_date < '2023-02-01'\n",
    "    )\n",
    "    GROUP BY group_id, postal_code\n",
    "    HAVING n_neighbors > 1\n",
    "\"\"\", con=db)\n",
    "neighbors.shape"
   ]
  },
  {
   "cell_type": "code",
   "execution_count": 5,
   "metadata": {},
   "outputs": [
    {
     "data": {
      "text/plain": [
       "18329"
      ]
     },
     "execution_count": 5,
     "metadata": {},
     "output_type": "execute_result"
    }
   ],
   "source": [
    "neighbors.to_sql('model_neighbors', con=db)"
   ]
  }
 ],
 "metadata": {
  "kernelspec": {
   "display_name": "Python 3",
   "language": "python",
   "name": "python3"
  },
  "language_info": {
   "codemirror_mode": {
    "name": "ipython",
    "version": 3
   },
   "file_extension": ".py",
   "mimetype": "text/x-python",
   "name": "python",
   "nbconvert_exporter": "python",
   "pygments_lexer": "ipython3",
   "version": "3.8.10"
  }
 },
 "nbformat": 4,
 "nbformat_minor": 4
}
