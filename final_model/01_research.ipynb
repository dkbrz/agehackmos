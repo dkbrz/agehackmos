{
 "cells": [
  {
   "cell_type": "code",
   "execution_count": 1,
   "metadata": {},
   "outputs": [],
   "source": [
    "import sqlite3\n",
    "\n",
    "import pandas as pd\n",
    "import numpy as np\n",
    "from tqdm.auto import tqdm\n",
    "import seaborn as sns\n",
    "import matplotlib.pyplot as plt"
   ]
  },
  {
   "cell_type": "code",
   "execution_count": 2,
   "metadata": {},
   "outputs": [],
   "source": [
    "db = sqlite3.connect('../app/app.db')\n",
    "db2 = sqlite3.connect('../raw_db.db')"
   ]
  },
  {
   "cell_type": "code",
   "execution_count": 3,
   "metadata": {},
   "outputs": [],
   "source": [
    "attend_history = pd.read_sql_query(\n",
    "    \"\"\"\n",
    "    SELECT \n",
    "        group_id\n",
    "        , attend_history.user_id\n",
    "        , is_woman\n",
    "        , age_group\n",
    "        , start_date\n",
    "        , finish_date\n",
    "        , n_visits\n",
    "        , attend_history.category3_id\n",
    "        , category2_id\n",
    "        , category1_id\n",
    "        , category3_name\n",
    "        , category2_name\n",
    "        , category1_name\n",
    "    FROM attend_history\n",
    "    LEFT JOIN users ON attend_history.user_id = users.user_id\n",
    "    LEFT JOIN categories ON attend_history.category3_id = categories.category3_id\n",
    "    \"\"\", con=db)"
   ]
  },
  {
   "cell_type": "code",
   "execution_count": 4,
   "metadata": {},
   "outputs": [],
   "source": [
    "future_groups = pd.read_sql_query(\n",
    "    \"\"\"\n",
    "    SELECT \n",
    "        group_timetable.group_id\n",
    "        , categories.category3_id\n",
    "        , categories.category2_id\n",
    "        , categories.category1_id\n",
    "        , category3_name\n",
    "        , category2_name\n",
    "        , category1_name\n",
    "    FROM group_timetable\n",
    "    LEFT JOIN groups ON group_timetable.group_id = groups.group_id\n",
    "    LEFT JOIN categories ON groups.category3_id = categories.category3_id\n",
    "    \"\"\", con=db)"
   ]
  },
  {
   "cell_type": "code",
   "execution_count": 5,
   "metadata": {},
   "outputs": [
    {
     "data": {
      "text/html": [
       "<div>\n",
       "<style scoped>\n",
       "    .dataframe tbody tr th:only-of-type {\n",
       "        vertical-align: middle;\n",
       "    }\n",
       "\n",
       "    .dataframe tbody tr th {\n",
       "        vertical-align: top;\n",
       "    }\n",
       "\n",
       "    .dataframe thead th {\n",
       "        text-align: right;\n",
       "    }\n",
       "</style>\n",
       "<table border=\"1\" class=\"dataframe\">\n",
       "  <thead>\n",
       "    <tr style=\"text-align: right;\">\n",
       "      <th></th>\n",
       "      <th></th>\n",
       "      <th></th>\n",
       "      <th>group_id</th>\n",
       "    </tr>\n",
       "    <tr>\n",
       "      <th>category1_name</th>\n",
       "      <th>category2_name</th>\n",
       "      <th>category3_name</th>\n",
       "      <th></th>\n",
       "    </tr>\n",
       "  </thead>\n",
       "  <tbody>\n",
       "    <tr>\n",
       "      <th rowspan=\"4\" valign=\"top\">Игры</th>\n",
       "      <th>Интеллектуальные игры</th>\n",
       "      <th>Иные интеллектуальные игры</th>\n",
       "      <td>9</td>\n",
       "    </tr>\n",
       "    <tr>\n",
       "      <th>Настольные игры</th>\n",
       "      <th>Иные настольные игры</th>\n",
       "      <td>1</td>\n",
       "    </tr>\n",
       "    <tr>\n",
       "      <th rowspan=\"2\" valign=\"top\">Шахматы и шашки</th>\n",
       "      <th>Шахматы</th>\n",
       "      <td>2</td>\n",
       "    </tr>\n",
       "    <tr>\n",
       "      <th>Шахматы и шашки</th>\n",
       "      <td>2</td>\n",
       "    </tr>\n",
       "    <tr>\n",
       "      <th>Образование</th>\n",
       "      <th>Английский язык</th>\n",
       "      <th>Английский язык для начинающих</th>\n",
       "      <td>16</td>\n",
       "    </tr>\n",
       "    <tr>\n",
       "      <th>...</th>\n",
       "      <th>...</th>\n",
       "      <th>...</th>\n",
       "      <td>...</td>\n",
       "    </tr>\n",
       "    <tr>\n",
       "      <th rowspan=\"5\" valign=\"top\">Физическая активность</th>\n",
       "      <th rowspan=\"5\" valign=\"top\">Фитнес, тренажеры</th>\n",
       "      <th>Степ-аэробика</th>\n",
       "      <td>2</td>\n",
       "    </tr>\n",
       "    <tr>\n",
       "      <th>Стрейчинг</th>\n",
       "      <td>14</td>\n",
       "    </tr>\n",
       "    <tr>\n",
       "      <th>Танцевальная физкультура</th>\n",
       "      <td>1</td>\n",
       "    </tr>\n",
       "    <tr>\n",
       "      <th>Тренажеры</th>\n",
       "      <td>9</td>\n",
       "    </tr>\n",
       "    <tr>\n",
       "      <th>Фитнес</th>\n",
       "      <td>1</td>\n",
       "    </tr>\n",
       "  </tbody>\n",
       "</table>\n",
       "<p>141 rows × 1 columns</p>\n",
       "</div>"
      ],
      "text/plain": [
       "                                                                            group_id\n",
       "category1_name        category2_name        category3_name                          \n",
       "Игры                  Интеллектуальные игры Иные интеллектуальные игры             9\n",
       "                      Настольные игры       Иные настольные игры                   1\n",
       "                      Шахматы и шашки       Шахматы                                2\n",
       "                                            Шахматы и шашки                        2\n",
       "Образование           Английский язык       Английский язык для начинающих        16\n",
       "...                                                                              ...\n",
       "Физическая активность Фитнес, тренажеры     Степ-аэробика                          2\n",
       "                                            Стрейчинг                             14\n",
       "                                            Танцевальная физкультура               1\n",
       "                                            Тренажеры                              9\n",
       "                                            Фитнес                                 1\n",
       "\n",
       "[141 rows x 1 columns]"
      ]
     },
     "execution_count": 5,
     "metadata": {},
     "output_type": "execute_result"
    }
   ],
   "source": [
    "future_groups.groupby(['category1_name', 'category2_name', 'category3_name']).agg({'group_id': 'count'})"
   ]
  },
  {
   "cell_type": "code",
   "execution_count": 6,
   "metadata": {},
   "outputs": [],
   "source": [
    "attend_history['start_date'] = pd.to_datetime(attend_history['start_date'])\n",
    "attend_history['finish_date'] = pd.to_datetime(attend_history['finish_date'])"
   ]
  },
  {
   "cell_type": "code",
   "execution_count": 7,
   "metadata": {},
   "outputs": [],
   "source": [
    "attend_history['n_calendar_days'] = (attend_history['finish_date'] - attend_history['start_date']).apply(lambda x: x.days) + 1"
   ]
  },
  {
   "cell_type": "code",
   "execution_count": 8,
   "metadata": {},
   "outputs": [],
   "source": [
    "attend_history['n_days_passed'] = (pd.to_datetime('2023-03-01') - attend_history['finish_date']).apply(lambda x: x.days) + 1"
   ]
  },
  {
   "cell_type": "code",
   "execution_count": 9,
   "metadata": {},
   "outputs": [
    {
     "data": {
      "text/html": [
       "<div>\n",
       "<style scoped>\n",
       "    .dataframe tbody tr th:only-of-type {\n",
       "        vertical-align: middle;\n",
       "    }\n",
       "\n",
       "    .dataframe tbody tr th {\n",
       "        vertical-align: top;\n",
       "    }\n",
       "\n",
       "    .dataframe thead th {\n",
       "        text-align: right;\n",
       "    }\n",
       "</style>\n",
       "<table border=\"1\" class=\"dataframe\">\n",
       "  <thead>\n",
       "    <tr style=\"text-align: right;\">\n",
       "      <th></th>\n",
       "      <th>n_visits</th>\n",
       "      <th>n_calendar_days</th>\n",
       "      <th>n_days_passed</th>\n",
       "    </tr>\n",
       "  </thead>\n",
       "  <tbody>\n",
       "    <tr>\n",
       "      <th>count</th>\n",
       "      <td>600185.000000</td>\n",
       "      <td>600185.000000</td>\n",
       "      <td>600185.000000</td>\n",
       "    </tr>\n",
       "    <tr>\n",
       "      <th>mean</th>\n",
       "      <td>9.831597</td>\n",
       "      <td>68.519353</td>\n",
       "      <td>97.038596</td>\n",
       "    </tr>\n",
       "    <tr>\n",
       "      <th>std</th>\n",
       "      <td>13.000961</td>\n",
       "      <td>84.284283</td>\n",
       "      <td>94.719193</td>\n",
       "    </tr>\n",
       "    <tr>\n",
       "      <th>min</th>\n",
       "      <td>1.000000</td>\n",
       "      <td>1.000000</td>\n",
       "      <td>2.000000</td>\n",
       "    </tr>\n",
       "    <tr>\n",
       "      <th>25%</th>\n",
       "      <td>2.000000</td>\n",
       "      <td>8.000000</td>\n",
       "      <td>14.000000</td>\n",
       "    </tr>\n",
       "    <tr>\n",
       "      <th>50%</th>\n",
       "      <td>5.000000</td>\n",
       "      <td>36.000000</td>\n",
       "      <td>66.000000</td>\n",
       "    </tr>\n",
       "    <tr>\n",
       "      <th>75%</th>\n",
       "      <td>12.000000</td>\n",
       "      <td>92.000000</td>\n",
       "      <td>147.000000</td>\n",
       "    </tr>\n",
       "    <tr>\n",
       "      <th>max</th>\n",
       "      <td>94.000000</td>\n",
       "      <td>334.000000</td>\n",
       "      <td>335.000000</td>\n",
       "    </tr>\n",
       "  </tbody>\n",
       "</table>\n",
       "</div>"
      ],
      "text/plain": [
       "            n_visits  n_calendar_days  n_days_passed\n",
       "count  600185.000000    600185.000000  600185.000000\n",
       "mean        9.831597        68.519353      97.038596\n",
       "std        13.000961        84.284283      94.719193\n",
       "min         1.000000         1.000000       2.000000\n",
       "25%         2.000000         8.000000      14.000000\n",
       "50%         5.000000        36.000000      66.000000\n",
       "75%        12.000000        92.000000     147.000000\n",
       "max        94.000000       334.000000     335.000000"
      ]
     },
     "execution_count": 9,
     "metadata": {},
     "output_type": "execute_result"
    }
   ],
   "source": [
    "attend_history[['n_visits', 'n_calendar_days', 'n_days_passed']].describe()"
   ]
  },
  {
   "cell_type": "code",
   "execution_count": 10,
   "metadata": {},
   "outputs": [],
   "source": [
    "attend_history_agg = attend_history.groupby(['category3_id', 'category1_name', 'category2_name', 'category3_name', 'user_id'], as_index=False).agg({\n",
    "    'start_date': 'min',\n",
    "    'finish_date': 'max',\n",
    "    'n_visits': 'sum',\n",
    "    'group_id': 'count'\n",
    "})\n",
    "\n",
    "attend_history_agg['n_calendar_days'] = (attend_history_agg['finish_date'] - attend_history_agg['start_date']).apply(lambda x: x.days) + 1\n",
    "attend_history_agg['n_days_passed'] = (pd.to_datetime('2023-03-01') - attend_history_agg['finish_date']).apply(lambda x: x.days) + 1"
   ]
  },
  {
   "cell_type": "code",
   "execution_count": 11,
   "metadata": {},
   "outputs": [
    {
     "data": {
      "text/html": [
       "<div>\n",
       "<style scoped>\n",
       "    .dataframe tbody tr th:only-of-type {\n",
       "        vertical-align: middle;\n",
       "    }\n",
       "\n",
       "    .dataframe tbody tr th {\n",
       "        vertical-align: top;\n",
       "    }\n",
       "\n",
       "    .dataframe thead th {\n",
       "        text-align: right;\n",
       "    }\n",
       "</style>\n",
       "<table border=\"1\" class=\"dataframe\">\n",
       "  <thead>\n",
       "    <tr style=\"text-align: right;\">\n",
       "      <th></th>\n",
       "      <th>category3_id</th>\n",
       "      <th>category1_name</th>\n",
       "      <th>category2_name</th>\n",
       "      <th>category3_name</th>\n",
       "      <th>user_id</th>\n",
       "      <th>start_date</th>\n",
       "      <th>finish_date</th>\n",
       "      <th>n_visits</th>\n",
       "      <th>group_id</th>\n",
       "      <th>n_calendar_days</th>\n",
       "      <th>n_days_passed</th>\n",
       "    </tr>\n",
       "  </thead>\n",
       "  <tbody>\n",
       "    <tr>\n",
       "      <th>0</th>\n",
       "      <td>102</td>\n",
       "      <td>Физическая активность</td>\n",
       "      <td>Спортивные игры</td>\n",
       "      <td>Иные подвижные игры</td>\n",
       "      <td>101346828</td>\n",
       "      <td>2022-08-02</td>\n",
       "      <td>2022-08-09</td>\n",
       "      <td>3</td>\n",
       "      <td>1</td>\n",
       "      <td>8</td>\n",
       "      <td>205</td>\n",
       "    </tr>\n",
       "    <tr>\n",
       "      <th>1</th>\n",
       "      <td>102</td>\n",
       "      <td>Физическая активность</td>\n",
       "      <td>Спортивные игры</td>\n",
       "      <td>Иные подвижные игры</td>\n",
       "      <td>101346919</td>\n",
       "      <td>2023-02-07</td>\n",
       "      <td>2023-02-28</td>\n",
       "      <td>5</td>\n",
       "      <td>1</td>\n",
       "      <td>22</td>\n",
       "      <td>2</td>\n",
       "    </tr>\n",
       "    <tr>\n",
       "      <th>2</th>\n",
       "      <td>102</td>\n",
       "      <td>Физическая активность</td>\n",
       "      <td>Спортивные игры</td>\n",
       "      <td>Иные подвижные игры</td>\n",
       "      <td>101347130</td>\n",
       "      <td>2022-06-16</td>\n",
       "      <td>2023-02-28</td>\n",
       "      <td>61</td>\n",
       "      <td>3</td>\n",
       "      <td>258</td>\n",
       "      <td>2</td>\n",
       "    </tr>\n",
       "    <tr>\n",
       "      <th>3</th>\n",
       "      <td>102</td>\n",
       "      <td>Физическая активность</td>\n",
       "      <td>Спортивные игры</td>\n",
       "      <td>Иные подвижные игры</td>\n",
       "      <td>101347613</td>\n",
       "      <td>2022-11-16</td>\n",
       "      <td>2022-12-07</td>\n",
       "      <td>4</td>\n",
       "      <td>1</td>\n",
       "      <td>22</td>\n",
       "      <td>85</td>\n",
       "    </tr>\n",
       "    <tr>\n",
       "      <th>4</th>\n",
       "      <td>102</td>\n",
       "      <td>Физическая активность</td>\n",
       "      <td>Спортивные игры</td>\n",
       "      <td>Иные подвижные игры</td>\n",
       "      <td>101347678</td>\n",
       "      <td>2023-02-15</td>\n",
       "      <td>2023-02-15</td>\n",
       "      <td>1</td>\n",
       "      <td>1</td>\n",
       "      <td>1</td>\n",
       "      <td>15</td>\n",
       "    </tr>\n",
       "    <tr>\n",
       "      <th>...</th>\n",
       "      <td>...</td>\n",
       "      <td>...</td>\n",
       "      <td>...</td>\n",
       "      <td>...</td>\n",
       "      <td>...</td>\n",
       "      <td>...</td>\n",
       "      <td>...</td>\n",
       "      <td>...</td>\n",
       "      <td>...</td>\n",
       "      <td>...</td>\n",
       "      <td>...</td>\n",
       "    </tr>\n",
       "    <tr>\n",
       "      <th>279680</th>\n",
       "      <td>1813</td>\n",
       "      <td>Образование</td>\n",
       "      <td>Образовательный практикум</td>\n",
       "      <td>Кинолекторий</td>\n",
       "      <td>101447511</td>\n",
       "      <td>2023-02-20</td>\n",
       "      <td>2023-02-27</td>\n",
       "      <td>2</td>\n",
       "      <td>1</td>\n",
       "      <td>8</td>\n",
       "      <td>3</td>\n",
       "    </tr>\n",
       "    <tr>\n",
       "      <th>279681</th>\n",
       "      <td>1813</td>\n",
       "      <td>Образование</td>\n",
       "      <td>Образовательный практикум</td>\n",
       "      <td>Кинолекторий</td>\n",
       "      <td>101447556</td>\n",
       "      <td>2023-01-25</td>\n",
       "      <td>2023-01-25</td>\n",
       "      <td>1</td>\n",
       "      <td>1</td>\n",
       "      <td>1</td>\n",
       "      <td>36</td>\n",
       "    </tr>\n",
       "    <tr>\n",
       "      <th>279682</th>\n",
       "      <td>1813</td>\n",
       "      <td>Образование</td>\n",
       "      <td>Образовательный практикум</td>\n",
       "      <td>Кинолекторий</td>\n",
       "      <td>101447711</td>\n",
       "      <td>2023-01-25</td>\n",
       "      <td>2023-02-27</td>\n",
       "      <td>9</td>\n",
       "      <td>2</td>\n",
       "      <td>34</td>\n",
       "      <td>3</td>\n",
       "    </tr>\n",
       "    <tr>\n",
       "      <th>279683</th>\n",
       "      <td>1813</td>\n",
       "      <td>Образование</td>\n",
       "      <td>Образовательный практикум</td>\n",
       "      <td>Кинолекторий</td>\n",
       "      <td>101447727</td>\n",
       "      <td>2023-01-25</td>\n",
       "      <td>2023-02-27</td>\n",
       "      <td>8</td>\n",
       "      <td>2</td>\n",
       "      <td>34</td>\n",
       "      <td>3</td>\n",
       "    </tr>\n",
       "    <tr>\n",
       "      <th>279684</th>\n",
       "      <td>1813</td>\n",
       "      <td>Образование</td>\n",
       "      <td>Образовательный практикум</td>\n",
       "      <td>Кинолекторий</td>\n",
       "      <td>101447733</td>\n",
       "      <td>2023-01-25</td>\n",
       "      <td>2023-02-20</td>\n",
       "      <td>8</td>\n",
       "      <td>2</td>\n",
       "      <td>27</td>\n",
       "      <td>10</td>\n",
       "    </tr>\n",
       "  </tbody>\n",
       "</table>\n",
       "<p>279685 rows × 11 columns</p>\n",
       "</div>"
      ],
      "text/plain": [
       "        category3_id         category1_name             category2_name   \n",
       "0                102  Физическая активность            Спортивные игры  \\\n",
       "1                102  Физическая активность            Спортивные игры   \n",
       "2                102  Физическая активность            Спортивные игры   \n",
       "3                102  Физическая активность            Спортивные игры   \n",
       "4                102  Физическая активность            Спортивные игры   \n",
       "...              ...                    ...                        ...   \n",
       "279680          1813            Образование  Образовательный практикум   \n",
       "279681          1813            Образование  Образовательный практикум   \n",
       "279682          1813            Образование  Образовательный практикум   \n",
       "279683          1813            Образование  Образовательный практикум   \n",
       "279684          1813            Образование  Образовательный практикум   \n",
       "\n",
       "             category3_name    user_id start_date finish_date  n_visits   \n",
       "0       Иные подвижные игры  101346828 2022-08-02  2022-08-09         3  \\\n",
       "1       Иные подвижные игры  101346919 2023-02-07  2023-02-28         5   \n",
       "2       Иные подвижные игры  101347130 2022-06-16  2023-02-28        61   \n",
       "3       Иные подвижные игры  101347613 2022-11-16  2022-12-07         4   \n",
       "4       Иные подвижные игры  101347678 2023-02-15  2023-02-15         1   \n",
       "...                     ...        ...        ...         ...       ...   \n",
       "279680         Кинолекторий  101447511 2023-02-20  2023-02-27         2   \n",
       "279681         Кинолекторий  101447556 2023-01-25  2023-01-25         1   \n",
       "279682         Кинолекторий  101447711 2023-01-25  2023-02-27         9   \n",
       "279683         Кинолекторий  101447727 2023-01-25  2023-02-27         8   \n",
       "279684         Кинолекторий  101447733 2023-01-25  2023-02-20         8   \n",
       "\n",
       "        group_id  n_calendar_days  n_days_passed  \n",
       "0              1                8            205  \n",
       "1              1               22              2  \n",
       "2              3              258              2  \n",
       "3              1               22             85  \n",
       "4              1                1             15  \n",
       "...          ...              ...            ...  \n",
       "279680         1                8              3  \n",
       "279681         1                1             36  \n",
       "279682         2               34              3  \n",
       "279683         2               34              3  \n",
       "279684         2               27             10  \n",
       "\n",
       "[279685 rows x 11 columns]"
      ]
     },
     "execution_count": 11,
     "metadata": {},
     "output_type": "execute_result"
    }
   ],
   "source": [
    "attend_history_agg"
   ]
  },
  {
   "cell_type": "code",
   "execution_count": 12,
   "metadata": {},
   "outputs": [],
   "source": [
    "attend_history_agg['freq'] = (attend_history_agg['n_visits'] / attend_history_agg['n_calendar_days'])"
   ]
  },
  {
   "cell_type": "code",
   "execution_count": 13,
   "metadata": {},
   "outputs": [
    {
     "data": {
      "text/html": [
       "<div>\n",
       "<style scoped>\n",
       "    .dataframe tbody tr th:only-of-type {\n",
       "        vertical-align: middle;\n",
       "    }\n",
       "\n",
       "    .dataframe tbody tr th {\n",
       "        vertical-align: top;\n",
       "    }\n",
       "\n",
       "    .dataframe thead th {\n",
       "        text-align: right;\n",
       "    }\n",
       "</style>\n",
       "<table border=\"1\" class=\"dataframe\">\n",
       "  <thead>\n",
       "    <tr style=\"text-align: right;\">\n",
       "      <th></th>\n",
       "      <th>category3_id</th>\n",
       "      <th>category1_name</th>\n",
       "      <th>category2_name</th>\n",
       "      <th>category3_name</th>\n",
       "      <th>user_id</th>\n",
       "      <th>start_date</th>\n",
       "      <th>finish_date</th>\n",
       "      <th>n_visits</th>\n",
       "      <th>group_id</th>\n",
       "      <th>n_calendar_days</th>\n",
       "      <th>n_days_passed</th>\n",
       "      <th>freq</th>\n",
       "    </tr>\n",
       "  </thead>\n",
       "  <tbody>\n",
       "    <tr>\n",
       "      <th>0</th>\n",
       "      <td>102</td>\n",
       "      <td>Физическая активность</td>\n",
       "      <td>Спортивные игры</td>\n",
       "      <td>Иные подвижные игры</td>\n",
       "      <td>101346828</td>\n",
       "      <td>2022-08-02</td>\n",
       "      <td>2022-08-09</td>\n",
       "      <td>3</td>\n",
       "      <td>1</td>\n",
       "      <td>8</td>\n",
       "      <td>205</td>\n",
       "      <td>0.375000</td>\n",
       "    </tr>\n",
       "    <tr>\n",
       "      <th>1</th>\n",
       "      <td>102</td>\n",
       "      <td>Физическая активность</td>\n",
       "      <td>Спортивные игры</td>\n",
       "      <td>Иные подвижные игры</td>\n",
       "      <td>101346919</td>\n",
       "      <td>2023-02-07</td>\n",
       "      <td>2023-02-28</td>\n",
       "      <td>5</td>\n",
       "      <td>1</td>\n",
       "      <td>22</td>\n",
       "      <td>2</td>\n",
       "      <td>0.227273</td>\n",
       "    </tr>\n",
       "    <tr>\n",
       "      <th>2</th>\n",
       "      <td>102</td>\n",
       "      <td>Физическая активность</td>\n",
       "      <td>Спортивные игры</td>\n",
       "      <td>Иные подвижные игры</td>\n",
       "      <td>101347130</td>\n",
       "      <td>2022-06-16</td>\n",
       "      <td>2023-02-28</td>\n",
       "      <td>61</td>\n",
       "      <td>3</td>\n",
       "      <td>258</td>\n",
       "      <td>2</td>\n",
       "      <td>0.236434</td>\n",
       "    </tr>\n",
       "    <tr>\n",
       "      <th>3</th>\n",
       "      <td>102</td>\n",
       "      <td>Физическая активность</td>\n",
       "      <td>Спортивные игры</td>\n",
       "      <td>Иные подвижные игры</td>\n",
       "      <td>101347613</td>\n",
       "      <td>2022-11-16</td>\n",
       "      <td>2022-12-07</td>\n",
       "      <td>4</td>\n",
       "      <td>1</td>\n",
       "      <td>22</td>\n",
       "      <td>85</td>\n",
       "      <td>0.181818</td>\n",
       "    </tr>\n",
       "    <tr>\n",
       "      <th>4</th>\n",
       "      <td>102</td>\n",
       "      <td>Физическая активность</td>\n",
       "      <td>Спортивные игры</td>\n",
       "      <td>Иные подвижные игры</td>\n",
       "      <td>101347678</td>\n",
       "      <td>2023-02-15</td>\n",
       "      <td>2023-02-15</td>\n",
       "      <td>1</td>\n",
       "      <td>1</td>\n",
       "      <td>1</td>\n",
       "      <td>15</td>\n",
       "      <td>1.000000</td>\n",
       "    </tr>\n",
       "    <tr>\n",
       "      <th>...</th>\n",
       "      <td>...</td>\n",
       "      <td>...</td>\n",
       "      <td>...</td>\n",
       "      <td>...</td>\n",
       "      <td>...</td>\n",
       "      <td>...</td>\n",
       "      <td>...</td>\n",
       "      <td>...</td>\n",
       "      <td>...</td>\n",
       "      <td>...</td>\n",
       "      <td>...</td>\n",
       "      <td>...</td>\n",
       "    </tr>\n",
       "    <tr>\n",
       "      <th>279680</th>\n",
       "      <td>1813</td>\n",
       "      <td>Образование</td>\n",
       "      <td>Образовательный практикум</td>\n",
       "      <td>Кинолекторий</td>\n",
       "      <td>101447511</td>\n",
       "      <td>2023-02-20</td>\n",
       "      <td>2023-02-27</td>\n",
       "      <td>2</td>\n",
       "      <td>1</td>\n",
       "      <td>8</td>\n",
       "      <td>3</td>\n",
       "      <td>0.250000</td>\n",
       "    </tr>\n",
       "    <tr>\n",
       "      <th>279681</th>\n",
       "      <td>1813</td>\n",
       "      <td>Образование</td>\n",
       "      <td>Образовательный практикум</td>\n",
       "      <td>Кинолекторий</td>\n",
       "      <td>101447556</td>\n",
       "      <td>2023-01-25</td>\n",
       "      <td>2023-01-25</td>\n",
       "      <td>1</td>\n",
       "      <td>1</td>\n",
       "      <td>1</td>\n",
       "      <td>36</td>\n",
       "      <td>1.000000</td>\n",
       "    </tr>\n",
       "    <tr>\n",
       "      <th>279682</th>\n",
       "      <td>1813</td>\n",
       "      <td>Образование</td>\n",
       "      <td>Образовательный практикум</td>\n",
       "      <td>Кинолекторий</td>\n",
       "      <td>101447711</td>\n",
       "      <td>2023-01-25</td>\n",
       "      <td>2023-02-27</td>\n",
       "      <td>9</td>\n",
       "      <td>2</td>\n",
       "      <td>34</td>\n",
       "      <td>3</td>\n",
       "      <td>0.264706</td>\n",
       "    </tr>\n",
       "    <tr>\n",
       "      <th>279683</th>\n",
       "      <td>1813</td>\n",
       "      <td>Образование</td>\n",
       "      <td>Образовательный практикум</td>\n",
       "      <td>Кинолекторий</td>\n",
       "      <td>101447727</td>\n",
       "      <td>2023-01-25</td>\n",
       "      <td>2023-02-27</td>\n",
       "      <td>8</td>\n",
       "      <td>2</td>\n",
       "      <td>34</td>\n",
       "      <td>3</td>\n",
       "      <td>0.235294</td>\n",
       "    </tr>\n",
       "    <tr>\n",
       "      <th>279684</th>\n",
       "      <td>1813</td>\n",
       "      <td>Образование</td>\n",
       "      <td>Образовательный практикум</td>\n",
       "      <td>Кинолекторий</td>\n",
       "      <td>101447733</td>\n",
       "      <td>2023-01-25</td>\n",
       "      <td>2023-02-20</td>\n",
       "      <td>8</td>\n",
       "      <td>2</td>\n",
       "      <td>27</td>\n",
       "      <td>10</td>\n",
       "      <td>0.296296</td>\n",
       "    </tr>\n",
       "  </tbody>\n",
       "</table>\n",
       "<p>279685 rows × 12 columns</p>\n",
       "</div>"
      ],
      "text/plain": [
       "        category3_id         category1_name             category2_name   \n",
       "0                102  Физическая активность            Спортивные игры  \\\n",
       "1                102  Физическая активность            Спортивные игры   \n",
       "2                102  Физическая активность            Спортивные игры   \n",
       "3                102  Физическая активность            Спортивные игры   \n",
       "4                102  Физическая активность            Спортивные игры   \n",
       "...              ...                    ...                        ...   \n",
       "279680          1813            Образование  Образовательный практикум   \n",
       "279681          1813            Образование  Образовательный практикум   \n",
       "279682          1813            Образование  Образовательный практикум   \n",
       "279683          1813            Образование  Образовательный практикум   \n",
       "279684          1813            Образование  Образовательный практикум   \n",
       "\n",
       "             category3_name    user_id start_date finish_date  n_visits   \n",
       "0       Иные подвижные игры  101346828 2022-08-02  2022-08-09         3  \\\n",
       "1       Иные подвижные игры  101346919 2023-02-07  2023-02-28         5   \n",
       "2       Иные подвижные игры  101347130 2022-06-16  2023-02-28        61   \n",
       "3       Иные подвижные игры  101347613 2022-11-16  2022-12-07         4   \n",
       "4       Иные подвижные игры  101347678 2023-02-15  2023-02-15         1   \n",
       "...                     ...        ...        ...         ...       ...   \n",
       "279680         Кинолекторий  101447511 2023-02-20  2023-02-27         2   \n",
       "279681         Кинолекторий  101447556 2023-01-25  2023-01-25         1   \n",
       "279682         Кинолекторий  101447711 2023-01-25  2023-02-27         9   \n",
       "279683         Кинолекторий  101447727 2023-01-25  2023-02-27         8   \n",
       "279684         Кинолекторий  101447733 2023-01-25  2023-02-20         8   \n",
       "\n",
       "        group_id  n_calendar_days  n_days_passed      freq  \n",
       "0              1                8            205  0.375000  \n",
       "1              1               22              2  0.227273  \n",
       "2              3              258              2  0.236434  \n",
       "3              1               22             85  0.181818  \n",
       "4              1                1             15  1.000000  \n",
       "...          ...              ...            ...       ...  \n",
       "279680         1                8              3  0.250000  \n",
       "279681         1                1             36  1.000000  \n",
       "279682         2               34              3  0.264706  \n",
       "279683         2               34              3  0.235294  \n",
       "279684         2               27             10  0.296296  \n",
       "\n",
       "[279685 rows x 12 columns]"
      ]
     },
     "execution_count": 13,
     "metadata": {},
     "output_type": "execute_result"
    }
   ],
   "source": [
    "attend_history_agg"
   ]
  },
  {
   "cell_type": "code",
   "execution_count": 14,
   "metadata": {},
   "outputs": [],
   "source": [
    "attend_history_agg2 = attend_history_agg.groupby(['category1_name', 'category2_name', 'category3_name'], as_index=False).agg({\n",
    "    'user_id': 'count',\n",
    "    'n_calendar_days': ['mean', 'std'],\n",
    "    'n_days_passed': ['mean', 'std'],\n",
    "    'n_visits': ['mean', 'std'],\n",
    "})"
   ]
  },
  {
   "cell_type": "code",
   "execution_count": 15,
   "metadata": {},
   "outputs": [
    {
     "data": {
      "text/plain": [
       "<AxesSubplot:>"
      ]
     },
     "execution_count": 15,
     "metadata": {},
     "output_type": "execute_result"
    },
    {
     "data": {
      "image/png": "[encoded data removed]",
      "text/plain": [
       "<Figure size 432x288 with 1 Axes>"
      ]
     },
     "metadata": {
      "needs_background": "light"
     },
     "output_type": "display_data"
    }
   ],
   "source": [
    "attend_history_agg[attend_history_agg['category3_name'] == 'Мастер-класс по уходу за кожей в зрелом возрасте']['n_visits'].hist(bins=100)"
   ]
  },
  {
   "cell_type": "code",
   "execution_count": 16,
   "metadata": {},
   "outputs": [
    {
     "data": {
      "text/plain": [
       "<AxesSubplot:>"
      ]
     },
     "execution_count": 16,
     "metadata": {},
     "output_type": "execute_result"
    },
    {
     "data": {
      "image/png": "[encoded data removed]",
      "text/plain": [
       "<Figure size 432x288 with 1 Axes>"
      ]
     },
     "metadata": {
      "needs_background": "light"
     },
     "output_type": "display_data"
    }
   ],
   "source": [
    "attend_history_agg[attend_history_agg['category3_name'] == 'Мастер-класс по уходу за кожей в зрелом возрасте']['n_calendar_days'].hist(bins=50)"
   ]
  },
  {
   "cell_type": "code",
   "execution_count": 17,
   "metadata": {},
   "outputs": [
    {
     "data": {
      "text/plain": [
       "<AxesSubplot:>"
      ]
     },
     "execution_count": 17,
     "metadata": {},
     "output_type": "execute_result"
    },
    {
     "data": {
      "image/png": "[encoded data removed]",
      "text/plain": [
       "<Figure size 432x288 with 1 Axes>"
      ]
     },
     "metadata": {
      "needs_background": "light"
     },
     "output_type": "display_data"
    }
   ],
   "source": [
    "attend_history_agg[attend_history_agg['category3_name'] == 'Футбол']['freq'].hist()"
   ]
  },
  {
   "cell_type": "markdown",
   "metadata": {},
   "source": [
    "**Квантили интереса (кол-во дней)**"
   ]
  },
  {
   "cell_type": "code",
   "execution_count": 18,
   "metadata": {},
   "outputs": [],
   "source": [
    "attend_history_agg_days = attend_history_agg.groupby('category3_id', as_index=False).agg({'user_id': 'count', 'n_visits': list, 'n_calendar_days': list})"
   ]
  },
  {
   "cell_type": "code",
   "execution_count": 19,
   "metadata": {},
   "outputs": [],
   "source": [
    "for name in ['n_visits', 'n_calendar_days']:\n",
    "    attend_history_agg_days[name] = attend_history_agg_days[name].apply(lambda x: np.quantile(x, [0.1, 0.25, 0.5, 0.75, 0.8, 0.9, 0.95, 0.99, 1]).round())"
   ]
  },
  {
   "cell_type": "code",
   "execution_count": 20,
   "metadata": {},
   "outputs": [],
   "source": [
    "attend_history_agg_days = attend_history_agg_days[attend_history_agg_days['user_id'] >= 10]"
   ]
  },
  {
   "cell_type": "code",
   "execution_count": 21,
   "metadata": {},
   "outputs": [
    {
     "data": {
      "text/html": [
       "<div>\n",
       "<style scoped>\n",
       "    .dataframe tbody tr th:only-of-type {\n",
       "        vertical-align: middle;\n",
       "    }\n",
       "\n",
       "    .dataframe tbody tr th {\n",
       "        vertical-align: top;\n",
       "    }\n",
       "\n",
       "    .dataframe thead th {\n",
       "        text-align: right;\n",
       "    }\n",
       "</style>\n",
       "<table border=\"1\" class=\"dataframe\">\n",
       "  <thead>\n",
       "    <tr style=\"text-align: right;\">\n",
       "      <th></th>\n",
       "      <th>category3_id</th>\n",
       "      <th>user_id</th>\n",
       "      <th>n_visits</th>\n",
       "      <th>n_calendar_days</th>\n",
       "    </tr>\n",
       "  </thead>\n",
       "  <tbody>\n",
       "    <tr>\n",
       "      <th>0</th>\n",
       "      <td>102</td>\n",
       "      <td>269</td>\n",
       "      <td>[1.0, 4.0, 10.0, 24.0, 27.0, 43.0, 53.0, 66.0,...</td>\n",
       "      <td>[1.0, 22.0, 90.0, 183.0, 205.0, 272.0, 281.0, ...</td>\n",
       "    </tr>\n",
       "    <tr>\n",
       "      <th>1</th>\n",
       "      <td>104</td>\n",
       "      <td>6985</td>\n",
       "      <td>[2.0, 5.0, 15.0, 34.0, 40.0, 57.0, 73.0, 125.0...</td>\n",
       "      <td>[5.0, 34.0, 113.0, 260.0, 302.0, 328.0, 330.0,...</td>\n",
       "    </tr>\n",
       "    <tr>\n",
       "      <th>2</th>\n",
       "      <td>111</td>\n",
       "      <td>102</td>\n",
       "      <td>[3.0, 7.0, 32.0, 60.0, 71.0, 84.0, 90.0, 108.0...</td>\n",
       "      <td>[17.0, 52.0, 229.0, 329.0, 330.0, 330.0, 331.0...</td>\n",
       "    </tr>\n",
       "    <tr>\n",
       "      <th>3</th>\n",
       "      <td>112</td>\n",
       "      <td>5247</td>\n",
       "      <td>[1.0, 4.0, 13.0, 37.0, 44.0, 67.0, 87.0, 145.0...</td>\n",
       "      <td>[1.0, 22.0, 120.0, 295.0, 316.0, 329.0, 330.0,...</td>\n",
       "    </tr>\n",
       "    <tr>\n",
       "      <th>4</th>\n",
       "      <td>114</td>\n",
       "      <td>7675</td>\n",
       "      <td>[1.0, 4.0, 13.0, 34.0, 40.0, 58.0, 72.0, 105.0...</td>\n",
       "      <td>[1.0, 29.0, 118.0, 267.0, 304.0, 328.0, 330.0,...</td>\n",
       "    </tr>\n",
       "  </tbody>\n",
       "</table>\n",
       "</div>"
      ],
      "text/plain": [
       "   category3_id  user_id                                           n_visits   \n",
       "0           102      269  [1.0, 4.0, 10.0, 24.0, 27.0, 43.0, 53.0, 66.0,...  \\\n",
       "1           104     6985  [2.0, 5.0, 15.0, 34.0, 40.0, 57.0, 73.0, 125.0...   \n",
       "2           111      102  [3.0, 7.0, 32.0, 60.0, 71.0, 84.0, 90.0, 108.0...   \n",
       "3           112     5247  [1.0, 4.0, 13.0, 37.0, 44.0, 67.0, 87.0, 145.0...   \n",
       "4           114     7675  [1.0, 4.0, 13.0, 34.0, 40.0, 58.0, 72.0, 105.0...   \n",
       "\n",
       "                                     n_calendar_days  \n",
       "0  [1.0, 22.0, 90.0, 183.0, 205.0, 272.0, 281.0, ...  \n",
       "1  [5.0, 34.0, 113.0, 260.0, 302.0, 328.0, 330.0,...  \n",
       "2  [17.0, 52.0, 229.0, 329.0, 330.0, 330.0, 331.0...  \n",
       "3  [1.0, 22.0, 120.0, 295.0, 316.0, 329.0, 330.0,...  \n",
       "4  [1.0, 29.0, 118.0, 267.0, 304.0, 328.0, 330.0,...  "
      ]
     },
     "execution_count": 21,
     "metadata": {},
     "output_type": "execute_result"
    }
   ],
   "source": [
    "attend_history_agg_days.head()"
   ]
  },
  {
   "cell_type": "code",
   "execution_count": 22,
   "metadata": {},
   "outputs": [],
   "source": [
    "long_quantiles_n_visits = []\n",
    "\n",
    "for row in attend_history_agg_days.values:\n",
    "    for n_v, q in zip(row[2], range(2, 11)):\n",
    "        long_quantiles_n_visits.append((row[0], q, n_v))\n",
    "        \n",
    "long_quantiles_n_visits = pd.DataFrame(long_quantiles_n_visits, columns=['category3_id', 'qt', 'n_visits'])"
   ]
  },
  {
   "cell_type": "code",
   "execution_count": 23,
   "metadata": {},
   "outputs": [],
   "source": [
    "long_quantiles_n_visits = long_quantiles_n_visits.drop_duplicates(subset=['category3_id', 'n_visits'], keep='last')"
   ]
  },
  {
   "cell_type": "code",
   "execution_count": 24,
   "metadata": {},
   "outputs": [
    {
     "data": {
      "text/html": [
       "<div>\n",
       "<style scoped>\n",
       "    .dataframe tbody tr th:only-of-type {\n",
       "        vertical-align: middle;\n",
       "    }\n",
       "\n",
       "    .dataframe tbody tr th {\n",
       "        vertical-align: top;\n",
       "    }\n",
       "\n",
       "    .dataframe thead th {\n",
       "        text-align: right;\n",
       "    }\n",
       "</style>\n",
       "<table border=\"1\" class=\"dataframe\">\n",
       "  <thead>\n",
       "    <tr style=\"text-align: right;\">\n",
       "      <th></th>\n",
       "      <th>category3_id</th>\n",
       "      <th>qt</th>\n",
       "      <th>n_visits</th>\n",
       "    </tr>\n",
       "  </thead>\n",
       "  <tbody>\n",
       "    <tr>\n",
       "      <th>0</th>\n",
       "      <td>102</td>\n",
       "      <td>2</td>\n",
       "      <td>1.0</td>\n",
       "    </tr>\n",
       "    <tr>\n",
       "      <th>1</th>\n",
       "      <td>102</td>\n",
       "      <td>3</td>\n",
       "      <td>4.0</td>\n",
       "    </tr>\n",
       "    <tr>\n",
       "      <th>2</th>\n",
       "      <td>102</td>\n",
       "      <td>4</td>\n",
       "      <td>10.0</td>\n",
       "    </tr>\n",
       "    <tr>\n",
       "      <th>3</th>\n",
       "      <td>102</td>\n",
       "      <td>5</td>\n",
       "      <td>24.0</td>\n",
       "    </tr>\n",
       "    <tr>\n",
       "      <th>4</th>\n",
       "      <td>102</td>\n",
       "      <td>6</td>\n",
       "      <td>27.0</td>\n",
       "    </tr>\n",
       "    <tr>\n",
       "      <th>...</th>\n",
       "      <td>...</td>\n",
       "      <td>...</td>\n",
       "      <td>...</td>\n",
       "    </tr>\n",
       "    <tr>\n",
       "      <th>2326</th>\n",
       "      <td>1813</td>\n",
       "      <td>6</td>\n",
       "      <td>6.0</td>\n",
       "    </tr>\n",
       "    <tr>\n",
       "      <th>2327</th>\n",
       "      <td>1813</td>\n",
       "      <td>7</td>\n",
       "      <td>8.0</td>\n",
       "    </tr>\n",
       "    <tr>\n",
       "      <th>2328</th>\n",
       "      <td>1813</td>\n",
       "      <td>8</td>\n",
       "      <td>9.0</td>\n",
       "    </tr>\n",
       "    <tr>\n",
       "      <th>2329</th>\n",
       "      <td>1813</td>\n",
       "      <td>9</td>\n",
       "      <td>11.0</td>\n",
       "    </tr>\n",
       "    <tr>\n",
       "      <th>2330</th>\n",
       "      <td>1813</td>\n",
       "      <td>10</td>\n",
       "      <td>12.0</td>\n",
       "    </tr>\n",
       "  </tbody>\n",
       "</table>\n",
       "<p>2189 rows × 3 columns</p>\n",
       "</div>"
      ],
      "text/plain": [
       "      category3_id  qt  n_visits\n",
       "0              102   2       1.0\n",
       "1              102   3       4.0\n",
       "2              102   4      10.0\n",
       "3              102   5      24.0\n",
       "4              102   6      27.0\n",
       "...            ...  ..       ...\n",
       "2326          1813   6       6.0\n",
       "2327          1813   7       8.0\n",
       "2328          1813   8       9.0\n",
       "2329          1813   9      11.0\n",
       "2330          1813  10      12.0\n",
       "\n",
       "[2189 rows x 3 columns]"
      ]
     },
     "execution_count": 24,
     "metadata": {},
     "output_type": "execute_result"
    }
   ],
   "source": [
    "long_quantiles_n_visits"
   ]
  },
  {
   "cell_type": "code",
   "execution_count": 25,
   "metadata": {},
   "outputs": [],
   "source": [
    "long_quantiles_n_visits.to_csv('category_quantiles.csv', index=None)"
   ]
  },
  {
   "cell_type": "markdown",
   "metadata": {},
   "source": [
    "## Промежутки возвращения"
   ]
  },
  {
   "cell_type": "code",
   "execution_count": 26,
   "metadata": {},
   "outputs": [],
   "source": [
    "attend_raw = pd.read_sql(\"\"\"\n",
    "SELECT user_id, event_date, category3_id\n",
    "FROM attend\n",
    "LEFT JOIN groups ON attend.group_id = groups.group_id\n",
    "WHERE category3_id IS NOT NULL\n",
    "\"\"\", con=db2)\n",
    "attend_raw['event_date'] = pd.to_datetime(attend_raw['event_date'])\n",
    "attend_raw = attend_raw.groupby(['user_id', 'category3_id'], as_index=False).agg({'event_date': lambda x: sorted(list(x))})"
   ]
  },
  {
   "cell_type": "code",
   "execution_count": 27,
   "metadata": {},
   "outputs": [
    {
     "data": {
      "text/html": [
       "<div>\n",
       "<style scoped>\n",
       "    .dataframe tbody tr th:only-of-type {\n",
       "        vertical-align: middle;\n",
       "    }\n",
       "\n",
       "    .dataframe tbody tr th {\n",
       "        vertical-align: top;\n",
       "    }\n",
       "\n",
       "    .dataframe thead th {\n",
       "        text-align: right;\n",
       "    }\n",
       "</style>\n",
       "<table border=\"1\" class=\"dataframe\">\n",
       "  <thead>\n",
       "    <tr style=\"text-align: right;\">\n",
       "      <th></th>\n",
       "      <th>user_id</th>\n",
       "      <th>category3_id</th>\n",
       "      <th>event_date</th>\n",
       "    </tr>\n",
       "  </thead>\n",
       "  <tbody>\n",
       "    <tr>\n",
       "      <th>0</th>\n",
       "      <td>101346549</td>\n",
       "      <td>114</td>\n",
       "      <td>[2023-02-13 00:00:00]</td>\n",
       "    </tr>\n",
       "    <tr>\n",
       "      <th>1</th>\n",
       "      <td>101346549</td>\n",
       "      <td>121</td>\n",
       "      <td>[2023-02-24 00:00:00]</td>\n",
       "    </tr>\n",
       "    <tr>\n",
       "      <th>2</th>\n",
       "      <td>101346549</td>\n",
       "      <td>142</td>\n",
       "      <td>[2023-02-20 00:00:00, 2023-02-22 00:00:00]</td>\n",
       "    </tr>\n",
       "    <tr>\n",
       "      <th>3</th>\n",
       "      <td>101346549</td>\n",
       "      <td>170</td>\n",
       "      <td>[2023-01-25 00:00:00]</td>\n",
       "    </tr>\n",
       "    <tr>\n",
       "      <th>4</th>\n",
       "      <td>101346549</td>\n",
       "      <td>204</td>\n",
       "      <td>[2023-01-12 00:00:00, 2023-02-09 00:00:00]</td>\n",
       "    </tr>\n",
       "  </tbody>\n",
       "</table>\n",
       "</div>"
      ],
      "text/plain": [
       "     user_id  category3_id                                  event_date\n",
       "0  101346549           114                       [2023-02-13 00:00:00]\n",
       "1  101346549           121                       [2023-02-24 00:00:00]\n",
       "2  101346549           142  [2023-02-20 00:00:00, 2023-02-22 00:00:00]\n",
       "3  101346549           170                       [2023-01-25 00:00:00]\n",
       "4  101346549           204  [2023-01-12 00:00:00, 2023-02-09 00:00:00]"
      ]
     },
     "execution_count": 27,
     "metadata": {},
     "output_type": "execute_result"
    }
   ],
   "source": [
    "attend_raw.head()"
   ]
  },
  {
   "cell_type": "code",
   "execution_count": 28,
   "metadata": {},
   "outputs": [],
   "source": [
    "attend_raw['ith'] = attend_raw['event_date'].apply(lambda x: range(1, len(x)))"
   ]
  },
  {
   "cell_type": "code",
   "execution_count": 29,
   "metadata": {},
   "outputs": [],
   "source": [
    "attend_raw['diff_days'] = attend_raw['event_date'].apply(lambda x: [(e - s).days for s, e in zip(x[:-1], x[1:])])"
   ]
  },
  {
   "cell_type": "code",
   "execution_count": 30,
   "metadata": {},
   "outputs": [],
   "source": [
    "long_attend = []\n",
    "\n",
    "for row in attend_raw.values:\n",
    "    if len(row[-1]) > 0:\n",
    "        for i, d in zip(row[-2], row[-1]):\n",
    "            long_attend.append((row[1], i, d))\n",
    "            \n",
    "long_attend = pd.DataFrame(long_attend, columns=['category3_id', 'ith', 'diff'])"
   ]
  },
  {
   "cell_type": "code",
   "execution_count": 31,
   "metadata": {},
   "outputs": [
    {
     "data": {
      "text/plain": [
       "<AxesSubplot:>"
      ]
     },
     "execution_count": 31,
     "metadata": {},
     "output_type": "execute_result"
    },
    {
     "data": {
      "image/png": "[encoded data removed]",
      "text/plain": [
       "<Figure size 432x288 with 1 Axes>"
      ]
     },
     "metadata": {
      "needs_background": "light"
     },
     "output_type": "display_data"
    }
   ],
   "source": [
    "long_attend[(long_attend['diff'] < 50) & (long_attend['ith'] > 0)]['diff'].hist(bins=50)"
   ]
  },
  {
   "cell_type": "markdown",
   "metadata": {},
   "source": [
    "**95% перцентиль времени возврата**"
   ]
  },
  {
   "cell_type": "code",
   "execution_count": 32,
   "metadata": {},
   "outputs": [],
   "source": [
    "likely_come_back = long_attend.groupby('category3_id', as_index=False).agg({'ith': 'count', 'diff': lambda x: np.ceil(np.percentile(x, 95))}).astype(int)"
   ]
  },
  {
   "cell_type": "code",
   "execution_count": 33,
   "metadata": {},
   "outputs": [],
   "source": [
    "likely_come_back = likely_come_back[likely_come_back['ith'] >= 100].drop('ith', axis=1)"
   ]
  },
  {
   "cell_type": "code",
   "execution_count": 34,
   "metadata": {},
   "outputs": [],
   "source": [
    "likely_come_back.to_csv('likely_come_back_days.csv', index=None)"
   ]
  },
  {
   "cell_type": "markdown",
   "metadata": {},
   "source": [
    "## Модель"
   ]
  },
  {
   "cell_type": "code",
   "execution_count": 36,
   "metadata": {},
   "outputs": [],
   "source": [
    "attend_history = pd.read_sql(\"\"\"\n",
    "    SELECT user_id, category3_id, sum(n_visits) as n_visits\n",
    "    FROM attend_history\n",
    "    GROUP BY user_id, category3_id\n",
    "\"\"\", con=db)"
   ]
  },
  {
   "cell_type": "code",
   "execution_count": 37,
   "metadata": {},
   "outputs": [
    {
     "data": {
      "text/html": [
       "<div>\n",
       "<style scoped>\n",
       "    .dataframe tbody tr th:only-of-type {\n",
       "        vertical-align: middle;\n",
       "    }\n",
       "\n",
       "    .dataframe tbody tr th {\n",
       "        vertical-align: top;\n",
       "    }\n",
       "\n",
       "    .dataframe thead th {\n",
       "        text-align: right;\n",
       "    }\n",
       "</style>\n",
       "<table border=\"1\" class=\"dataframe\">\n",
       "  <thead>\n",
       "    <tr style=\"text-align: right;\">\n",
       "      <th></th>\n",
       "      <th>user_id</th>\n",
       "      <th>category3_id</th>\n",
       "      <th>n_visits</th>\n",
       "    </tr>\n",
       "  </thead>\n",
       "  <tbody>\n",
       "    <tr>\n",
       "      <th>0</th>\n",
       "      <td>101346549</td>\n",
       "      <td>114</td>\n",
       "      <td>1</td>\n",
       "    </tr>\n",
       "    <tr>\n",
       "      <th>1</th>\n",
       "      <td>101346549</td>\n",
       "      <td>121</td>\n",
       "      <td>1</td>\n",
       "    </tr>\n",
       "    <tr>\n",
       "      <th>2</th>\n",
       "      <td>101346549</td>\n",
       "      <td>142</td>\n",
       "      <td>2</td>\n",
       "    </tr>\n",
       "    <tr>\n",
       "      <th>3</th>\n",
       "      <td>101346549</td>\n",
       "      <td>170</td>\n",
       "      <td>1</td>\n",
       "    </tr>\n",
       "    <tr>\n",
       "      <th>4</th>\n",
       "      <td>101346549</td>\n",
       "      <td>204</td>\n",
       "      <td>2</td>\n",
       "    </tr>\n",
       "    <tr>\n",
       "      <th>...</th>\n",
       "      <td>...</td>\n",
       "      <td>...</td>\n",
       "      <td>...</td>\n",
       "    </tr>\n",
       "    <tr>\n",
       "      <th>279680</th>\n",
       "      <td>101449498</td>\n",
       "      <td>327</td>\n",
       "      <td>3</td>\n",
       "    </tr>\n",
       "    <tr>\n",
       "      <th>279681</th>\n",
       "      <td>101449549</td>\n",
       "      <td>114</td>\n",
       "      <td>1</td>\n",
       "    </tr>\n",
       "    <tr>\n",
       "      <th>279682</th>\n",
       "      <td>101449549</td>\n",
       "      <td>178</td>\n",
       "      <td>2</td>\n",
       "    </tr>\n",
       "    <tr>\n",
       "      <th>279683</th>\n",
       "      <td>101449549</td>\n",
       "      <td>218</td>\n",
       "      <td>1</td>\n",
       "    </tr>\n",
       "    <tr>\n",
       "      <th>279684</th>\n",
       "      <td>101449549</td>\n",
       "      <td>1715</td>\n",
       "      <td>1</td>\n",
       "    </tr>\n",
       "  </tbody>\n",
       "</table>\n",
       "<p>279685 rows × 3 columns</p>\n",
       "</div>"
      ],
      "text/plain": [
       "          user_id  category3_id  n_visits\n",
       "0       101346549           114         1\n",
       "1       101346549           121         1\n",
       "2       101346549           142         2\n",
       "3       101346549           170         1\n",
       "4       101346549           204         2\n",
       "...           ...           ...       ...\n",
       "279680  101449498           327         3\n",
       "279681  101449549           114         1\n",
       "279682  101449549           178         2\n",
       "279683  101449549           218         1\n",
       "279684  101449549          1715         1\n",
       "\n",
       "[279685 rows x 3 columns]"
      ]
     },
     "execution_count": 37,
     "metadata": {},
     "output_type": "execute_result"
    }
   ],
   "source": [
    "attend_history"
   ]
  },
  {
   "cell_type": "code",
   "execution_count": 38,
   "metadata": {},
   "outputs": [],
   "source": [
    "attend_history_agg_days = attend_history_agg_days[['category3_id', 'n_visits']]\n",
    "attend_history_agg_days.columns = ['category3_id', 'quantiles']"
   ]
  },
  {
   "cell_type": "code",
   "execution_count": 41,
   "metadata": {},
   "outputs": [],
   "source": [
    "attend_history2 = attend_history.groupby(['user_id', 'category3_id'], as_index=False).agg({'n_visits': 'sum'})"
   ]
  },
  {
   "cell_type": "code",
   "execution_count": 42,
   "metadata": {},
   "outputs": [],
   "source": [
    "attend_history2 = attend_history2.merge(attend_history_agg_days)"
   ]
  },
  {
   "cell_type": "code",
   "execution_count": 43,
   "metadata": {},
   "outputs": [],
   "source": [
    "attend_history2['this_quantile'] = attend_history2.apply(\n",
    "    lambda x: max([i + 2 for i, v in enumerate(x['quantiles']) if v <= x['n_visits']] + [1])\n",
    "    , axis=1\n",
    ")"
   ]
  },
  {
   "cell_type": "code",
   "execution_count": 44,
   "metadata": {},
   "outputs": [],
   "source": [
    "attend_history2[['user_id', 'category3_id', 'this_quantile']].to_csv('user_cat_quantile.csv', index=None)"
   ]
  },
  {
   "cell_type": "markdown",
   "metadata": {},
   "source": [
    "## Знакомства"
   ]
  },
  {
   "cell_type": "code",
   "execution_count": 397,
   "metadata": {},
   "outputs": [],
   "source": [
    "attend_raw = pd.read_sql(\"\"\"\n",
    "SELECT user_id, event_date, group_id\n",
    "FROM attend\n",
    "-- LEFT JOIN groups ON attend.group_id = groups.group_id\n",
    "-- WHERE category3_id IS NOT NULL\n",
    "\"\"\", con=db2)"
   ]
  },
  {
   "cell_type": "code",
   "execution_count": 398,
   "metadata": {},
   "outputs": [],
   "source": [
    "attend_raw = attend_raw.groupby(['group_id', 'event_date'], as_index=False).agg({'user_id': list})"
   ]
  },
  {
   "cell_type": "code",
   "execution_count": 399,
   "metadata": {},
   "outputs": [],
   "source": [
    "attend_raw = attend_raw[attend_raw['user_id'].apply(len) > 1]"
   ]
  },
  {
   "cell_type": "code",
   "execution_count": 400,
   "metadata": {},
   "outputs": [],
   "source": [
    "from collections import defaultdict"
   ]
  },
  {
   "cell_type": "code",
   "execution_count": 401,
   "metadata": {},
   "outputs": [
    {
     "data": {
      "application/vnd.jupyter.widget-view+json": {
       "model_id": "0403cf25c2d143889b3a4586ad5296de",
       "version_major": 2,
       "version_minor": 0
      },
      "text/plain": [
       "  0%|          | 0/595379 [00:00<?, ?it/s]"
      ]
     },
     "metadata": {},
     "output_type": "display_data"
    }
   ],
   "source": [
    "dct = defaultdict(lambda: defaultdict(int))\n",
    "\n",
    "for row in tqdm(attend_raw.values):\n",
    "    for user in row[-1]:\n",
    "        for friend in row[-1]:\n",
    "            if friend != user:\n",
    "                dct[user][friend] += 1"
   ]
  },
  {
   "cell_type": "code",
   "execution_count": 402,
   "metadata": {},
   "outputs": [],
   "source": [
    "from itertools import chain"
   ]
  },
  {
   "cell_type": "code",
   "execution_count": 403,
   "metadata": {},
   "outputs": [],
   "source": [
    "attend_raw = attend_raw.groupby('group_id', as_index=False).agg({'user_id': lambda x: set(list(chain(*x)))})"
   ]
  },
  {
   "cell_type": "code",
   "execution_count": 405,
   "metadata": {},
   "outputs": [
    {
     "data": {
      "text/html": [
       "<div>\n",
       "<style scoped>\n",
       "    .dataframe tbody tr th:only-of-type {\n",
       "        vertical-align: middle;\n",
       "    }\n",
       "\n",
       "    .dataframe tbody tr th {\n",
       "        vertical-align: top;\n",
       "    }\n",
       "\n",
       "    .dataframe thead th {\n",
       "        text-align: right;\n",
       "    }\n",
       "</style>\n",
       "<table border=\"1\" class=\"dataframe\">\n",
       "  <thead>\n",
       "    <tr style=\"text-align: right;\">\n",
       "      <th></th>\n",
       "      <th>group_id</th>\n",
       "      <th>user_id</th>\n",
       "    </tr>\n",
       "  </thead>\n",
       "  <tbody>\n",
       "    <tr>\n",
       "      <th>0</th>\n",
       "      <td>801346549</td>\n",
       "      <td>{101370217, 101392971}</td>\n",
       "    </tr>\n",
       "    <tr>\n",
       "      <th>1</th>\n",
       "      <td>801346550</td>\n",
       "      <td>{101421312, 101425664, 101354499, 101431176, 1...</td>\n",
       "    </tr>\n",
       "    <tr>\n",
       "      <th>2</th>\n",
       "      <td>801346551</td>\n",
       "      <td>{101394946, 101411459, 101380356, 101348358, 1...</td>\n",
       "    </tr>\n",
       "    <tr>\n",
       "      <th>3</th>\n",
       "      <td>801346552</td>\n",
       "      <td>{101388171, 101432990, 101435683, 101384874, 1...</td>\n",
       "    </tr>\n",
       "    <tr>\n",
       "      <th>4</th>\n",
       "      <td>801346553</td>\n",
       "      <td>{101367811, 101360645, 101360904, 101357321, 1...</td>\n",
       "    </tr>\n",
       "  </tbody>\n",
       "</table>\n",
       "</div>"
      ],
      "text/plain": [
       "    group_id                                            user_id\n",
       "0  801346549                             {101370217, 101392971}\n",
       "1  801346550  {101421312, 101425664, 101354499, 101431176, 1...\n",
       "2  801346551  {101394946, 101411459, 101380356, 101348358, 1...\n",
       "3  801346552  {101388171, 101432990, 101435683, 101384874, 1...\n",
       "4  801346553  {101367811, 101360645, 101360904, 101357321, 1..."
      ]
     },
     "execution_count": 405,
     "metadata": {},
     "output_type": "execute_result"
    }
   ],
   "source": [
    "attend_raw.head()"
   ]
  },
  {
   "cell_type": "code",
   "execution_count": 406,
   "metadata": {},
   "outputs": [],
   "source": [
    "user_group = []\n",
    "for group, users in attend_raw.values:\n",
    "    for user in users:\n",
    "        a = 0\n",
    "        t = 0\n",
    "        for friend in users:\n",
    "            if friend != user:\n",
    "                if dct[user][friend] > 10:\n",
    "                    t += 1\n",
    "                a += 1\n",
    "        user_group.append((user, group, a, t))"
   ]
  },
  {
   "cell_type": "code",
   "execution_count": 407,
   "metadata": {},
   "outputs": [
    {
     "data": {
      "text/html": [
       "<div>\n",
       "<style scoped>\n",
       "    .dataframe tbody tr th:only-of-type {\n",
       "        vertical-align: middle;\n",
       "    }\n",
       "\n",
       "    .dataframe tbody tr th {\n",
       "        vertical-align: top;\n",
       "    }\n",
       "\n",
       "    .dataframe thead th {\n",
       "        text-align: right;\n",
       "    }\n",
       "</style>\n",
       "<table border=\"1\" class=\"dataframe\">\n",
       "  <thead>\n",
       "    <tr style=\"text-align: right;\">\n",
       "      <th></th>\n",
       "      <th>user_id</th>\n",
       "      <th>group_id</th>\n",
       "      <th>meet</th>\n",
       "      <th>meet10</th>\n",
       "    </tr>\n",
       "  </thead>\n",
       "  <tbody>\n",
       "    <tr>\n",
       "      <th>0</th>\n",
       "      <td>101370217</td>\n",
       "      <td>801346549</td>\n",
       "      <td>1</td>\n",
       "      <td>0</td>\n",
       "    </tr>\n",
       "    <tr>\n",
       "      <th>1</th>\n",
       "      <td>101392971</td>\n",
       "      <td>801346549</td>\n",
       "      <td>1</td>\n",
       "      <td>0</td>\n",
       "    </tr>\n",
       "    <tr>\n",
       "      <th>2</th>\n",
       "      <td>101421312</td>\n",
       "      <td>801346550</td>\n",
       "      <td>29</td>\n",
       "      <td>18</td>\n",
       "    </tr>\n",
       "    <tr>\n",
       "      <th>3</th>\n",
       "      <td>101425664</td>\n",
       "      <td>801346550</td>\n",
       "      <td>29</td>\n",
       "      <td>18</td>\n",
       "    </tr>\n",
       "    <tr>\n",
       "      <th>4</th>\n",
       "      <td>101354499</td>\n",
       "      <td>801346550</td>\n",
       "      <td>29</td>\n",
       "      <td>16</td>\n",
       "    </tr>\n",
       "    <tr>\n",
       "      <th>5</th>\n",
       "      <td>101431176</td>\n",
       "      <td>801346550</td>\n",
       "      <td>29</td>\n",
       "      <td>12</td>\n",
       "    </tr>\n",
       "    <tr>\n",
       "      <th>6</th>\n",
       "      <td>101407247</td>\n",
       "      <td>801346550</td>\n",
       "      <td>29</td>\n",
       "      <td>1</td>\n",
       "    </tr>\n",
       "    <tr>\n",
       "      <th>7</th>\n",
       "      <td>101417874</td>\n",
       "      <td>801346550</td>\n",
       "      <td>29</td>\n",
       "      <td>12</td>\n",
       "    </tr>\n",
       "    <tr>\n",
       "      <th>8</th>\n",
       "      <td>101411605</td>\n",
       "      <td>801346550</td>\n",
       "      <td>29</td>\n",
       "      <td>18</td>\n",
       "    </tr>\n",
       "    <tr>\n",
       "      <th>9</th>\n",
       "      <td>101422869</td>\n",
       "      <td>801346550</td>\n",
       "      <td>29</td>\n",
       "      <td>12</td>\n",
       "    </tr>\n",
       "  </tbody>\n",
       "</table>\n",
       "</div>"
      ],
      "text/plain": [
       "     user_id   group_id  meet  meet10\n",
       "0  101370217  801346549     1       0\n",
       "1  101392971  801346549     1       0\n",
       "2  101421312  801346550    29      18\n",
       "3  101425664  801346550    29      18\n",
       "4  101354499  801346550    29      16\n",
       "5  101431176  801346550    29      12\n",
       "6  101407247  801346550    29       1\n",
       "7  101417874  801346550    29      12\n",
       "8  101411605  801346550    29      18\n",
       "9  101422869  801346550    29      12"
      ]
     },
     "execution_count": 407,
     "metadata": {},
     "output_type": "execute_result"
    }
   ],
   "source": [
    "user_group = pd.DataFrame(user_group, columns=['user_id', 'group_id', 'meet', 'meet10'])\n",
    "\n",
    "user_group.head(10)"
   ]
  },
  {
   "cell_type": "code",
   "execution_count": 408,
   "metadata": {},
   "outputs": [],
   "source": [
    "user_group.to_csv('friends.csv', index=None)"
   ]
  },
  {
   "cell_type": "markdown",
   "metadata": {},
   "source": [
    "## Запись в базу"
   ]
  },
  {
   "cell_type": "code",
   "execution_count": 45,
   "metadata": {},
   "outputs": [
    {
     "data": {
      "text/html": [
       "<div>\n",
       "<style scoped>\n",
       "    .dataframe tbody tr th:only-of-type {\n",
       "        vertical-align: middle;\n",
       "    }\n",
       "\n",
       "    .dataframe tbody tr th {\n",
       "        vertical-align: top;\n",
       "    }\n",
       "\n",
       "    .dataframe thead th {\n",
       "        text-align: right;\n",
       "    }\n",
       "</style>\n",
       "<table border=\"1\" class=\"dataframe\">\n",
       "  <thead>\n",
       "    <tr style=\"text-align: right;\">\n",
       "      <th></th>\n",
       "      <th>category3_id</th>\n",
       "      <th>qt</th>\n",
       "      <th>n_visits</th>\n",
       "    </tr>\n",
       "  </thead>\n",
       "  <tbody>\n",
       "    <tr>\n",
       "      <th>0</th>\n",
       "      <td>102</td>\n",
       "      <td>2</td>\n",
       "      <td>1.0</td>\n",
       "    </tr>\n",
       "    <tr>\n",
       "      <th>1</th>\n",
       "      <td>102</td>\n",
       "      <td>3</td>\n",
       "      <td>4.0</td>\n",
       "    </tr>\n",
       "    <tr>\n",
       "      <th>2</th>\n",
       "      <td>102</td>\n",
       "      <td>4</td>\n",
       "      <td>10.0</td>\n",
       "    </tr>\n",
       "    <tr>\n",
       "      <th>3</th>\n",
       "      <td>102</td>\n",
       "      <td>5</td>\n",
       "      <td>24.0</td>\n",
       "    </tr>\n",
       "    <tr>\n",
       "      <th>4</th>\n",
       "      <td>102</td>\n",
       "      <td>6</td>\n",
       "      <td>27.0</td>\n",
       "    </tr>\n",
       "  </tbody>\n",
       "</table>\n",
       "</div>"
      ],
      "text/plain": [
       "   category3_id  qt  n_visits\n",
       "0           102   2       1.0\n",
       "1           102   3       4.0\n",
       "2           102   4      10.0\n",
       "3           102   5      24.0\n",
       "4           102   6      27.0"
      ]
     },
     "execution_count": 45,
     "metadata": {},
     "output_type": "execute_result"
    }
   ],
   "source": [
    "data = pd.read_csv('./category_quantiles.csv')\n",
    "data.head()"
   ]
  },
  {
   "cell_type": "code",
   "execution_count": 46,
   "metadata": {},
   "outputs": [],
   "source": [
    "cursor = db.cursor()"
   ]
  },
  {
   "cell_type": "code",
   "execution_count": 342,
   "metadata": {},
   "outputs": [],
   "source": [
    "cursor.execute(\"\"\"\n",
    "CREATE TABLE category_quantiles (\n",
    "    category3_id INTEGER, \n",
    "    qt INTEGER, \n",
    "    n_visits INTEGER, \n",
    "    PRIMARY KEY (category3_id, qt)\n",
    ")\n",
    "\"\"\")\n",
    "db.commit()"
   ]
  },
  {
   "cell_type": "code",
   "execution_count": 47,
   "metadata": {},
   "outputs": [
    {
     "data": {
      "text/plain": [
       "2189"
      ]
     },
     "execution_count": 47,
     "metadata": {},
     "output_type": "execute_result"
    }
   ],
   "source": [
    "data.to_sql('category_quantiles', con=db, index=None, if_exists='replace')"
   ]
  },
  {
   "cell_type": "code",
   "execution_count": 48,
   "metadata": {},
   "outputs": [
    {
     "data": {
      "text/html": [
       "<div>\n",
       "<style scoped>\n",
       "    .dataframe tbody tr th:only-of-type {\n",
       "        vertical-align: middle;\n",
       "    }\n",
       "\n",
       "    .dataframe tbody tr th {\n",
       "        vertical-align: top;\n",
       "    }\n",
       "\n",
       "    .dataframe thead th {\n",
       "        text-align: right;\n",
       "    }\n",
       "</style>\n",
       "<table border=\"1\" class=\"dataframe\">\n",
       "  <thead>\n",
       "    <tr style=\"text-align: right;\">\n",
       "      <th></th>\n",
       "      <th>category3_id</th>\n",
       "      <th>n_days_max</th>\n",
       "    </tr>\n",
       "  </thead>\n",
       "  <tbody>\n",
       "    <tr>\n",
       "      <th>0</th>\n",
       "      <td>102</td>\n",
       "      <td>21</td>\n",
       "    </tr>\n",
       "    <tr>\n",
       "      <th>1</th>\n",
       "      <td>104</td>\n",
       "      <td>16</td>\n",
       "    </tr>\n",
       "    <tr>\n",
       "      <th>2</th>\n",
       "      <td>111</td>\n",
       "      <td>12</td>\n",
       "    </tr>\n",
       "    <tr>\n",
       "      <th>3</th>\n",
       "      <td>112</td>\n",
       "      <td>16</td>\n",
       "    </tr>\n",
       "    <tr>\n",
       "      <th>4</th>\n",
       "      <td>114</td>\n",
       "      <td>19</td>\n",
       "    </tr>\n",
       "  </tbody>\n",
       "</table>\n",
       "</div>"
      ],
      "text/plain": [
       "   category3_id  n_days_max\n",
       "0           102          21\n",
       "1           104          16\n",
       "2           111          12\n",
       "3           112          16\n",
       "4           114          19"
      ]
     },
     "execution_count": 48,
     "metadata": {},
     "output_type": "execute_result"
    }
   ],
   "source": [
    "data = pd.read_csv('./likely_come_back_days.csv')\n",
    "data.columns = ['category3_id', 'n_days_max']\n",
    "data.head()"
   ]
  },
  {
   "cell_type": "code",
   "execution_count": null,
   "metadata": {},
   "outputs": [],
   "source": [
    "cursor.execute(\"\"\"\n",
    "CREATE TABLE no_activity_limit (\n",
    "    category3_id INTEGER, \n",
    "    n_days_max INTEGER, \n",
    "    PRIMARY KEY (category3_id)\n",
    ")\n",
    "\"\"\")\n",
    "db.commit()"
   ]
  },
  {
   "cell_type": "code",
   "execution_count": 50,
   "metadata": {},
   "outputs": [
    {
     "data": {
      "text/plain": [
       "246"
      ]
     },
     "execution_count": 50,
     "metadata": {},
     "output_type": "execute_result"
    }
   ],
   "source": [
    "data.to_sql('no_activity_limit', con=db, index=None, if_exists='replace')"
   ]
  },
  {
   "cell_type": "code",
   "execution_count": 51,
   "metadata": {},
   "outputs": [
    {
     "data": {
      "text/html": [
       "<div>\n",
       "<style scoped>\n",
       "    .dataframe tbody tr th:only-of-type {\n",
       "        vertical-align: middle;\n",
       "    }\n",
       "\n",
       "    .dataframe tbody tr th {\n",
       "        vertical-align: top;\n",
       "    }\n",
       "\n",
       "    .dataframe thead th {\n",
       "        text-align: right;\n",
       "    }\n",
       "</style>\n",
       "<table border=\"1\" class=\"dataframe\">\n",
       "  <thead>\n",
       "    <tr style=\"text-align: right;\">\n",
       "      <th></th>\n",
       "      <th>user_id</th>\n",
       "      <th>category3_id</th>\n",
       "      <th>user_quantile</th>\n",
       "    </tr>\n",
       "  </thead>\n",
       "  <tbody>\n",
       "    <tr>\n",
       "      <th>0</th>\n",
       "      <td>101346549</td>\n",
       "      <td>114</td>\n",
       "      <td>2</td>\n",
       "    </tr>\n",
       "    <tr>\n",
       "      <th>1</th>\n",
       "      <td>101346558</td>\n",
       "      <td>114</td>\n",
       "      <td>4</td>\n",
       "    </tr>\n",
       "    <tr>\n",
       "      <th>2</th>\n",
       "      <td>101346581</td>\n",
       "      <td>114</td>\n",
       "      <td>2</td>\n",
       "    </tr>\n",
       "    <tr>\n",
       "      <th>3</th>\n",
       "      <td>101346596</td>\n",
       "      <td>114</td>\n",
       "      <td>4</td>\n",
       "    </tr>\n",
       "    <tr>\n",
       "      <th>4</th>\n",
       "      <td>101346601</td>\n",
       "      <td>114</td>\n",
       "      <td>2</td>\n",
       "    </tr>\n",
       "  </tbody>\n",
       "</table>\n",
       "</div>"
      ],
      "text/plain": [
       "     user_id  category3_id  user_quantile\n",
       "0  101346549           114              2\n",
       "1  101346558           114              4\n",
       "2  101346581           114              2\n",
       "3  101346596           114              4\n",
       "4  101346601           114              2"
      ]
     },
     "execution_count": 51,
     "metadata": {},
     "output_type": "execute_result"
    }
   ],
   "source": [
    "data = pd.read_csv('./user_cat_quantile.csv')\n",
    "data.columns = ['user_id', 'category3_id', 'user_quantile']\n",
    "data.head()"
   ]
  },
  {
   "cell_type": "code",
   "execution_count": null,
   "metadata": {},
   "outputs": [],
   "source": [
    "cursor.execute(\"\"\"\n",
    "CREATE TABLE user_category_quantile (\n",
    "    user_id INTEGER, \n",
    "    category3_id INTEGER, \n",
    "    user_quantile INTEGER, \n",
    "    PRIMARY KEY (user_id, category3_id)\n",
    ")\n",
    "\"\"\")\n",
    "db.commit()"
   ]
  },
  {
   "cell_type": "code",
   "execution_count": 53,
   "metadata": {},
   "outputs": [
    {
     "data": {
      "text/plain": [
       "279496"
      ]
     },
     "execution_count": 53,
     "metadata": {},
     "output_type": "execute_result"
    }
   ],
   "source": [
    "data.to_sql('user_category_quantile', con=db, index=None, if_exists='replace')"
   ]
  },
  {
   "cell_type": "code",
   "execution_count": 382,
   "metadata": {},
   "outputs": [],
   "source": [
    "cursor.execute(\"\"\"\n",
    "CREATE TABLE friends (\n",
    "    user_id INTEGER, \n",
    "    group_id INTEGER, \n",
    "    meet INTEGER, \n",
    "    meet10 INTEGER,\n",
    "    PRIMARY KEY (user_id, group_id)\n",
    ")\n",
    "\"\"\")\n",
    "db.commit()"
   ]
  },
  {
   "cell_type": "code",
   "execution_count": 409,
   "metadata": {},
   "outputs": [
    {
     "data": {
      "text/html": [
       "<div>\n",
       "<style scoped>\n",
       "    .dataframe tbody tr th:only-of-type {\n",
       "        vertical-align: middle;\n",
       "    }\n",
       "\n",
       "    .dataframe tbody tr th {\n",
       "        vertical-align: top;\n",
       "    }\n",
       "\n",
       "    .dataframe thead th {\n",
       "        text-align: right;\n",
       "    }\n",
       "</style>\n",
       "<table border=\"1\" class=\"dataframe\">\n",
       "  <thead>\n",
       "    <tr style=\"text-align: right;\">\n",
       "      <th></th>\n",
       "      <th>user_id</th>\n",
       "      <th>group_id</th>\n",
       "      <th>meet</th>\n",
       "      <th>meet10</th>\n",
       "    </tr>\n",
       "  </thead>\n",
       "  <tbody>\n",
       "    <tr>\n",
       "      <th>0</th>\n",
       "      <td>101370217</td>\n",
       "      <td>801346549</td>\n",
       "      <td>1</td>\n",
       "      <td>0</td>\n",
       "    </tr>\n",
       "    <tr>\n",
       "      <th>1</th>\n",
       "      <td>101392971</td>\n",
       "      <td>801346549</td>\n",
       "      <td>1</td>\n",
       "      <td>0</td>\n",
       "    </tr>\n",
       "    <tr>\n",
       "      <th>2</th>\n",
       "      <td>101421312</td>\n",
       "      <td>801346550</td>\n",
       "      <td>29</td>\n",
       "      <td>18</td>\n",
       "    </tr>\n",
       "    <tr>\n",
       "      <th>3</th>\n",
       "      <td>101425664</td>\n",
       "      <td>801346550</td>\n",
       "      <td>29</td>\n",
       "      <td>18</td>\n",
       "    </tr>\n",
       "    <tr>\n",
       "      <th>4</th>\n",
       "      <td>101354499</td>\n",
       "      <td>801346550</td>\n",
       "      <td>29</td>\n",
       "      <td>16</td>\n",
       "    </tr>\n",
       "  </tbody>\n",
       "</table>\n",
       "</div>"
      ],
      "text/plain": [
       "     user_id   group_id  meet  meet10\n",
       "0  101370217  801346549     1       0\n",
       "1  101392971  801346549     1       0\n",
       "2  101421312  801346550    29      18\n",
       "3  101425664  801346550    29      18\n",
       "4  101354499  801346550    29      16"
      ]
     },
     "execution_count": 409,
     "metadata": {},
     "output_type": "execute_result"
    }
   ],
   "source": [
    "data = pd.read_csv('./friends.csv')\n",
    "data.head()"
   ]
  },
  {
   "cell_type": "code",
   "execution_count": 410,
   "metadata": {},
   "outputs": [
    {
     "data": {
      "text/plain": [
       "598087"
      ]
     },
     "execution_count": 410,
     "metadata": {},
     "output_type": "execute_result"
    }
   ],
   "source": [
    "data.to_sql('friends', con=db, index=None, if_exists='replace')"
   ]
  }
 ],
 "metadata": {
  "kernelspec": {
   "display_name": "Python 3",
   "language": "python",
   "name": "python3"
  },
  "language_info": {
   "codemirror_mode": {
    "name": "ipython",
    "version": 3
   },
   "file_extension": ".py",
   "mimetype": "text/x-python",
   "name": "python",
   "nbconvert_exporter": "python",
   "pygments_lexer": "ipython3",
   "version": "3.8.10"
  }
 },
 "nbformat": 4,
 "nbformat_minor": 4
}
