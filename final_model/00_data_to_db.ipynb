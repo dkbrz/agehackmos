{
 "cells": [
  {
   "cell_type": "code",
   "execution_count": 1,
   "metadata": {},
   "outputs": [],
   "source": [
    "import sqlite3\n",
    "\n",
    "import pandas as pd\n",
    "import numpy as np\n",
    "from tqdm.auto import tqdm\n",
    "import seaborn as sns\n",
    "import matplotlib.pyplot as plt"
   ]
  },
  {
   "cell_type": "code",
   "execution_count": 2,
   "metadata": {},
   "outputs": [
    {
     "data": {
      "text/html": [
       "<div>\n",
       "<style scoped>\n",
       "    .dataframe tbody tr th:only-of-type {\n",
       "        vertical-align: middle;\n",
       "    }\n",
       "\n",
       "    .dataframe tbody tr th {\n",
       "        vertical-align: top;\n",
       "    }\n",
       "\n",
       "    .dataframe thead th {\n",
       "        text-align: right;\n",
       "    }\n",
       "</style>\n",
       "<table border=\"1\" class=\"dataframe\">\n",
       "  <thead>\n",
       "    <tr style=\"text-align: right;\">\n",
       "      <th></th>\n",
       "      <th>category1_id</th>\n",
       "      <th>category2_id</th>\n",
       "      <th>category3_id</th>\n",
       "      <th>category1_name</th>\n",
       "      <th>category2_name</th>\n",
       "      <th>category3_name</th>\n",
       "      <th>category</th>\n",
       "    </tr>\n",
       "  </thead>\n",
       "  <tbody>\n",
       "    <tr>\n",
       "      <th>0</th>\n",
       "      <td>649</td>\n",
       "      <td>651</td>\n",
       "      <td>1043</td>\n",
       "      <td>Игры</td>\n",
       "      <td>Интеллектуальные игры</td>\n",
       "      <td>Брейн-ринг</td>\n",
       "      <td>Для ума</td>\n",
       "    </tr>\n",
       "    <tr>\n",
       "      <th>1</th>\n",
       "      <td>649</td>\n",
       "      <td>651</td>\n",
       "      <td>1040</td>\n",
       "      <td>Игры</td>\n",
       "      <td>Интеллектуальные игры</td>\n",
       "      <td>Викторины</td>\n",
       "      <td>Для ума</td>\n",
       "    </tr>\n",
       "    <tr>\n",
       "      <th>2</th>\n",
       "      <td>649</td>\n",
       "      <td>651</td>\n",
       "      <td>1042</td>\n",
       "      <td>Игры</td>\n",
       "      <td>Интеллектуальные игры</td>\n",
       "      <td>Иные интеллектуальные игры</td>\n",
       "      <td>Для ума</td>\n",
       "    </tr>\n",
       "    <tr>\n",
       "      <th>3</th>\n",
       "      <td>649</td>\n",
       "      <td>651</td>\n",
       "      <td>1041</td>\n",
       "      <td>Игры</td>\n",
       "      <td>Интеллектуальные игры</td>\n",
       "      <td>Квест</td>\n",
       "      <td>Для ума</td>\n",
       "    </tr>\n",
       "    <tr>\n",
       "      <th>4</th>\n",
       "      <td>649</td>\n",
       "      <td>650</td>\n",
       "      <td>516</td>\n",
       "      <td>Игры</td>\n",
       "      <td>Настольные игры</td>\n",
       "      <td>Иные настольные игры</td>\n",
       "      <td>Для ума</td>\n",
       "    </tr>\n",
       "  </tbody>\n",
       "</table>\n",
       "</div>"
      ],
      "text/plain": [
       "   category1_id  category2_id  category3_id category1_name   \n",
       "0           649           651          1043           Игры  \\\n",
       "1           649           651          1040           Игры   \n",
       "2           649           651          1042           Игры   \n",
       "3           649           651          1041           Игры   \n",
       "4           649           650           516           Игры   \n",
       "\n",
       "          category2_name              category3_name category  \n",
       "0  Интеллектуальные игры                  Брейн-ринг  Для ума  \n",
       "1  Интеллектуальные игры                   Викторины  Для ума  \n",
       "2  Интеллектуальные игры  Иные интеллектуальные игры  Для ума  \n",
       "3  Интеллектуальные игры                       Квест  Для ума  \n",
       "4        Настольные игры        Иные настольные игры  Для ума  "
      ]
     },
     "execution_count": 2,
     "metadata": {},
     "output_type": "execute_result"
    }
   ],
   "source": [
    "db = sqlite3.connect('../raw_db.db')\n",
    "\n",
    "dct = pd.read_csv('../data/dict.csv').drop('Unnamed: 0', axis=1)\n",
    "\n",
    "dct.columns = [\n",
    "        'category1_id'\n",
    "        , 'category2_id'\n",
    "        , 'category3_id'\n",
    "        , 'category1_name'\n",
    "        , 'category2_name'\n",
    "        , 'category3_name'\n",
    "        , 'category'\n",
    "]\n",
    "\n",
    "dct.head()"
   ]
  },
  {
   "cell_type": "code",
   "execution_count": 3,
   "metadata": {},
   "outputs": [],
   "source": [
    "db2 = sqlite3.connect('../app/app.db')\n",
    "cursor = db2.cursor()"
   ]
  },
  {
   "cell_type": "code",
   "execution_count": 10,
   "metadata": {},
   "outputs": [],
   "source": [
    "cursor.execute(\"\"\"\n",
    "CREATE TABLE categories (\n",
    "    category1_id INTEGER, \n",
    "    category2_id INTEGER, \n",
    "    category3_id INTEGER, \n",
    "    category1_name TEXT, \n",
    "    category2_name TEXT, \n",
    "    category3_name TEXT, \n",
    "    category TEXT,\n",
    "    PRIMARY KEY (category3_id)\n",
    ")\n",
    "\"\"\")\n",
    "db2.commit()"
   ]
  },
  {
   "cell_type": "code",
   "execution_count": 11,
   "metadata": {},
   "outputs": [
    {
     "data": {
      "text/plain": [
       "484"
      ]
     },
     "execution_count": 11,
     "metadata": {},
     "output_type": "execute_result"
    }
   ],
   "source": [
    "dct.to_sql('categories', if_exists='append', con=db2, index=False)"
   ]
  },
  {
   "cell_type": "code",
   "execution_count": 15,
   "metadata": {},
   "outputs": [],
   "source": [
    "attend = pd.read_sql(\"\"\"\n",
    "SELECT \n",
    "    attend.group_id as group_id\n",
    "    , category3_id\n",
    "    , user_id\n",
    "    , min(event_date) as start_date\n",
    "    , max(event_date) as finish_date\n",
    "    , count(user_id) as n_visits\n",
    "FROM attend\n",
    "LEFT JOIN groups ON attend.group_id = groups.group_id\n",
    "WHERE category3_id IS NOT NULL\n",
    "GROUP BY attend.group_id, category3_id, user_id\n",
    "\"\"\", con=db)"
   ]
  },
  {
   "cell_type": "code",
   "execution_count": 18,
   "metadata": {},
   "outputs": [
    {
     "data": {
      "text/html": [
       "<div>\n",
       "<style scoped>\n",
       "    .dataframe tbody tr th:only-of-type {\n",
       "        vertical-align: middle;\n",
       "    }\n",
       "\n",
       "    .dataframe tbody tr th {\n",
       "        vertical-align: top;\n",
       "    }\n",
       "\n",
       "    .dataframe thead th {\n",
       "        text-align: right;\n",
       "    }\n",
       "</style>\n",
       "<table border=\"1\" class=\"dataframe\">\n",
       "  <thead>\n",
       "    <tr style=\"text-align: right;\">\n",
       "      <th></th>\n",
       "      <th>group_id</th>\n",
       "      <th>category3_id</th>\n",
       "      <th>user_id</th>\n",
       "      <th>start_date</th>\n",
       "      <th>finish_date</th>\n",
       "      <th>n_visits</th>\n",
       "    </tr>\n",
       "  </thead>\n",
       "  <tbody>\n",
       "    <tr>\n",
       "      <th>0</th>\n",
       "      <td>801346549</td>\n",
       "      <td>131</td>\n",
       "      <td>101370217</td>\n",
       "      <td>2022-12-05</td>\n",
       "      <td>2022-12-28</td>\n",
       "      <td>8</td>\n",
       "    </tr>\n",
       "    <tr>\n",
       "      <th>1</th>\n",
       "      <td>801346549</td>\n",
       "      <td>131</td>\n",
       "      <td>101375025</td>\n",
       "      <td>2022-09-14</td>\n",
       "      <td>2022-11-23</td>\n",
       "      <td>21</td>\n",
       "    </tr>\n",
       "    <tr>\n",
       "      <th>2</th>\n",
       "      <td>801346549</td>\n",
       "      <td>131</td>\n",
       "      <td>101392971</td>\n",
       "      <td>2022-12-28</td>\n",
       "      <td>2022-12-28</td>\n",
       "      <td>1</td>\n",
       "    </tr>\n",
       "    <tr>\n",
       "      <th>3</th>\n",
       "      <td>801346550</td>\n",
       "      <td>120</td>\n",
       "      <td>101352023</td>\n",
       "      <td>2022-04-04</td>\n",
       "      <td>2022-12-26</td>\n",
       "      <td>64</td>\n",
       "    </tr>\n",
       "    <tr>\n",
       "      <th>4</th>\n",
       "      <td>801346550</td>\n",
       "      <td>120</td>\n",
       "      <td>101354499</td>\n",
       "      <td>2022-04-18</td>\n",
       "      <td>2022-12-28</td>\n",
       "      <td>64</td>\n",
       "    </tr>\n",
       "  </tbody>\n",
       "</table>\n",
       "</div>"
      ],
      "text/plain": [
       "    group_id  category3_id    user_id  start_date finish_date  n_visits\n",
       "0  801346549           131  101370217  2022-12-05  2022-12-28         8\n",
       "1  801346549           131  101375025  2022-09-14  2022-11-23        21\n",
       "2  801346549           131  101392971  2022-12-28  2022-12-28         1\n",
       "3  801346550           120  101352023  2022-04-04  2022-12-26        64\n",
       "4  801346550           120  101354499  2022-04-18  2022-12-28        64"
      ]
     },
     "execution_count": 18,
     "metadata": {},
     "output_type": "execute_result"
    }
   ],
   "source": [
    "attend.head()"
   ]
  },
  {
   "cell_type": "code",
   "execution_count": 19,
   "metadata": {},
   "outputs": [],
   "source": [
    "cursor.execute(\"\"\"\n",
    "CREATE TABLE attend_history (\n",
    "    group_id INTEGER, \n",
    "    category3_id INTEGER, \n",
    "    user_id INTEGER, \n",
    "    start_date TEXT, \n",
    "    finish_date TEXT, \n",
    "    n_visits INTEGER, \n",
    "    PRIMARY KEY (user_id, group_id)\n",
    ")\n",
    "\"\"\")\n",
    "db2.commit()"
   ]
  },
  {
   "cell_type": "code",
   "execution_count": 20,
   "metadata": {},
   "outputs": [
    {
     "data": {
      "text/plain": [
       "600185"
      ]
     },
     "execution_count": 20,
     "metadata": {},
     "output_type": "execute_result"
    }
   ],
   "source": [
    "attend.to_sql('attend_history', if_exists='append', con=db2, index=False)"
   ]
  },
  {
   "cell_type": "code",
   "execution_count": 23,
   "metadata": {},
   "outputs": [],
   "source": [
    "group_locations = pd.read_sql(\"\"\"\n",
    "SELECT DISTINCT group_id, district_id as g_district, zone_id as g_zone, coalesce(code, 0) as g_postal_code\n",
    "FROM group_locations\n",
    "\"\"\", con=db)"
   ]
  },
  {
   "cell_type": "code",
   "execution_count": 28,
   "metadata": {},
   "outputs": [],
   "source": [
    "cursor.execute(\"\"\"\n",
    "CREATE TABLE group_locations (\n",
    "    group_id INTEGER, \n",
    "    g_district INTEGER, \n",
    "    g_zone INTEGER, \n",
    "    g_postal_code INTEGER, \n",
    "    PRIMARY KEY (group_id, g_district, g_zone, g_postal_code)\n",
    ")\n",
    "\"\"\")\n",
    "db2.commit()"
   ]
  },
  {
   "cell_type": "code",
   "execution_count": 29,
   "metadata": {},
   "outputs": [
    {
     "data": {
      "text/plain": [
       "19624"
      ]
     },
     "execution_count": 29,
     "metadata": {},
     "output_type": "execute_result"
    }
   ],
   "source": [
    "group_locations.to_sql('group_locations', if_exists='append', con=db2, index=False)"
   ]
  },
  {
   "cell_type": "code",
   "execution_count": 47,
   "metadata": {},
   "outputs": [],
   "source": [
    "group_timetable = pd.read_sql(\"\"\"\n",
    "SELECT group_id \n",
    "    , start_date\n",
    "    , finish_date\n",
    "    , weekday\n",
    "    , start_time\n",
    "FROM group_timetable\n",
    "WHERE finish_date >= '2023-03-01'\n",
    "\"\"\", con=db)"
   ]
  },
  {
   "cell_type": "code",
   "execution_count": 48,
   "metadata": {},
   "outputs": [],
   "source": [
    "group_timetable = group_timetable.pivot_table(\n",
    "    index=['group_id', 'start_date', 'finish_date']\n",
    "    , columns='weekday'\n",
    "    , values='start_time'\n",
    ").fillna(0).astype('int8').reset_index().sort_values(by=['group_id', 'start_date', 'finish_date'])"
   ]
  },
  {
   "cell_type": "code",
   "execution_count": 53,
   "metadata": {},
   "outputs": [],
   "source": [
    "group_timetable.columns = [\n",
    "    'group_id', 'start_date', 'finish_date', \n",
    "    'monday', 'tuesday', 'wednesday', 'thursday', 'friday', 'saturday', 'sunday']"
   ]
  },
  {
   "cell_type": "code",
   "execution_count": 50,
   "metadata": {},
   "outputs": [],
   "source": [
    "cursor.execute(\"\"\"\n",
    "CREATE TABLE group_timetable (\n",
    "    group_id INTEGER, \n",
    "    start_date TEXT, \n",
    "    finish_date TEXT, \n",
    "    monday INTEGER, \n",
    "    tuesday INTEGER, \n",
    "    wednesday INTEGER, \n",
    "    thursday INTEGER, \n",
    "    friday INTEGER, \n",
    "    saturday INTEGER, \n",
    "    sunday INTEGER, \n",
    "    PRIMARY KEY (group_id, start_date, finish_date)\n",
    ")\n",
    "\"\"\")\n",
    "db2.commit()"
   ]
  },
  {
   "cell_type": "code",
   "execution_count": 54,
   "metadata": {},
   "outputs": [
    {
     "data": {
      "text/plain": [
       "15065"
      ]
     },
     "execution_count": 54,
     "metadata": {},
     "output_type": "execute_result"
    }
   ],
   "source": [
    "group_timetable.to_sql('group_timetable', if_exists='append', con=db2, index=False)"
   ]
  },
  {
   "cell_type": "code",
   "execution_count": 59,
   "metadata": {},
   "outputs": [],
   "source": [
    "users = pd.read_sql_query(\"\"\"\n",
    "    SELECT \n",
    "        user_id\n",
    "        , is_woman \n",
    "        , CAST((julianday('2023-03-01') - julianday(date_of_birth)) / 365 / 10 AS INT) * 10 as age_group\n",
    "        , coalesce(postal_code, 0) as u_postal\n",
    "    FROM users\n",
    "\"\"\", con=db)"
   ]
  },
  {
   "cell_type": "code",
   "execution_count": 57,
   "metadata": {},
   "outputs": [],
   "source": [
    "cursor.execute(\"\"\"\n",
    "CREATE TABLE users (\n",
    "    user_id INTEGER, \n",
    "    is_woman INTEGER, \n",
    "    age_group INTEGER, \n",
    "    u_postal INTEGER, \n",
    "    PRIMARY KEY (user_id)\n",
    ")\n",
    "\"\"\")\n",
    "db2.commit()"
   ]
  },
  {
   "cell_type": "code",
   "execution_count": 60,
   "metadata": {},
   "outputs": [
    {
     "data": {
      "text/plain": [
       "52334"
      ]
     },
     "execution_count": 60,
     "metadata": {},
     "output_type": "execute_result"
    }
   ],
   "source": [
    "users.to_sql('users', if_exists='append', con=db2, index=False)"
   ]
  },
  {
   "cell_type": "code",
   "execution_count": 66,
   "metadata": {},
   "outputs": [],
   "source": [
    "groups = pd.read_sql(\"\"\"\n",
    "SELECT \n",
    "    groups.group_id \n",
    "    , category3_id\n",
    "    , is_online\n",
    "    , is_available\n",
    "    , is_dead\n",
    "    , ends_soon\n",
    "    , address\n",
    "FROM groups\n",
    "LEFT JOIN (\n",
    "    SELECT \n",
    "        group_id\n",
    "        , max(finish_date) > '2023-03-01' AND sum(start_date < '2023-05-01') > 0 as is_available \n",
    "        , max(finish_date) > '2023-03-01' AND max(finish_date) < '2023-03-15' as ends_soon\n",
    "        , max(finish_date) < '2023-03-01' as is_dead\n",
    "    FROM group_timetable\n",
    "    GROUP BY group_id\n",
    ") ava ON groups.group_id = ava.group_id\n",
    "\"\"\", con=db).fillna(0)"
   ]
  },
  {
   "cell_type": "code",
   "execution_count": 65,
   "metadata": {},
   "outputs": [],
   "source": [
    "cursor.execute(\"\"\"\n",
    "CREATE TABLE groups (\n",
    "    group_id INTEGER, \n",
    "    category3_id INTEGER, \n",
    "    is_online INTEGER, \n",
    "    is_available INTEGER, \n",
    "    is_dead INTEGER, \n",
    "    ends_soon INTEGER, \n",
    "    address TEXT,\n",
    "    PRIMARY KEY (group_id)\n",
    ")\n",
    "\"\"\")\n",
    "db2.commit()"
   ]
  },
  {
   "cell_type": "code",
   "execution_count": 69,
   "metadata": {},
   "outputs": [
    {
     "data": {
      "text/plain": [
       "27001"
      ]
     },
     "execution_count": 69,
     "metadata": {},
     "output_type": "execute_result"
    }
   ],
   "source": [
    "groups.to_sql('groups', if_exists='append', con=db2, index=False)"
   ]
  },
  {
   "cell_type": "markdown",
   "metadata": {},
   "source": [
    "## Веса по категориям"
   ]
  },
  {
   "cell_type": "code",
   "execution_count": 70,
   "metadata": {},
   "outputs": [],
   "source": [
    "group_user_stats = pd.read_sql(\"\"\"\n",
    "    SELECT \n",
    "        group_id\n",
    "        , attend.user_id as user_id\n",
    "        , count(event_id) as n\n",
    "        , postal_code\n",
    "        , max(is_woman) as is_woman\n",
    "        , (julianday('2023-03-01') - julianday(date_of_birth)) / 365 as age\n",
    "    FROM attend\n",
    "    LEFT JOIN users u ON u.user_id = attend.user_id\n",
    "    GROUP BY group_id, attend.user_id\n",
    "\"\"\", con=db)\n",
    "\n",
    "group_info = pd.read_sql(\"\"\"\n",
    "    SELECT group_id, category1_id, category2_id, category3_id, is_online, is_mobile\n",
    "    FROM groups\n",
    "\"\"\", con=db).dropna().astype(int) # (0)\n",
    "\n",
    "group_user_stats = group_user_stats.merge(group_info)"
   ]
  },
  {
   "cell_type": "code",
   "execution_count": 71,
   "metadata": {},
   "outputs": [],
   "source": [
    "cat3_user = group_user_stats.groupby(['category3_id', 'user_id'], as_index=False).agg({'n': 'sum'})"
   ]
  },
  {
   "cell_type": "code",
   "execution_count": 72,
   "metadata": {},
   "outputs": [
    {
     "data": {
      "text/plain": [
       "293"
      ]
     },
     "execution_count": 72,
     "metadata": {},
     "output_type": "execute_result"
    }
   ],
   "source": [
    "cat3_user['category3_id'].nunique()"
   ]
  },
  {
   "cell_type": "code",
   "execution_count": 101,
   "metadata": {},
   "outputs": [],
   "source": [
    "from collections import defaultdict\n",
    "from itertools import combinations\n",
    "from math import log2"
   ]
  },
  {
   "cell_type": "code",
   "execution_count": 102,
   "metadata": {},
   "outputs": [
    {
     "data": {
      "application/vnd.jupyter.widget-view+json": {
       "model_id": "a5466fedc5fc45f697125b980b9719e5",
       "version_major": 2,
       "version_minor": 0
      },
      "text/plain": [
       "  0%|          | 0/50904 [00:00<?, ?it/s]"
      ]
     },
     "metadata": {},
     "output_type": "display_data"
    }
   ],
   "source": [
    "pairwise_dict = defaultdict(lambda: defaultdict(int))\n",
    "uni_dict = defaultdict(int)\n",
    "\n",
    "for row in tqdm(cat3_user.groupby('user_id').agg({'category3_id': list})['category3_id'].values):\n",
    "    for (i, j) in combinations(row, 2):\n",
    "        pairwise_dict[i][j] += 1\n",
    "        pairwise_dict[j][i] += 1\n",
    "        uni_dict[i] += 1\n",
    "        uni_dict[j] += 1"
   ]
  },
  {
   "cell_type": "code",
   "execution_count": 103,
   "metadata": {},
   "outputs": [],
   "source": [
    "result_dict = defaultdict(dict)\n",
    "for i in pairwise_dict:\n",
    "    for j in pairwise_dict[i]:\n",
    "#         result_dict[i][j] = 50 + log2(pairwise_dict[i][j] * 2 / (uni_dict[i] + uni_dict[j]))\n",
    "        result_dict[i][j] = np.log2(1 + pairwise_dict[i][j] / uni_dict[i] * pairwise_dict[j][i] / uni_dict[j] * 1000000)"
   ]
  },
  {
   "cell_type": "code",
   "execution_count": 104,
   "metadata": {},
   "outputs": [],
   "source": [
    "result_flat = []\n",
    "\n",
    "for i in result_dict:\n",
    "    for j in result_dict[i]:\n",
    "        result_flat.append((i, j, round(result_dict[i][j], 5)))"
   ]
  },
  {
   "cell_type": "code",
   "execution_count": 105,
   "metadata": {},
   "outputs": [],
   "source": [
    "cat3_similarity = pd.DataFrame(result_flat, columns=['category_in', 'category_out', 'similarity'])#\n",
    "cat3_similarity = cat3_similarity.sort_values(by=['category_in', 'similarity'], ascending=[True, False])\n",
    "cat3_similarity['rank_cat'] = cat3_similarity.groupby(['category_in'])['similarity'].transform('rank', ascending=False)\n",
    "cat3_similarity = cat3_similarity.sort_values(by=['category_in', 'rank_cat'], ascending=True)"
   ]
  },
  {
   "cell_type": "code",
   "execution_count": 106,
   "metadata": {},
   "outputs": [
    {
     "data": {
      "text/html": [
       "<div>\n",
       "<style scoped>\n",
       "    .dataframe tbody tr th:only-of-type {\n",
       "        vertical-align: middle;\n",
       "    }\n",
       "\n",
       "    .dataframe tbody tr th {\n",
       "        vertical-align: top;\n",
       "    }\n",
       "\n",
       "    .dataframe thead th {\n",
       "        text-align: right;\n",
       "    }\n",
       "</style>\n",
       "<table border=\"1\" class=\"dataframe\">\n",
       "  <thead>\n",
       "    <tr style=\"text-align: right;\">\n",
       "      <th></th>\n",
       "      <th>category_in</th>\n",
       "      <th>category_out</th>\n",
       "      <th>similarity</th>\n",
       "      <th>rank_cat</th>\n",
       "    </tr>\n",
       "  </thead>\n",
       "  <tbody>\n",
       "    <tr>\n",
       "      <th>29241</th>\n",
       "      <td>102</td>\n",
       "      <td>492</td>\n",
       "      <td>7.98489</td>\n",
       "      <td>1.0</td>\n",
       "    </tr>\n",
       "    <tr>\n",
       "      <th>29270</th>\n",
       "      <td>102</td>\n",
       "      <td>151</td>\n",
       "      <td>7.82190</td>\n",
       "      <td>2.0</td>\n",
       "    </tr>\n",
       "    <tr>\n",
       "      <th>29307</th>\n",
       "      <td>102</td>\n",
       "      <td>458</td>\n",
       "      <td>7.72980</td>\n",
       "      <td>3.0</td>\n",
       "    </tr>\n",
       "    <tr>\n",
       "      <th>29271</th>\n",
       "      <td>102</td>\n",
       "      <td>470</td>\n",
       "      <td>6.82812</td>\n",
       "      <td>4.0</td>\n",
       "    </tr>\n",
       "    <tr>\n",
       "      <th>29324</th>\n",
       "      <td>102</td>\n",
       "      <td>465</td>\n",
       "      <td>6.54934</td>\n",
       "      <td>5.0</td>\n",
       "    </tr>\n",
       "  </tbody>\n",
       "</table>\n",
       "</div>"
      ],
      "text/plain": [
       "       category_in  category_out  similarity  rank_cat\n",
       "29241          102           492     7.98489       1.0\n",
       "29270          102           151     7.82190       2.0\n",
       "29307          102           458     7.72980       3.0\n",
       "29271          102           470     6.82812       4.0\n",
       "29324          102           465     6.54934       5.0"
      ]
     },
     "execution_count": 106,
     "metadata": {},
     "output_type": "execute_result"
    }
   ],
   "source": [
    "cat3_similarity.head()"
   ]
  },
  {
   "cell_type": "code",
   "execution_count": 107,
   "metadata": {},
   "outputs": [],
   "source": [
    "cursor.execute(\"\"\"\n",
    "CREATE TABLE model_categories (\n",
    "    category_in INTEGER, \n",
    "    category_out INTEGER, \n",
    "    similarity REAL, \n",
    "    rank_cat INTEGER, \n",
    "    PRIMARY KEY (category_in, category_out)\n",
    ")\n",
    "\"\"\")\n",
    "db2.commit()"
   ]
  },
  {
   "cell_type": "code",
   "execution_count": 108,
   "metadata": {},
   "outputs": [],
   "source": [
    "cat3_similarity['rank_cat'] = cat3_similarity['rank_cat'].astype(int)"
   ]
  },
  {
   "cell_type": "code",
   "execution_count": 109,
   "metadata": {},
   "outputs": [
    {
     "data": {
      "text/plain": [
       "44862"
      ]
     },
     "execution_count": 109,
     "metadata": {},
     "output_type": "execute_result"
    }
   ],
   "source": [
    "cat3_similarity.to_sql('model_categories', if_exists='append', con=db2, index=False)"
   ]
  },
  {
   "cell_type": "code",
   "execution_count": 157,
   "metadata": {},
   "outputs": [
    {
     "data": {
      "text/plain": [
       "(279784, 7)"
      ]
     },
     "execution_count": 157,
     "metadata": {},
     "output_type": "execute_result"
    }
   ],
   "source": [
    "user_age_group_raw = pd.read_sql(\"\"\"\n",
    "    SELECT \n",
    "        DISTINCT \n",
    "        users.user_id\n",
    "        , round((julianday('2023-03-01') - julianday(date_of_birth)) / 365) as person_age\n",
    "        , is_woman\n",
    "        , category1_id\n",
    "        , category2_id\n",
    "        , category3_id\n",
    "        , 1 as i\n",
    "    FROM attend\n",
    "    INNER JOIN users ON attend.user_id = users.user_id\n",
    "    INNER JOIN groups ON attend.group_id = groups.group_id\n",
    "\"\"\", con=db)\n",
    "user_age_group_raw = user_age_group_raw.dropna().astype(int)\n",
    "user_age_group_raw.shape"
   ]
  },
  {
   "cell_type": "code",
   "execution_count": 158,
   "metadata": {},
   "outputs": [
    {
     "data": {
      "text/html": [
       "<div>\n",
       "<style scoped>\n",
       "    .dataframe tbody tr th:only-of-type {\n",
       "        vertical-align: middle;\n",
       "    }\n",
       "\n",
       "    .dataframe tbody tr th {\n",
       "        vertical-align: top;\n",
       "    }\n",
       "\n",
       "    .dataframe thead th {\n",
       "        text-align: right;\n",
       "    }\n",
       "</style>\n",
       "<table border=\"1\" class=\"dataframe\">\n",
       "  <thead>\n",
       "    <tr style=\"text-align: right;\">\n",
       "      <th></th>\n",
       "      <th>category3_id</th>\n",
       "      <th>is_woman</th>\n",
       "      <th>age_group</th>\n",
       "      <th>age_cat_prob</th>\n",
       "    </tr>\n",
       "  </thead>\n",
       "  <tbody>\n",
       "    <tr>\n",
       "      <th>0</th>\n",
       "      <td>102</td>\n",
       "      <td>0</td>\n",
       "      <td>40</td>\n",
       "      <td>0.000000</td>\n",
       "    </tr>\n",
       "    <tr>\n",
       "      <th>1</th>\n",
       "      <td>104</td>\n",
       "      <td>0</td>\n",
       "      <td>40</td>\n",
       "      <td>0.285714</td>\n",
       "    </tr>\n",
       "    <tr>\n",
       "      <th>2</th>\n",
       "      <td>111</td>\n",
       "      <td>0</td>\n",
       "      <td>40</td>\n",
       "      <td>0.000000</td>\n",
       "    </tr>\n",
       "    <tr>\n",
       "      <th>3</th>\n",
       "      <td>112</td>\n",
       "      <td>0</td>\n",
       "      <td>40</td>\n",
       "      <td>0.000000</td>\n",
       "    </tr>\n",
       "    <tr>\n",
       "      <th>4</th>\n",
       "      <td>114</td>\n",
       "      <td>0</td>\n",
       "      <td>40</td>\n",
       "      <td>0.285714</td>\n",
       "    </tr>\n",
       "  </tbody>\n",
       "</table>\n",
       "</div>"
      ],
      "text/plain": [
       "   category3_id is_woman age_group  age_cat_prob\n",
       "0           102        0        40      0.000000\n",
       "1           104        0        40      0.285714\n",
       "2           111        0        40      0.000000\n",
       "3           112        0        40      0.000000\n",
       "4           114        0        40      0.285714"
      ]
     },
     "execution_count": 158,
     "metadata": {},
     "output_type": "execute_result"
    }
   ],
   "source": [
    "user_age_group = user_age_group_raw.pivot_table(index=['user_id', 'person_age', 'is_woman'], columns='category3_id', values='i').fillna(0).astype(int)\n",
    "user_age_group = user_age_group.reset_index()\n",
    "user_age_group['age_group'] = (user_age_group['person_age'] // 10) * 10\n",
    "\n",
    "user_age_group_mean = user_age_group.drop(['user_id', 'person_age'], axis=1).groupby(['is_woman', 'age_group']).agg('mean')\n",
    "\n",
    "names = {i: (i, c, x, y, z) for i, c, x, y, z in dct[['category3_id', 'category', 'category1_name', 'category2_name', 'category3_name']].drop_duplicates().sort_values(by='category3_id').values}\n",
    "\n",
    "user_age_group_mean.columns = [names.get(i) for i in user_age_group_mean.columns]\n",
    "user_age_group_mean = user_age_group_mean.T\n",
    "\n",
    "user_age_group_mean = user_age_group_mean.reset_index().melt(id_vars=['index'])\n",
    "user_age_group_mean['index'] = user_age_group_mean['index'].apply(lambda x: x[0])\n",
    "user_age_group_mean.columns = ['category3_id', 'is_woman', 'age_group', 'age_cat_prob']\n",
    "\n",
    "user_age_group_mean.head()"
   ]
  },
  {
   "cell_type": "code",
   "execution_count": 159,
   "metadata": {},
   "outputs": [],
   "source": [
    "user_age_group_mean = user_age_group_mean.sort_values(by='age_cat_prob', ascending=False)"
   ]
  },
  {
   "cell_type": "code",
   "execution_count": 160,
   "metadata": {},
   "outputs": [],
   "source": [
    "user_age_group_mean['rank'] = user_age_group_mean.groupby(['age_group', 'is_woman'])['age_cat_prob'].transform('rank', ascending=False)"
   ]
  },
  {
   "cell_type": "code",
   "execution_count": 161,
   "metadata": {},
   "outputs": [],
   "source": [
    "user_age_group_mean.columns = ['category_out', 'is_woman', 'age_group', 'age_cat_prob', 'rank_age']"
   ]
  },
  {
   "cell_type": "code",
   "execution_count": 162,
   "metadata": {},
   "outputs": [
    {
     "data": {
      "text/html": [
       "<div>\n",
       "<style scoped>\n",
       "    .dataframe tbody tr th:only-of-type {\n",
       "        vertical-align: middle;\n",
       "    }\n",
       "\n",
       "    .dataframe tbody tr th {\n",
       "        vertical-align: top;\n",
       "    }\n",
       "\n",
       "    .dataframe thead th {\n",
       "        text-align: right;\n",
       "    }\n",
       "</style>\n",
       "<table border=\"1\" class=\"dataframe\">\n",
       "  <thead>\n",
       "    <tr style=\"text-align: right;\">\n",
       "      <th></th>\n",
       "      <th>category_out</th>\n",
       "      <th>is_woman</th>\n",
       "      <th>age_group</th>\n",
       "      <th>age_cat_prob</th>\n",
       "      <th>rank_age</th>\n",
       "    </tr>\n",
       "  </thead>\n",
       "  <tbody>\n",
       "    <tr>\n",
       "      <th>3242</th>\n",
       "      <td>139</td>\n",
       "      <td>1</td>\n",
       "      <td>90</td>\n",
       "      <td>0.166667</td>\n",
       "      <td>1.0</td>\n",
       "    </tr>\n",
       "    <tr>\n",
       "      <th>3237</th>\n",
       "      <td>130</td>\n",
       "      <td>1</td>\n",
       "      <td>90</td>\n",
       "      <td>0.145833</td>\n",
       "      <td>2.0</td>\n",
       "    </tr>\n",
       "    <tr>\n",
       "      <th>3238</th>\n",
       "      <td>131</td>\n",
       "      <td>1</td>\n",
       "      <td>90</td>\n",
       "      <td>0.135417</td>\n",
       "      <td>5.0</td>\n",
       "    </tr>\n",
       "    <tr>\n",
       "      <th>3233</th>\n",
       "      <td>122</td>\n",
       "      <td>1</td>\n",
       "      <td>90</td>\n",
       "      <td>0.135417</td>\n",
       "      <td>5.0</td>\n",
       "    </tr>\n",
       "    <tr>\n",
       "      <th>3463</th>\n",
       "      <td>1421</td>\n",
       "      <td>1</td>\n",
       "      <td>90</td>\n",
       "      <td>0.135417</td>\n",
       "      <td>5.0</td>\n",
       "    </tr>\n",
       "    <tr>\n",
       "      <th>...</th>\n",
       "      <td>...</td>\n",
       "      <td>...</td>\n",
       "      <td>...</td>\n",
       "      <td>...</td>\n",
       "      <td>...</td>\n",
       "    </tr>\n",
       "    <tr>\n",
       "      <th>3363</th>\n",
       "      <td>496</td>\n",
       "      <td>1</td>\n",
       "      <td>90</td>\n",
       "      <td>0.000000</td>\n",
       "      <td>191.0</td>\n",
       "    </tr>\n",
       "    <tr>\n",
       "      <th>3362</th>\n",
       "      <td>495</td>\n",
       "      <td>1</td>\n",
       "      <td>90</td>\n",
       "      <td>0.000000</td>\n",
       "      <td>191.0</td>\n",
       "    </tr>\n",
       "    <tr>\n",
       "      <th>3361</th>\n",
       "      <td>494</td>\n",
       "      <td>1</td>\n",
       "      <td>90</td>\n",
       "      <td>0.000000</td>\n",
       "      <td>191.0</td>\n",
       "    </tr>\n",
       "    <tr>\n",
       "      <th>3360</th>\n",
       "      <td>492</td>\n",
       "      <td>1</td>\n",
       "      <td>90</td>\n",
       "      <td>0.000000</td>\n",
       "      <td>191.0</td>\n",
       "    </tr>\n",
       "    <tr>\n",
       "      <th>3359</th>\n",
       "      <td>486</td>\n",
       "      <td>1</td>\n",
       "      <td>90</td>\n",
       "      <td>0.000000</td>\n",
       "      <td>191.0</td>\n",
       "    </tr>\n",
       "  </tbody>\n",
       "</table>\n",
       "<p>293 rows × 5 columns</p>\n",
       "</div>"
      ],
      "text/plain": [
       "      category_out is_woman age_group  age_cat_prob  rank_age\n",
       "3242           139        1        90      0.166667       1.0\n",
       "3237           130        1        90      0.145833       2.0\n",
       "3238           131        1        90      0.135417       5.0\n",
       "3233           122        1        90      0.135417       5.0\n",
       "3463          1421        1        90      0.135417       5.0\n",
       "...            ...      ...       ...           ...       ...\n",
       "3363           496        1        90      0.000000     191.0\n",
       "3362           495        1        90      0.000000     191.0\n",
       "3361           494        1        90      0.000000     191.0\n",
       "3360           492        1        90      0.000000     191.0\n",
       "3359           486        1        90      0.000000     191.0\n",
       "\n",
       "[293 rows x 5 columns]"
      ]
     },
     "execution_count": 162,
     "metadata": {},
     "output_type": "execute_result"
    }
   ],
   "source": [
    "user_age_group_mean[(user_age_group_mean['is_woman'] == 1) & (user_age_group_mean['age_group'] == 90)]"
   ]
  },
  {
   "cell_type": "code",
   "execution_count": 163,
   "metadata": {},
   "outputs": [],
   "source": [
    "user_age_group_mean['rank_age'] = user_age_group_mean['rank_age'].astype(int)"
   ]
  },
  {
   "cell_type": "code",
   "execution_count": 169,
   "metadata": {},
   "outputs": [],
   "source": [
    "cursor.execute(\"\"\"\n",
    "CREATE TABLE model_age (\n",
    "    category_out INTEGER, \n",
    "    is_woman INTEGER, \n",
    "    age_group INTEGER, \n",
    "    age_cat_prob REAL, \n",
    "    rank_age INTEGER, \n",
    "    PRIMARY KEY (category_out, is_woman, age_group)\n",
    ")\n",
    "\"\"\")\n",
    "db2.commit()"
   ]
  },
  {
   "cell_type": "code",
   "execution_count": 170,
   "metadata": {},
   "outputs": [
    {
     "data": {
      "text/plain": [
       "3516"
      ]
     },
     "execution_count": 170,
     "metadata": {},
     "output_type": "execute_result"
    }
   ],
   "source": [
    "user_age_group_mean.to_sql('model_age', if_exists='append', con=db2, index=False)"
   ]
  },
  {
   "cell_type": "code",
   "execution_count": 117,
   "metadata": {},
   "outputs": [],
   "source": [
    "postal_to_zd = pd.read_sql(\"\"\"\n",
    "    SELECT district_id, zone_id, code, count(group_id) as n\n",
    "    FROM group_locations\n",
    "    WHERE code IS NOT NULL\n",
    "    GROUP BY district_id, zone_id, code\n",
    "    ORDER BY n DESC\n",
    "\"\"\", con=db, dtype={'district_id': 'int16', 'zone_id': 'int16', 'code': 'int32', 'n': 'int16'}).drop_duplicates(subset=['code'], keep='first')"
   ]
  },
  {
   "cell_type": "code",
   "execution_count": 119,
   "metadata": {},
   "outputs": [],
   "source": [
    "cursor.execute(\"\"\"\n",
    "CREATE TABLE postal_map (\n",
    "    code INTEGER, \n",
    "    zone_id INTEGER, \n",
    "    district_id INTEGER, \n",
    "    PRIMARY KEY (code)\n",
    ")\n",
    "\"\"\")\n",
    "db2.commit()"
   ]
  },
  {
   "cell_type": "code",
   "execution_count": 121,
   "metadata": {},
   "outputs": [
    {
     "data": {
      "text/plain": [
       "356"
      ]
     },
     "execution_count": 121,
     "metadata": {},
     "output_type": "execute_result"
    }
   ],
   "source": [
    "postal_to_zd.drop('n', axis=1).to_sql('postal_map', if_exists='append', con=db2, index=False)"
   ]
  },
  {
   "cell_type": "code",
   "execution_count": 124,
   "metadata": {},
   "outputs": [
    {
     "data": {
      "text/plain": [
       "(18739, 3)"
      ]
     },
     "execution_count": 124,
     "metadata": {},
     "output_type": "execute_result"
    }
   ],
   "source": [
    "neighbors = pd.read_sql(\"\"\"\n",
    "    SELECT group_id, postal_code, count() - 1 as n_neighbors\n",
    "    FROM (\n",
    "        SELECT DISTINCT \n",
    "            group_id\n",
    "            , users.postal_code\n",
    "            , attend.user_id\n",
    "        FROM attend\n",
    "        LEFT JOIN users ON attend.user_id = users.user_id\n",
    "        WHERE postal_code IS NOT NULL \n",
    "                AND event_date >= '2022-12-01'\n",
    "    )\n",
    "    GROUP BY group_id, postal_code\n",
    "    HAVING n_neighbors > 1\n",
    "\"\"\", con=db)\n",
    "neighbors.shape"
   ]
  },
  {
   "cell_type": "code",
   "execution_count": 125,
   "metadata": {},
   "outputs": [],
   "source": [
    "cursor.execute(\"\"\"\n",
    "CREATE TABLE model_neighbors (\n",
    "    group_id INTEGER, \n",
    "    postal_code INTEGER, \n",
    "    n_neighbors INTEGER, \n",
    "    PRIMARY KEY (group_id, postal_code)\n",
    ")\n",
    "\"\"\")\n",
    "db2.commit()"
   ]
  },
  {
   "cell_type": "code",
   "execution_count": 126,
   "metadata": {},
   "outputs": [
    {
     "data": {
      "text/plain": [
       "18739"
      ]
     },
     "execution_count": 126,
     "metadata": {},
     "output_type": "execute_result"
    }
   ],
   "source": [
    "neighbors.to_sql('model_neighbors', if_exists='append', con=db2, index=False)"
   ]
  },
  {
   "cell_type": "code",
   "execution_count": 21,
   "metadata": {},
   "outputs": [],
   "source": [
    "questionnaire = pd.read_csv(\"/home/dkbrz/Downloads/categories - Лист2.csv\")"
   ]
  },
  {
   "cell_type": "code",
   "execution_count": 22,
   "metadata": {},
   "outputs": [],
   "source": [
    "questionnaire = questionnaire.melt(id_vars='category3_id').dropna()\n",
    "questionnaire.columns = ['category3_id', 'feature', 'i']\n",
    "questionnaire['i'] = questionnaire['i'].astype(int)"
   ]
  },
  {
   "cell_type": "code",
   "execution_count": 23,
   "metadata": {},
   "outputs": [
    {
     "data": {
      "text/plain": [
       "185"
      ]
     },
     "execution_count": 23,
     "metadata": {},
     "output_type": "execute_result"
    }
   ],
   "source": [
    "questionnaire.to_sql('questionnaire', con=db2, if_exists='replace')"
   ]
  }
 ],
 "metadata": {
  "kernelspec": {
   "display_name": "Python 3",
   "language": "python",
   "name": "python3"
  },
  "language_info": {
   "codemirror_mode": {
    "name": "ipython",
    "version": 3
   },
   "file_extension": ".py",
   "mimetype": "text/x-python",
   "name": "python",
   "nbconvert_exporter": "python",
   "pygments_lexer": "ipython3",
   "version": "3.8.10"
  }
 },
 "nbformat": 4,
 "nbformat_minor": 4
}
