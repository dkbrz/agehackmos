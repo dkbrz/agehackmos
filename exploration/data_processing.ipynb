{
 "cells": [
  {
   "cell_type": "code",
   "execution_count": 1,
   "metadata": {},
   "outputs": [],
   "source": [
    "import pandas as pd\n",
    "import seaborn as sns\n",
    "from tqdm.auto import tqdm\n",
    "from collections import Counter\n",
    "from nltk.tokenize import wordpunct_tokenize\n",
    "import re\n",
    "from string import punctuation"
   ]
  },
  {
   "cell_type": "code",
   "execution_count": 2,
   "metadata": {},
   "outputs": [],
   "source": [
    "attend = pd.read_csv('../data/attend.csv')\n",
    "groups = pd.read_csv('../data/groups.csv')\n",
    "test = pd.read_csv('../data/test.csv')\n",
    "users = pd.read_csv('../data/users.csv')\n",
    "\n",
    "dct = pd.read_excel('../data/dict.xlsx')"
   ]
  },
  {
   "cell_type": "code",
   "execution_count": 3,
   "metadata": {},
   "outputs": [
    {
     "data": {
      "text/html": [
       "<div>\n",
       "<style scoped>\n",
       "    .dataframe tbody tr th:only-of-type {\n",
       "        vertical-align: middle;\n",
       "    }\n",
       "\n",
       "    .dataframe tbody tr th {\n",
       "        vertical-align: top;\n",
       "    }\n",
       "\n",
       "    .dataframe thead th {\n",
       "        text-align: right;\n",
       "    }\n",
       "</style>\n",
       "<table border=\"1\" class=\"dataframe\">\n",
       "  <thead>\n",
       "    <tr style=\"text-align: right;\">\n",
       "      <th></th>\n",
       "      <th>уникальный номер занятия</th>\n",
       "      <th>уникальный номер группы</th>\n",
       "      <th>уникальный номер участника</th>\n",
       "      <th>направление 2</th>\n",
       "      <th>направление 3</th>\n",
       "      <th>онлайн/офлайн</th>\n",
       "      <th>дата занятия</th>\n",
       "      <th>время начала занятия</th>\n",
       "      <th>время окончания занятия</th>\n",
       "    </tr>\n",
       "  </thead>\n",
       "  <tbody>\n",
       "    <tr>\n",
       "      <th>0</th>\n",
       "      <td>401346550</td>\n",
       "      <td>801346550</td>\n",
       "      <td>101352023</td>\n",
       "      <td>ОНЛАЙН Гимнастика</td>\n",
       "      <td>ОНЛАЙН Цигун</td>\n",
       "      <td>Да</td>\n",
       "      <td>2022-08-01</td>\n",
       "      <td>09:00:00</td>\n",
       "      <td>10:00:00</td>\n",
       "    </tr>\n",
       "    <tr>\n",
       "      <th>1</th>\n",
       "      <td>401346550</td>\n",
       "      <td>801346550</td>\n",
       "      <td>101385462</td>\n",
       "      <td>ОНЛАЙН Гимнастика</td>\n",
       "      <td>ОНЛАЙН Цигун</td>\n",
       "      <td>Да</td>\n",
       "      <td>2022-08-01</td>\n",
       "      <td>09:00:00</td>\n",
       "      <td>10:00:00</td>\n",
       "    </tr>\n",
       "    <tr>\n",
       "      <th>2</th>\n",
       "      <td>401346550</td>\n",
       "      <td>801346550</td>\n",
       "      <td>101421897</td>\n",
       "      <td>ОНЛАЙН Гимнастика</td>\n",
       "      <td>ОНЛАЙН Цигун</td>\n",
       "      <td>Да</td>\n",
       "      <td>2022-08-01</td>\n",
       "      <td>09:00:00</td>\n",
       "      <td>10:00:00</td>\n",
       "    </tr>\n",
       "    <tr>\n",
       "      <th>3</th>\n",
       "      <td>401346550</td>\n",
       "      <td>801346550</td>\n",
       "      <td>101354499</td>\n",
       "      <td>ОНЛАЙН Гимнастика</td>\n",
       "      <td>ОНЛАЙН Цигун</td>\n",
       "      <td>Да</td>\n",
       "      <td>2022-08-01</td>\n",
       "      <td>09:00:00</td>\n",
       "      <td>10:00:00</td>\n",
       "    </tr>\n",
       "    <tr>\n",
       "      <th>4</th>\n",
       "      <td>401346550</td>\n",
       "      <td>801346550</td>\n",
       "      <td>101421312</td>\n",
       "      <td>ОНЛАЙН Гимнастика</td>\n",
       "      <td>ОНЛАЙН Цигун</td>\n",
       "      <td>Да</td>\n",
       "      <td>2022-08-01</td>\n",
       "      <td>09:00:00</td>\n",
       "      <td>10:00:00</td>\n",
       "    </tr>\n",
       "  </tbody>\n",
       "</table>\n",
       "</div>"
      ],
      "text/plain": [
       "   уникальный номер занятия  уникальный номер группы  \\\n",
       "0                 401346550                801346550   \n",
       "1                 401346550                801346550   \n",
       "2                 401346550                801346550   \n",
       "3                 401346550                801346550   \n",
       "4                 401346550                801346550   \n",
       "\n",
       "   уникальный номер участника      направление 2 направление 3 онлайн/офлайн  \\\n",
       "0                   101352023  ОНЛАЙН Гимнастика  ОНЛАЙН Цигун            Да   \n",
       "1                   101385462  ОНЛАЙН Гимнастика  ОНЛАЙН Цигун            Да   \n",
       "2                   101421897  ОНЛАЙН Гимнастика  ОНЛАЙН Цигун            Да   \n",
       "3                   101354499  ОНЛАЙН Гимнастика  ОНЛАЙН Цигун            Да   \n",
       "4                   101421312  ОНЛАЙН Гимнастика  ОНЛАЙН Цигун            Да   \n",
       "\n",
       "  дата занятия время начала занятия время окончания занятия  \n",
       "0   2022-08-01             09:00:00                10:00:00  \n",
       "1   2022-08-01             09:00:00                10:00:00  \n",
       "2   2022-08-01             09:00:00                10:00:00  \n",
       "3   2022-08-01             09:00:00                10:00:00  \n",
       "4   2022-08-01             09:00:00                10:00:00  "
      ]
     },
     "execution_count": 3,
     "metadata": {},
     "output_type": "execute_result"
    }
   ],
   "source": [
    "attend.head()"
   ]
  },
  {
   "cell_type": "code",
   "execution_count": 4,
   "metadata": {},
   "outputs": [
    {
     "data": {
      "text/plain": [
       "<AxesSubplot:>"
      ]
     },
     "execution_count": 4,
     "metadata": {},
     "output_type": "execute_result"
    },
    {
     "data": {
      "image/png": "[encoded data removed]",
      "text/plain": [
       "<Figure size 432x288 with 1 Axes>"
      ]
     },
     "metadata": {
      "needs_background": "light"
     },
     "output_type": "display_data"
    }
   ],
   "source": [
    "users['дата создание личного дела'].apply(lambda x: x[:4]).astype(int).hist()"
   ]
  },
  {
   "cell_type": "code",
   "execution_count": 5,
   "metadata": {},
   "outputs": [
    {
     "data": {
      "text/plain": [
       "<AxesSubplot:>"
      ]
     },
     "execution_count": 5,
     "metadata": {},
     "output_type": "execute_result"
    },
    {
     "data": {
      "image/png": "[encoded data removed]",
      "text/plain": [
       "<Figure size 432x288 with 1 Axes>"
      ]
     },
     "metadata": {
      "needs_background": "light"
     },
     "output_type": "display_data"
    }
   ],
   "source": [
    "users[users['пол'] == 'Женщина']['дата рождения'].apply(lambda x: x[:4]).astype(int).hist()\n",
    "users[users['пол'] == 'Мужчина']['дата рождения'].apply(lambda x: x[:4]).astype(int).hist()"
   ]
  },
  {
   "cell_type": "markdown",
   "metadata": {},
   "source": [
    "## Преобразование данных\n",
    "\n",
    "\n",
    "### Юзеры"
   ]
  },
  {
   "cell_type": "code",
   "execution_count": 6,
   "metadata": {},
   "outputs": [],
   "source": [
    "postal_codes = pd.read_csv('postal_codes.csv')\n",
    "\n",
    "atypes = {\n",
    "    'парк', 'улица', 'пл', 'ул', 'шоссе', 'км', 'пр', 'кт', 'мжд'\n",
    "}\n",
    "\n",
    "postal_codes['splitted'] = postal_codes['street'].apply(\n",
    "    lambda x: tuple(\n",
    "        sorted(\n",
    "            i.lower().replace('ё', 'е') \n",
    "            for i in wordpunct_tokenize(x) \n",
    "            if len(i) > 1 and i[0] not in '0123456789' and i.lower() not in atypes\n",
    "        )\n",
    "    )\n",
    ")\n",
    "\n",
    "grouped = postal_codes.groupby(['splitted', 'postal_code']).agg(lambda x: list(x)[0])\n",
    "\n",
    "postal_codes = grouped.reset_index()\n",
    "\n",
    "\n",
    "to_skip = {\n",
    "    'авиаконструктора', 'адмирала', 'академика', 'архитектора', 'братьев', 'ветеранов', 'генерала',\n",
    "    'героев', 'защитников', 'космонавта', 'летчика', 'маршала', \n",
    "    'воскресенско', 'москва', 'мжд'\n",
    "}\n",
    "\n",
    "names = {\n",
    "    'александра', 'алексея', 'бориса', 'василия', 'дмитрия', 'ивана', 'константина',\n",
    "     'льва', 'марии', 'михаила', 'наташи', 'николая', 'павла', 'петра', 'сергея', 'степана', 'федора',\n",
    "}\n",
    "\n",
    "postal_codes['head'] = [\n",
    "    None if len(j) == 0 else j[0]\n",
    "    for j in \n",
    "    [\n",
    "        [i for i in splitted if len(i) >= 4 and i not in to_skip and i not in names and i not in atypes]\n",
    "        if splitted and max(len(i) for i in splitted) > 3\n",
    "        else []\n",
    "        for code, splitted in postal_codes[['postal_code', 'splitted']].values\n",
    "    ]\n",
    "]\n",
    "\n",
    "grouped = postal_codes.groupby('head').agg(list)\n",
    "grouped = grouped[grouped['postal_code'].apply(lambda x: len(set(x))) > 1]\n",
    "not_ok = set(grouped.index)"
   ]
  },
  {
   "cell_type": "code",
   "execution_count": 7,
   "metadata": {},
   "outputs": [
    {
     "data": {
      "text/html": [
       "<div>\n",
       "<style scoped>\n",
       "    .dataframe tbody tr th:only-of-type {\n",
       "        vertical-align: middle;\n",
       "    }\n",
       "\n",
       "    .dataframe tbody tr th {\n",
       "        vertical-align: top;\n",
       "    }\n",
       "\n",
       "    .dataframe thead th {\n",
       "        text-align: right;\n",
       "    }\n",
       "</style>\n",
       "<table border=\"1\" class=\"dataframe\">\n",
       "  <thead>\n",
       "    <tr style=\"text-align: right;\">\n",
       "      <th></th>\n",
       "      <th>splitted</th>\n",
       "      <th>postal_code</th>\n",
       "      <th>street</th>\n",
       "      <th>head</th>\n",
       "    </tr>\n",
       "  </thead>\n",
       "  <tbody>\n",
       "    <tr>\n",
       "      <th>510</th>\n",
       "      <td>(вал, даниловский)</td>\n",
       "      <td>115093</td>\n",
       "      <td>Даниловский Вал ул.</td>\n",
       "      <td>даниловский</td>\n",
       "    </tr>\n",
       "    <tr>\n",
       "      <th>859</th>\n",
       "      <td>(даниловский, пер)</td>\n",
       "      <td>115191</td>\n",
       "      <td>Даниловский пер.</td>\n",
       "      <td>даниловский</td>\n",
       "    </tr>\n",
       "  </tbody>\n",
       "</table>\n",
       "</div>"
      ],
      "text/plain": [
       "               splitted  postal_code               street         head\n",
       "510  (вал, даниловский)       115093  Даниловский Вал ул.  даниловский\n",
       "859  (даниловский, пер)       115191     Даниловский пер.  даниловский"
      ]
     },
     "execution_count": 7,
     "metadata": {},
     "output_type": "execute_result"
    }
   ],
   "source": [
    "postal_codes[postal_codes['head'] == 'даниловский']"
   ]
  },
  {
   "cell_type": "code",
   "execution_count": 8,
   "metadata": {},
   "outputs": [
    {
     "data": {
      "text/plain": [
       "(117198, ('ленинский',))"
      ]
     },
     "execution_count": 8,
     "metadata": {},
     "output_type": "execute_result"
    }
   ],
   "source": [
    "simple_dict = {\n",
    "    head: (code, splitted)\n",
    "    for code, splitted, head in postal_codes[['postal_code', 'splitted', 'head']].values\n",
    "    if splitted and head not in not_ok\n",
    "}\n",
    "\n",
    "simple_dict['ленинский']"
   ]
  },
  {
   "cell_type": "code",
   "execution_count": 9,
   "metadata": {},
   "outputs": [],
   "source": [
    "users['code'] = users['адрес проживания'].apply(wordpunct_tokenize).apply(\n",
    "    lambda x: [\n",
    "        simple_dict[i.lower().strip().replace('ё', 'е')]  \n",
    "        for i in x\n",
    "        if len(x) > 1 and i.lower().strip().replace('ё', 'е') in simple_dict\n",
    "    ]\n",
    "    if type(x) == list else []\n",
    ")"
   ]
  },
  {
   "cell_type": "code",
   "execution_count": 10,
   "metadata": {},
   "outputs": [],
   "source": [
    "users['code'] = users['адрес проживания'].apply(wordpunct_tokenize).apply(\n",
    "    lambda x: [\n",
    "        simple_dict[i.lower().strip().replace('ё', 'е')]  \n",
    "        for i in x\n",
    "        if len(x) > 1 and i.lower().strip().replace('ё', 'е') in simple_dict\n",
    "    ]\n",
    "    if type(x) == list else []\n",
    ").apply(lambda x: x[0][0] if len(x) > 0 else None)"
   ]
  },
  {
   "cell_type": "code",
   "execution_count": 11,
   "metadata": {},
   "outputs": [],
   "source": [
    "manual = {\n",
    "    'варшавское шоссе': 115127, \n",
    "    'ярославское шоссе': 129626,\n",
    "    'ореховый бульвар': 115551,\n",
    "    'боровское шоссе': 108810,\n",
    "    'проспект мира': 127083, \n",
    "    'бескудниковский бульвар': 127247, \n",
    "    'кутузовский проспект': 121108, \n",
    "    'измайловский бульвар': 105043\n",
    "}"
   ]
  },
  {
   "cell_type": "code",
   "execution_count": 12,
   "metadata": {},
   "outputs": [
    {
     "data": {
      "text/plain": [
       "0.17543088623074865"
      ]
     },
     "execution_count": 12,
     "metadata": {},
     "output_type": "execute_result"
    }
   ],
   "source": [
    "users['code'].isnull().mean()"
   ]
  },
  {
   "cell_type": "code",
   "execution_count": 13,
   "metadata": {},
   "outputs": [
    {
     "data": {
      "text/plain": [
       "0.1529598349065617"
      ]
     },
     "execution_count": 13,
     "metadata": {},
     "output_type": "execute_result"
    }
   ],
   "source": [
    "users['code'] = users[['code', 'адрес проживания']].apply(\n",
    "    lambda x: manual[x['адрес проживания'].split(',')[1].strip()] \n",
    "            if str(x['code']) != 'NaN' and x['адрес проживания'].split(',')[1].strip() in manual \n",
    "            else x['code']\n",
    "    , axis=1\n",
    ")\n",
    "\n",
    "users['code'].isnull().mean()"
   ]
  },
  {
   "cell_type": "code",
   "execution_count": 14,
   "metadata": {},
   "outputs": [],
   "source": [
    "users_new = pd.DataFrame({\n",
    "    'user_id': users['уникальный номер'],\n",
    "    'created_at': pd.to_datetime(users['дата создание личного дела']),\n",
    "    'is_woman': (users['пол'] == 'Женщина').astype(int),\n",
    "    'date_of_birth': pd.to_datetime(users['дата рождения']),\n",
    "    'postal_code': users['code'].fillna(0).astype(int)\n",
    "})"
   ]
  },
  {
   "cell_type": "code",
   "execution_count": 15,
   "metadata": {},
   "outputs": [],
   "source": [
    "users_new.to_csv('../data/new_users.csv', index=None)"
   ]
  },
  {
   "cell_type": "markdown",
   "metadata": {},
   "source": [
    "### Посещения"
   ]
  },
  {
   "cell_type": "code",
   "execution_count": 16,
   "metadata": {},
   "outputs": [],
   "source": [
    "attend_new = pd.DataFrame({\n",
    "    'event_id': attend['уникальный номер занятия'],\n",
    "    'group_id': attend['уникальный номер группы'],\n",
    "    'user_id': attend['уникальный номер участника'],\n",
    "    'event_date': attend['дата занятия'],\n",
    "    'event_start': attend['время начала занятия'].apply(lambda x: int(x[:2]) + int(x[3:5]) / 60),\n",
    "    'event_end': attend['время окончания занятия'].apply(lambda x: int(x[:2]) + int(x[3:5]) / 60),\n",
    "    'is_online': (attend['онлайн/офлайн'] == 'Да').astype(int)\n",
    "})"
   ]
  },
  {
   "cell_type": "code",
   "execution_count": 17,
   "metadata": {},
   "outputs": [],
   "source": [
    "attend_new.to_csv('new_attend.csv', index=None)"
   ]
  },
  {
   "cell_type": "code",
   "execution_count": 18,
   "metadata": {},
   "outputs": [
    {
     "data": {
      "text/plain": [
       "0.6467974542446259"
      ]
     },
     "execution_count": 18,
     "metadata": {},
     "output_type": "execute_result"
    }
   ],
   "source": [
    "attend_new['is_online'].mean()"
   ]
  },
  {
   "cell_type": "code",
   "execution_count": 19,
   "metadata": {},
   "outputs": [
    {
     "data": {
      "text/plain": [
       "<AxesSubplot:>"
      ]
     },
     "execution_count": 19,
     "metadata": {},
     "output_type": "execute_result"
    },
    {
     "data": {
      "image/png": "[encoded data removed]",
      "text/plain": [
       "<Figure size 432x288 with 1 Axes>"
      ]
     },
     "metadata": {
      "needs_background": "light"
     },
     "output_type": "display_data"
    }
   ],
   "source": [
    "attend_new['event_start'].hist(alpha=0.5)\n",
    "attend_new['event_end'].hist(alpha=0.5)"
   ]
  },
  {
   "cell_type": "markdown",
   "metadata": {},
   "source": [
    "### Группы"
   ]
  },
  {
   "cell_type": "code",
   "execution_count": 20,
   "metadata": {},
   "outputs": [
    {
     "data": {
      "text/plain": [
       "0.1125928500065158"
      ]
     },
     "execution_count": 20,
     "metadata": {},
     "output_type": "execute_result"
    }
   ],
   "source": [
    "# доля тех, где несколько площадок\n",
    "groups['округ площадки'].apply(lambda x: ',' in x if type(x) == str else None).mean()"
   ]
  },
  {
   "cell_type": "markdown",
   "metadata": {},
   "source": [
    "**Расписание**"
   ]
  },
  {
   "cell_type": "code",
   "execution_count": 22,
   "metadata": {},
   "outputs": [],
   "source": [
    "reg_dates = '([0-9]{2}\\.[0-9]{2}\\.[0-9]{4})'\n",
    "reg_time = '[0-9]{2}:[0-9]{2}-[0-9]{2}:[0-9]{2}'\n",
    "\n",
    "DAYS = {'Пн': 1, 'Вт': 2, 'Ср':3 , 'Чт': 4, 'Пт': 5, 'Сб': 6, 'Вс': 7}\n",
    "\n",
    "def parse_date_string(x):\n",
    "    if len(re.findall(reg_dates, x)) > 2:\n",
    "        return [\n",
    "            parse_date_string(y)[0]\n",
    "            for y in x.split(';')\n",
    "        ]\n",
    "    \n",
    "    start, finish = tuple(re.findall(reg_dates, x))\n",
    "    start = start[6:] + '-' + start[3:5] + '-' + start[:2]\n",
    "    finish = finish[6:] + '-' + finish[3:5] + '-' + finish[:2]\n",
    "    \n",
    "    x = x.split(finish)[-1].strip()\n",
    "    \n",
    "    timetable = []\n",
    "    days = []\n",
    "    for item in x.split():\n",
    "        item = item.strip(punctuation)\n",
    "        if item in {'Пн', 'Вт', 'Ср', 'Чт', 'Пт', 'Сб', 'Вс'}:\n",
    "            days.append(item)\n",
    "        elif re.match(reg_time, item):\n",
    "            timetable.extend([(DAYS[day], int(item[:2]) + int(item[3:5]) / 60, int(item[6:8]) + int(item[9:11]) / 60) for day in days])\n",
    "            days = []\n",
    "    \n",
    "    return [(start, finish, timetable)]\n",
    "\n",
    "# parse_date_string(times.loc[4514])"
   ]
  },
  {
   "cell_type": "code",
   "execution_count": 23,
   "metadata": {},
   "outputs": [],
   "source": [
    "groups['timetable_closed'] = groups['расписание в закрытых периодах'].apply(lambda x: parse_date_string(x) if type(x) == str else [])\n",
    "groups['timetable_open'] = groups['расписание в активных периодах'].apply(lambda x: parse_date_string(x) if type(x) == str else [])\n",
    "groups['timetable_plan'] = groups['расписание в плановом периоде'].apply(lambda x: parse_date_string(x) if type(x) == str else [])"
   ]
  },
  {
   "cell_type": "markdown",
   "metadata": {},
   "source": [
    "**Места**"
   ]
  },
  {
   "cell_type": "code",
   "execution_count": 24,
   "metadata": {},
   "outputs": [],
   "source": [
    "s_types = {\n",
    "    'улица', 'шоссе', 'переулок', 'проспект', 'проезд', \n",
    "    'бульвар', 'переулок', 'набережная', 'парк',\n",
    "    'тупик', 'ул', 'аллея', 'линия', 'просек'\n",
    "#     , 'площадь'\n",
    "}"
   ]
  },
  {
   "cell_type": "code",
   "execution_count": 25,
   "metadata": {},
   "outputs": [],
   "source": [
    "def split_locations(x):\n",
    "    address = x['адрес площадки']\n",
    "    district = x['округ площадки']\n",
    "    zone = x['район площадки']\n",
    "    \n",
    "    if 'онлайн' in x['направление 3'].lower():\n",
    "        return -1, address, district, zone, []\n",
    "    elif type(district) == float:\n",
    "        return -3, address, district, zone, []\n",
    "    \n",
    "    if ',' in district:\n",
    "        status = 2\n",
    "        district = [i.strip() for i in district.split(',')]\n",
    "        zone = [i.strip() for i in zone.split(',')]\n",
    "    else:\n",
    "        status = 1\n",
    "        district = [district]\n",
    "        zone = [zone]\n",
    "    \n",
    "    address_new = []\n",
    "    city = None\n",
    "    for item in address.split(','):\n",
    "        item = item.lower().strip().replace('.', '')\n",
    "#         print(item)\n",
    "        if len(set([i for i in item.split()]) & s_types) > 0 and city is not None:\n",
    "#             print('YES', item)\n",
    "            address_new.append((city, item.strip()))\n",
    "            city = None\n",
    "            continue\n",
    "        elif 'моск' in item:\n",
    "            city = 'москва'\n",
    "            continue\n",
    "        elif 'город' in item or 'г.' in item or 'посел' in item or 'край' in item or 'республика' in item:\n",
    "            city = item.strip()\n",
    "            continue\n",
    "            \n",
    "    if status == 1:\n",
    "        address_new = address_new[:1]\n",
    "        \n",
    "#         else:\n",
    "#             print('NO', item)\n",
    "#     print(len(district), len(zone), len(address_new))\n",
    "    return status, address, district, zone, address_new"
   ]
  },
  {
   "cell_type": "code",
   "execution_count": 26,
   "metadata": {},
   "outputs": [],
   "source": [
    "groups['location'] = groups[['направление 3', 'адрес площадки', 'округ площадки', 'район площадки']].apply(split_locations, axis=1)"
   ]
  },
  {
   "cell_type": "code",
   "execution_count": 27,
   "metadata": {},
   "outputs": [
    {
     "data": {
      "text/plain": [
       " 1    0.649632\n",
       "-1    0.277636\n",
       " 2    0.068326\n",
       "-3    0.004407\n",
       "Name: location, dtype: float64"
      ]
     },
     "execution_count": 27,
     "metadata": {},
     "output_type": "execute_result"
    }
   ],
   "source": [
    "groups['location'].apply(lambda x: x[0]).value_counts() / groups.shape[0]"
   ]
  },
  {
   "cell_type": "code",
   "execution_count": 28,
   "metadata": {},
   "outputs": [],
   "source": [
    "groups['is_online'] = groups['location'].apply(lambda x: x[0] == -1).astype(int)\n",
    "groups['is_mobile'] = groups['location'].apply(lambda x: x[0] == -3).astype(int)"
   ]
  },
  {
   "cell_type": "code",
   "execution_count": 29,
   "metadata": {},
   "outputs": [],
   "source": [
    "groups['loc_type'] = groups['location'].apply(lambda x: x[0])\n",
    "groups['match_loc'] = groups['location'].apply(lambda x: len(x[2]) == len(x[4]) if type(x[2]) == list and type(x[4]) == list else -1).astype(float)"
   ]
  },
  {
   "cell_type": "code",
   "execution_count": 30,
   "metadata": {},
   "outputs": [
    {
     "data": {
      "text/html": [
       "<div>\n",
       "<style scoped>\n",
       "    .dataframe tbody tr th:only-of-type {\n",
       "        vertical-align: middle;\n",
       "    }\n",
       "\n",
       "    .dataframe tbody tr th {\n",
       "        vertical-align: top;\n",
       "    }\n",
       "\n",
       "    .dataframe thead th {\n",
       "        text-align: right;\n",
       "    }\n",
       "</style>\n",
       "<table border=\"1\" class=\"dataframe\">\n",
       "  <thead>\n",
       "    <tr style=\"text-align: right;\">\n",
       "      <th></th>\n",
       "      <th></th>\n",
       "      <th></th>\n",
       "      <th></th>\n",
       "      <th>is_online</th>\n",
       "    </tr>\n",
       "    <tr>\n",
       "      <th>loc_type</th>\n",
       "      <th>is_online</th>\n",
       "      <th>is_mobile</th>\n",
       "      <th>match_loc</th>\n",
       "      <th></th>\n",
       "    </tr>\n",
       "  </thead>\n",
       "  <tbody>\n",
       "    <tr>\n",
       "      <th>-3</th>\n",
       "      <th>0</th>\n",
       "      <th>1</th>\n",
       "      <th>-1.0</th>\n",
       "      <td>119</td>\n",
       "    </tr>\n",
       "    <tr>\n",
       "      <th>-1</th>\n",
       "      <th>1</th>\n",
       "      <th>0</th>\n",
       "      <th>-1.0</th>\n",
       "      <td>7497</td>\n",
       "    </tr>\n",
       "    <tr>\n",
       "      <th rowspan=\"2\" valign=\"top\">1</th>\n",
       "      <th rowspan=\"2\" valign=\"top\">0</th>\n",
       "      <th rowspan=\"2\" valign=\"top\">0</th>\n",
       "      <th>0.0</th>\n",
       "      <td>575</td>\n",
       "    </tr>\n",
       "    <tr>\n",
       "      <th>1.0</th>\n",
       "      <td>16967</td>\n",
       "    </tr>\n",
       "    <tr>\n",
       "      <th rowspan=\"2\" valign=\"top\">2</th>\n",
       "      <th rowspan=\"2\" valign=\"top\">0</th>\n",
       "      <th rowspan=\"2\" valign=\"top\">0</th>\n",
       "      <th>0.0</th>\n",
       "      <td>137</td>\n",
       "    </tr>\n",
       "    <tr>\n",
       "      <th>1.0</th>\n",
       "      <td>1708</td>\n",
       "    </tr>\n",
       "  </tbody>\n",
       "</table>\n",
       "</div>"
      ],
      "text/plain": [
       "                                        is_online\n",
       "loc_type is_online is_mobile match_loc           \n",
       "-3       0         1         -1.0             119\n",
       "-1       1         0         -1.0            7497\n",
       " 1       0         0          0.0             575\n",
       "                              1.0           16967\n",
       " 2       0         0          0.0             137\n",
       "                              1.0            1708"
      ]
     },
     "execution_count": 30,
     "metadata": {},
     "output_type": "execute_result"
    }
   ],
   "source": [
    "groups.groupby(['loc_type', 'is_online', 'is_mobile', 'match_loc']).agg({'is_online': 'count'})"
   ]
  },
  {
   "cell_type": "code",
   "execution_count": 31,
   "metadata": {},
   "outputs": [],
   "source": [
    "def location_code(x):\n",
    "    if x[0] < 0:\n",
    "        return None\n",
    "    result = []\n",
    "    if type(x[2]) == list and type(x[4]) == list and len(x[2]) == len(x[4]):\n",
    "        for c, loc in x[4]:\n",
    "            loc = loc.lower().strip().replace('ё', 'е')\n",
    "            loc_match = [i for i in loc.split() if i in simple_dict]\n",
    "            if loc_match:\n",
    "                result.append(simple_dict[loc_match[0]][0])\n",
    "            elif loc in manual:\n",
    "                result.append(manual[loc])\n",
    "            else:\n",
    "                result.append(None)\n",
    "    return result"
   ]
  },
  {
   "cell_type": "code",
   "execution_count": 32,
   "metadata": {},
   "outputs": [],
   "source": [
    "groups['codes'] = groups['location'].apply(location_code)\n",
    "groups['districts'] = groups['location'].apply(lambda x: x[2])\n",
    "groups['zones'] = groups['location'].apply(lambda x: x[3])"
   ]
  },
  {
   "cell_type": "code",
   "execution_count": 34,
   "metadata": {},
   "outputs": [],
   "source": [
    "cat1_dict = dict(dct[['level1', 'id_level1']].values)\n",
    "cat2_dict = dict(dct[['level2', 'id_level2']].values)\n",
    "cat3_dict = dict(dct[['leve3', 'id_level3']].values)"
   ]
  },
  {
   "cell_type": "code",
   "execution_count": 35,
   "metadata": {},
   "outputs": [],
   "source": [
    "groups['is_available'] = (~groups['расписание в активных периодах'].isnull()).astype(int)"
   ]
  },
  {
   "cell_type": "code",
   "execution_count": 36,
   "metadata": {},
   "outputs": [],
   "source": [
    "groups_new = pd.DataFrame({\n",
    "    'group_id': groups['уникальный номер'],\n",
    "    'address': groups['адрес площадки'],\n",
    "    'category1_id': groups['направление 1'].apply(cat1_dict.get),\n",
    "    'category2_id': groups['направление 2'].apply(cat2_dict.get),\n",
    "    'category3_id': groups['направление 3'].apply(cat3_dict.get),\n",
    "    'is_online': groups['is_online'],\n",
    "    'is_mobile': groups['is_mobile'],\n",
    "    'is_available': groups['is_available'],\n",
    "    'match_loc': (groups['match_loc'] != 0).astype(int),\n",
    "})"
   ]
  },
  {
   "cell_type": "code",
   "execution_count": 37,
   "metadata": {},
   "outputs": [],
   "source": [
    "groups_new.to_csv('new_groups.csv', index=None)"
   ]
  },
  {
   "cell_type": "code",
   "execution_count": 39,
   "metadata": {},
   "outputs": [
    {
     "name": "stdout",
     "output_type": "stream",
     "text": [
      "{'Юго-Восточный административный округ': 1, 'Северный административный округ': 2, 'Юго-Западный административный округ': 3, 'Троицкий и Новомосковский административные округа': 4, 'Восточный административный округ': 5, 'Южный административный округ': 6, 'Северо-Восточный административный округ': 7, 'Центральный административный округ': 8, 'Зеленоградский административный округ': 9, 'Западный административный округ': 10, 'Северо-Западный административный округ': 11, '': 12}\n"
     ]
    }
   ],
   "source": [
    "district_cnt = Counter()\n",
    "for row in groups['districts'].values:\n",
    "    if type(row) == list:\n",
    "        for x in row:\n",
    "            district_cnt[x] += 1\n",
    "            \n",
    "district_dict = {x: i + 1 for i, x in enumerate(district_cnt.keys())}\n",
    "print(district_dict)\n",
    "pd.DataFrame(district_dict.items(), columns=['name', 'district_id']).to_csv('districts.csv', index=None)"
   ]
  },
  {
   "cell_type": "code",
   "execution_count": 40,
   "metadata": {},
   "outputs": [],
   "source": [
    "zone_cnt = Counter()\n",
    "for row in groups['zones'].values:\n",
    "    if type(row) == list:\n",
    "        for x in row:\n",
    "            zone_cnt[x] += 1\n",
    "            \n",
    "zone_dict = {x: i + 1 for i, x in enumerate(zone_cnt.keys())}\n",
    "pd.DataFrame(zone_dict.items(), columns=['name', 'zone_id']).to_csv('zones.csv', index=None)"
   ]
  },
  {
   "cell_type": "code",
   "execution_count": 41,
   "metadata": {},
   "outputs": [
    {
     "data": {
      "application/vnd.jupyter.widget-view+json": {
       "model_id": "d9ba8b019ba24811be09937d863731d6",
       "version_major": 2,
       "version_minor": 0
      },
      "text/plain": [
       "  0%|          | 0/27003 [00:00<?, ?it/s]"
      ]
     },
     "metadata": {},
     "output_type": "display_data"
    }
   ],
   "source": [
    "result = []\n",
    "loc_id = 1\n",
    "for i in tqdm(groups.index):\n",
    "    row = groups.loc[i]\n",
    "    if row['is_mobile'] == 0 and row['is_online'] == 0 and row['match_loc'] == 1:\n",
    "        x = row['location']\n",
    "        items = list(set(\n",
    "            (row['уникальный номер'], district_dict[x[2][i]], zone_dict[x[3][i]], row['codes'][i])\n",
    "            for i in range(len(x[2]))\n",
    "        ))\n",
    "        for i in items:\n",
    "            result.append((loc_id, *i))\n",
    "            loc_id += 1"
   ]
  },
  {
   "cell_type": "code",
   "execution_count": 42,
   "metadata": {},
   "outputs": [],
   "source": [
    "group_locations = pd.DataFrame(result, columns=['location_group_id', 'group_id', 'district_id', 'zone_id', 'code'])"
   ]
  },
  {
   "cell_type": "code",
   "execution_count": 43,
   "metadata": {},
   "outputs": [],
   "source": [
    "group_locations.to_csv('group_locations.csv', index=None)"
   ]
  },
  {
   "cell_type": "code",
   "execution_count": 44,
   "metadata": {},
   "outputs": [
    {
     "data": {
      "application/vnd.jupyter.widget-view+json": {
       "model_id": "05d6d4950eb04ccda94e4d243c90ac19",
       "version_major": 2,
       "version_minor": 0
      },
      "text/plain": [
       "  0%|          | 0/27003 [00:00<?, ?it/s]"
      ]
     },
     "metadata": {},
     "output_type": "display_data"
    }
   ],
   "source": [
    "result = []\n",
    "\n",
    "for i in tqdm(groups.index):\n",
    "    row = groups.loc[i]\n",
    "    if len(row['timetable_plan']) > 0:\n",
    "        for item in row['timetable_plan']:\n",
    "            for x in item[2]:\n",
    "                result.append((row['уникальный номер'], item[0], item[1], x[0], x[1], x[2], 3))\n",
    "    if len(row['timetable_closed']) > 0:\n",
    "        for item in row['timetable_closed']:\n",
    "            for x in item[2]:\n",
    "                result.append((row['уникальный номер'], item[0], item[1], x[0], x[1], x[2], 1))\n",
    "                \n",
    "    if len(row['timetable_open']) > 0:\n",
    "        for item in row['timetable_open']:\n",
    "            for x in item[2]:\n",
    "                result.append((row['уникальный номер'], item[0], item[1], x[0], x[1], x[2], 2))"
   ]
  },
  {
   "cell_type": "code",
   "execution_count": 45,
   "metadata": {},
   "outputs": [],
   "source": [
    "timetable = pd.DataFrame(result, columns=['group_id', 'start_date', 'finish_date', 'weekday', 'start_time', 'finish_time', 'status_code'])"
   ]
  },
  {
   "cell_type": "code",
   "execution_count": 46,
   "metadata": {},
   "outputs": [],
   "source": [
    "timetable['event_length'] = (timetable['finish_time'] - timetable['start_time']).round(2)"
   ]
  },
  {
   "cell_type": "code",
   "execution_count": 47,
   "metadata": {},
   "outputs": [],
   "source": [
    "timetable.to_csv('timetable.csv', index=None)"
   ]
  }
 ],
 "metadata": {
  "kernelspec": {
   "display_name": "Python 3",
   "language": "python",
   "name": "python3"
  },
  "language_info": {
   "codemirror_mode": {
    "name": "ipython",
    "version": 3
   },
   "file_extension": ".py",
   "mimetype": "text/x-python",
   "name": "python",
   "nbconvert_exporter": "python",
   "pygments_lexer": "ipython3",
   "version": "3.8.10"
  }
 },
 "nbformat": 4,
 "nbformat_minor": 4
}
